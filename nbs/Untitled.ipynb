{
 "cells": [
  {
   "cell_type": "code",
   "execution_count": 1,
   "metadata": {
    "ExecuteTime": {
     "end_time": "2020-03-21T16:48:59.546479Z",
     "start_time": "2020-03-21T16:48:59.538022Z"
    }
   },
   "outputs": [],
   "source": [
    "# default_exp core"
   ]
  },
  {
   "cell_type": "markdown",
   "metadata": {},
   "source": [
    "# Core\n",
    "\n",
    "> Helper functions used throughout the library."
   ]
  },
  {
   "cell_type": "code",
   "execution_count": 2,
   "metadata": {
    "ExecuteTime": {
     "end_time": "2020-03-21T16:48:59.691949Z",
     "start_time": "2020-03-21T16:48:59.558311Z"
    }
   },
   "outputs": [],
   "source": [
    "#hide\n",
    "%load_ext autoreload\n",
    "%autoreload 2"
   ]
  },
  {
   "cell_type": "code",
   "execution_count": 3,
   "metadata": {
    "ExecuteTime": {
     "end_time": "2020-03-21T16:49:02.176777Z",
     "start_time": "2020-03-21T16:48:59.697982Z"
    }
   },
   "outputs": [
    {
     "data": {
      "text/html": [
       "<style>.container { width:100% !important; }</style>"
      ],
      "text/plain": [
       "<IPython.core.display.HTML object>"
      ]
     },
     "metadata": {},
     "output_type": "display_data"
    }
   ],
   "source": [
    "#hide\n",
    "from nbdev.showdoc import *\n",
    "from IPython.display import display, HTML\n",
    "display(HTML(\"<style>.container { width:100% !important; }</style>\"))"
   ]
  },
  {
   "cell_type": "code",
   "execution_count": 4,
   "metadata": {
    "ExecuteTime": {
     "end_time": "2020-03-21T16:49:11.915755Z",
     "start_time": "2020-03-21T16:49:02.184394Z"
    }
   },
   "outputs": [],
   "source": [
    "#export\n",
    "from fastcore.all import *\n",
    "from fastai2.torch_imports import *\n",
    "from fastai2.torch_core import *\n",
    "from fastai2.data.all import *"
   ]
  },
  {
   "cell_type": "code",
   "execution_count": 5,
   "metadata": {
    "ExecuteTime": {
     "end_time": "2020-03-21T16:49:12.111655Z",
     "start_time": "2020-03-21T16:49:11.922781Z"
    }
   },
   "outputs": [],
   "source": [
    "#export\n",
    "from timeseries.imports import *\n",
    "from timeseries.utils import *"
   ]
  },
  {
   "cell_type": "code",
   "execution_count": 45,
   "metadata": {},
   "outputs": [
    {
     "data": {
      "text/html": [],
      "text/plain": [
       "<IPython.core.display.HTML object>"
      ]
     },
     "metadata": {},
     "output_type": "display_data"
    },
    {
     "name": "stdout",
     "output_type": "stream",
     "text": [
      "/home/tako/.fastai/archive/m5_mini.zip\n"
     ]
    },
    {
     "data": {
      "text/plain": [
       "(#400) [Path('/home/tako/.fastai/data/m5_mini/FOODS_2_176_CA_1.json'),Path('/home/tako/.fastai/data/m5_mini/FOODS_2_181_CA_4.json'),Path('/home/tako/.fastai/data/m5_mini/FOODS_2_145_CA_3.json'),Path('/home/tako/.fastai/data/m5_mini/FOODS_2_141_CA_3.json'),Path('/home/tako/.fastai/data/m5_mini/FOODS_2_174_CA_1.json'),Path('/home/tako/.fastai/data/m5_mini/FOODS_2_124_CA_3.json'),Path('/home/tako/.fastai/data/m5_mini/FOODS_2_122_CA_4.json'),Path('/home/tako/.fastai/data/m5_mini/FOODS_2_168_CA_2.json'),Path('/home/tako/.fastai/data/m5_mini/FOODS_2_131_CA_3.json'),Path('/home/tako/.fastai/data/m5_mini/FOODS_2_102_CA_3.json')...]"
      ]
     },
     "execution_count": 45,
     "metadata": {},
     "output_type": "execute_result"
    }
   ],
   "source": [
    "from zipfile import ZipFile\n",
    "\n",
    "def zip_extract(fname, dest):\n",
    "    print(fname)\n",
    "    zipfile.ZipFile(fname, mode='r').extractall(dest)\n",
    "    \n",
    "URLs.m5_mini = 'https://motionnet-m4-dataset.s3.eu-central-1.amazonaws.com/m5_mini.zip'\n",
    "path = untar_data(URLs.m5_mini, extract_func=zip_extract)\n",
    "path.ls()"
   ]
  },
  {
   "cell_type": "code",
   "execution_count": 46,
   "metadata": {},
   "outputs": [
    {
     "ename": "NameError",
     "evalue": "name 'ImageBlock' is not defined",
     "output_type": "error",
     "traceback": [
      "\u001b[0;31m---------------------------------------------------------------------------\u001b[0m",
      "\u001b[0;31mNameError\u001b[0m                                 Traceback (most recent call last)",
      "\u001b[0;32m<ipython-input-46-5ee0cae60fe7>\u001b[0m in \u001b[0;36m<module>\u001b[0;34m\u001b[0m\n\u001b[0;32m----> 1\u001b[0;31m m5 = DataBlock(blocks = (ImageBlock(cls=PILImageBW),CategoryBlock),\n\u001b[0m\u001b[1;32m      2\u001b[0m                   \u001b[0mget_items\u001b[0m \u001b[0;34m=\u001b[0m \u001b[0mget_image_files\u001b[0m\u001b[0;34m,\u001b[0m\u001b[0;34m\u001b[0m\u001b[0;34m\u001b[0m\u001b[0m\n\u001b[1;32m      3\u001b[0m                   \u001b[0msplitter\u001b[0m \u001b[0;34m=\u001b[0m \u001b[0mGrandparentSplitter\u001b[0m\u001b[0;34m(\u001b[0m\u001b[0;34m)\u001b[0m\u001b[0;34m,\u001b[0m\u001b[0;34m\u001b[0m\u001b[0;34m\u001b[0m\u001b[0m\n\u001b[1;32m      4\u001b[0m                   get_y = parent_label)\n",
      "\u001b[0;31mNameError\u001b[0m: name 'ImageBlock' is not defined"
     ]
    }
   ],
   "source": [
    "m5 = DataBlock(blocks = (ImageBlock(cls=PILImageBW),CategoryBlock),\n",
    "                  get_items = get_image_files,\n",
    "                  splitter = GrandparentSplitter(),\n",
    "                  get_y = parent_label)"
   ]
  },
  {
   "cell_type": "code",
   "execution_count": 34,
   "metadata": {},
   "outputs": [
    {
     "data": {
      "text/plain": [
       "array(['standing', 'standing', 'standing', 'standing', 'standing',\n",
       "       'standing', 'standing', 'standing', 'standing', 'standing',\n",
       "       'running', 'running', 'running', 'running', 'running', 'running',\n",
       "       'running', 'running', 'running', 'running', 'walking', 'walking',\n",
       "       'walking', 'walking', 'walking', 'walking', 'walking', 'walking',\n",
       "       'walking', 'walking', 'badminton', 'badminton', 'badminton',\n",
       "       'badminton', 'badminton', 'badminton', 'badminton', 'badminton',\n",
       "       'badminton', 'badminton'], dtype='<U9')"
      ]
     },
     "execution_count": 34,
     "metadata": {},
     "output_type": "execute_result"
    }
   ],
   "source": [
    "name = 'BasicMotions'\n",
    "X_train, y_train = _load_dataset('BasicMotions',split='TRAIN', return_X_y=True)\n"
   ]
  },
  {
   "cell_type": "code",
   "execution_count": 9,
   "metadata": {},
   "outputs": [
    {
     "data": {
      "text/plain": [
       "array(['standing', 'standing', 'standing', 'standing', 'standing',\n",
       "       'standing', 'standing', 'standing', 'standing', 'standing',\n",
       "       'running', 'running', 'running', 'running', 'running', 'running',\n",
       "       'running', 'running', 'running', 'running', 'walking', 'walking',\n",
       "       'walking', 'walking', 'walking', 'walking', 'walking', 'walking',\n",
       "       'walking', 'walking', 'badminton', 'badminton', 'badminton',\n",
       "       'badminton', 'badminton', 'badminton', 'badminton', 'badminton',\n",
       "       'badminton', 'badminton'], dtype='<U9')"
      ]
     },
     "execution_count": 9,
     "metadata": {},
     "output_type": "execute_result"
    }
   ],
   "source": [
    "y_train"
   ]
  },
  {
   "cell_type": "code",
   "execution_count": null,
   "metadata": {},
   "outputs": [],
   "source": []
  }
 ],
 "metadata": {
  "kernelspec": {
   "display_name": "tsai2",
   "language": "python",
   "name": "tsai2"
  },
  "language_info": {
   "codemirror_mode": {
    "name": "ipython",
    "version": 3
   },
   "file_extension": ".py",
   "mimetype": "text/x-python",
   "name": "python",
   "nbconvert_exporter": "python",
   "pygments_lexer": "ipython3",
   "version": "3.7.2"
  }
 },
 "nbformat": 4,
 "nbformat_minor": 4
}
