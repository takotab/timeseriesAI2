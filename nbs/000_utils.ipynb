{
 "cells": [
  {
   "cell_type": "code",
   "execution_count": 4,
   "metadata": {
    "ExecuteTime": {
     "end_time": "2020-03-18T10:47:56.325117Z",
     "start_time": "2020-03-18T10:47:56.318619Z"
    }
   },
   "outputs": [],
   "source": [
    "# default_exp utils"
   ]
  },
  {
   "cell_type": "markdown",
   "metadata": {},
   "source": [
    "# Utilities\n",
    "\n",
    "> Helper functions used throughout the library not related to timeseries data."
   ]
  },
  {
   "cell_type": "code",
   "execution_count": 5,
   "metadata": {
    "ExecuteTime": {
     "end_time": "2020-03-18T10:47:56.351212Z",
     "start_time": "2020-03-18T10:47:56.338154Z"
    }
   },
   "outputs": [
    {
     "data": {
      "text/html": [
       "<style>.container { width:95% !important; }</style>"
      ],
      "text/plain": [
       "<IPython.core.display.HTML object>"
      ]
     },
     "metadata": {},
     "output_type": "display_data"
    }
   ],
   "source": [
    "#hide\n",
    "from nbdev.showdoc import *\n",
    "from IPython.display import display, HTML\n",
    "display(HTML(\"<style>.container { width:95% !important; }</style>\"))"
   ]
  },
  {
   "cell_type": "code",
   "execution_count": 6,
   "metadata": {
    "ExecuteTime": {
     "end_time": "2020-03-18T10:48:05.512085Z",
     "start_time": "2020-03-18T10:47:56.358520Z"
    }
   },
   "outputs": [],
   "source": [
    "#export\n",
    "from timeseries.imports import *"
   ]
  },
  {
   "cell_type": "code",
   "execution_count": 7,
   "metadata": {
    "ExecuteTime": {
     "end_time": "2020-03-18T10:48:05.631772Z",
     "start_time": "2020-03-18T10:48:05.520337Z"
    }
   },
   "outputs": [],
   "source": [
    "#export\n",
    "def ToTensor(o):\n",
    "    if isinstance(o, np.ndarray):  return torch.from_numpy(o)\n",
    "    if not isinstance(o, torch.Tensor): print(f\"Can't convert {type(o)} to torch.Tensor\")\n",
    "    return o\n",
    "\n",
    "\n",
    "def ToArray(o):\n",
    "    if isinstance(o, torch.Tensor): o = o.cpu().numpy()\n",
    "    elif not isinstance(o, np.ndarray): print(f\"Can't convert {type(o)} to np.array\")\n",
    "    return o\n",
    "\n",
    "\n",
    "def To3DTensor(o):\n",
    "    o = ToTensor(o)\n",
    "    if o.ndim == 1: o = o[None, None]\n",
    "    elif o.ndim == 2: o = o[:, None]\n",
    "    assert o.ndim == 3, f'Please, review input dimensions {o.ndim}'\n",
    "    return o\n",
    "\n",
    "\n",
    "def To2DTensor(o):\n",
    "    o = ToTensor(o)\n",
    "    if o.ndim == 1: o = o[None]\n",
    "    elif o.ndim == 3: o = torch.squeeze(o, 0)\n",
    "    assert o.ndim == 2, f'Please, review input dimensions {o.ndim}'\n",
    "    return o\n",
    "\n",
    "\n",
    "def To1DTensor(o):\n",
    "    o = ToTensor(o)\n",
    "    if o.ndim == 3: o = torch.squeeze(o, 1)\n",
    "    if o.ndim == 2: o = torch.squeeze(o, 0)\n",
    "    assert o.ndim == 1, f'Please, review input dimensions {o.ndim}'\n",
    "    return o\n",
    "\n",
    "\n",
    "def To3DArray(o):\n",
    "    o = ToArray(o)\n",
    "    if o.ndim == 1: o = o[None, None]\n",
    "    elif o.ndim == 2: o = o[:, None]\n",
    "    elif o.ndim == 4: o = o[0]\n",
    "    assert o.ndim == 3, f'Please, review input dimensions {o.ndim}'\n",
    "    return o\n",
    "\n",
    "\n",
    "def To2DArray(o):\n",
    "    o = ToArray(o)\n",
    "    if o.ndim == 1: o = o[None]\n",
    "    if o.ndim == 3: o = np.squeeze(o, 0)\n",
    "    assert o.ndim == 2, f'Please, review input dimensions {o.ndim}'\n",
    "    return o\n",
    "\n",
    "\n",
    "def To1DArray(o):\n",
    "    o = ToArray(o)\n",
    "    if o.ndim == 3: o = np.squeeze(o, 1)\n",
    "    if o.ndim == 2: o = np.squeeze(o, 0)\n",
    "    assert o.ndim == 1, f'Please, review input dimensions {o.ndim}'\n",
    "    return o\n",
    "    \n",
    "    \n",
    "def To3D(o):\n",
    "    if isinstance(o, np.ndarray): return To3DArray(o)\n",
    "    if isinstance(o, torch.Tensor): return To3DTensor(o)\n",
    "    \n",
    "    \n",
    "def To2D(o):\n",
    "    if isinstance(o, np.ndarray): return To2DArray(o)\n",
    "    if isinstance(o, torch.Tensor): return To2DTensor(o)\n",
    "    \n",
    "    \n",
    "def To1D(o):\n",
    "    if isinstance(o, np.ndarray): return To1DArray(o)\n",
    "    if isinstance(o, torch.Tensor): return To1DTensor(o)\n",
    "    \n",
    "    \n",
    "def To2DPlus(o):\n",
    "    if o.ndim >= 2: return o\n",
    "    if isinstance(o, np.ndarray): return To2DArray(o)\n",
    "    elif isinstance(o, torch.Tensor): return To2DTensor(o)\n",
    "    \n",
    "    \n",
    "def To3DPlus(o):\n",
    "    if o.ndim >= 3: return o\n",
    "    if isinstance(o, np.ndarray): return To3DArray(o)\n",
    "    elif isinstance(o, torch.Tensor): return To3DTensor(o)\n",
    "    \n",
    "    \n",
    "def To2DPlusTensor(o):\n",
    "    return To2DPlus(ToTensor(o))\n",
    "\n",
    "\n",
    "def To2DPlusArray(o):\n",
    "    return To2DPlus(ToArray(o))\n",
    "\n",
    "\n",
    "def To3DPlusTensor(o):\n",
    "    return To3DPlus(ToTensor(o))\n",
    "\n",
    "\n",
    "def To3DPlusArray(o):\n",
    "    return To3DPlus(ToArray(o))\n",
    "\n",
    "\n",
    "def ToType(dtype):\n",
    "    def _to_type(o, dtype=dtype):\n",
    "        if isinstance(o, np.ndarray) and o.dtype != dtype: o = o.astype(dtype)\n",
    "        elif isinstance(o, torch.Tensor) and o.dtype != dtype: o = o.to(dtype=dtype)\n",
    "        return o\n",
    "    return _to_type"
   ]
  },
  {
   "cell_type": "code",
   "execution_count": 8,
   "metadata": {
    "ExecuteTime": {
     "end_time": "2020-03-18T10:48:05.785901Z",
     "start_time": "2020-03-18T10:48:05.640803Z"
    }
   },
   "outputs": [],
   "source": [
    "a = np.random.rand(100).astype(np.float32)\n",
    "b = torch.from_numpy(a).float()\n",
    "test_eq(ToTensor(a), b)\n",
    "test_eq(a, ToArray(b))\n",
    "test_eq(To3DTensor(a).ndim, 3)\n",
    "test_eq(To2DTensor(a).ndim, 2)\n",
    "test_eq(To1DTensor(a).ndim, 1)\n",
    "test_eq(To3DArray(b).ndim, 3)\n",
    "test_eq(To2DArray(b).ndim, 2)\n",
    "test_eq(To1DArray(b).ndim, 1)"
   ]
  },
  {
   "cell_type": "code",
   "execution_count": 9,
   "metadata": {
    "ExecuteTime": {
     "end_time": "2020-03-18T10:48:05.816051Z",
     "start_time": "2020-03-18T10:48:05.793665Z"
    }
   },
   "outputs": [],
   "source": [
    "#export\n",
    "import math\n",
    "def bytes2size(size_bytes):\n",
    "    if size_bytes == 0: return \"0B\"\n",
    "    size_name = (\"B\", \"KB\", \"MB\", \"GB\", \"TB\", \"PB\", \"EB\", \"ZB\", \"YB\")\n",
    "    i = int(math.floor(math.log(size_bytes, 1024)))\n",
    "    p = math.pow(1024, i)\n",
    "    s = round(size_bytes / p, 2)\n",
    "    return \"%s %s\" % (s, size_name[i])\n",
    "\n",
    "def bytes2GB(bytes):\n",
    "    return round(bytes / math.pow(1024, 3), 2)"
   ]
  },
  {
   "cell_type": "code",
   "execution_count": 10,
   "metadata": {
    "ExecuteTime": {
     "end_time": "2020-03-18T10:48:05.855017Z",
     "start_time": "2020-03-18T10:48:05.825695Z"
    }
   },
   "outputs": [],
   "source": [
    "#export\n",
    "def delete_all_in_dir(tgt_dir:str, exception:Union[str, tuple]=None):\n",
    "    if exception is not None and len(L(exception)) > 1: exception = tuple(exception)\n",
    "    for file in os.listdir(tgt_dir):\n",
    "        if exception is not None and file.endswith(exception): continue\n",
    "        file_path = os.path.join(tgt_dir, file)\n",
    "        if os.path.isfile(file_path) or os.path.islink(file_path): os.unlink(file_path)\n",
    "        elif os.path.isdir(file_path): shutil.rmtree(file_path)"
   ]
  },
  {
   "cell_type": "code",
   "execution_count": 11,
   "metadata": {
    "ExecuteTime": {
     "end_time": "2020-03-18T10:48:05.881112Z",
     "start_time": "2020-03-18T10:48:05.864654Z"
    }
   },
   "outputs": [],
   "source": [
    "#export\n",
    "def reverse_dict(dictionary): \n",
    "    return {v: k for k, v in dictionary.items()}"
   ]
  },
  {
   "cell_type": "code",
   "execution_count": 12,
   "metadata": {
    "ExecuteTime": {
     "end_time": "2020-03-18T10:48:05.905865Z",
     "start_time": "2020-03-18T10:48:05.894491Z"
    }
   },
   "outputs": [],
   "source": [
    "#export\n",
    "def is_tuple(o): return isinstance(o, tuple)"
   ]
  },
  {
   "cell_type": "code",
   "execution_count": 13,
   "metadata": {
    "ExecuteTime": {
     "end_time": "2020-03-18T10:48:05.929634Z",
     "start_time": "2020-03-18T10:48:05.921883Z"
    }
   },
   "outputs": [],
   "source": [
    "#export\n",
    "def itemify(*o): return L(*o).zip()"
   ]
  },
  {
   "cell_type": "code",
   "execution_count": 14,
   "metadata": {
    "ExecuteTime": {
     "end_time": "2020-03-18T10:48:05.947449Z",
     "start_time": "2020-03-18T10:48:05.936902Z"
    }
   },
   "outputs": [],
   "source": [
    "#export\n",
    "def ifnotnone(a, b):\n",
    "    \"`a` if `a` is None else `b`\"\n",
    "    return a if a is None else b"
   ]
  },
  {
   "cell_type": "code",
   "execution_count": 15,
   "metadata": {
    "ExecuteTime": {
     "end_time": "2020-03-18T10:48:05.966485Z",
     "start_time": "2020-03-18T10:48:05.955948Z"
    }
   },
   "outputs": [],
   "source": [
    "#hide\n",
    "test_eq(ifnotnone(None, 2), None)\n",
    "test_eq(ifnotnone(1, 2), 2)"
   ]
  },
  {
   "cell_type": "code",
   "execution_count": 16,
   "metadata": {
    "ExecuteTime": {
     "end_time": "2020-03-18T10:48:05.984232Z",
     "start_time": "2020-03-18T10:48:05.974835Z"
    }
   },
   "outputs": [],
   "source": [
    "#export\n",
    "def ifnoneelse(a, b, c):\n",
    "    \"`b` if `a` is None else `c`\"\n",
    "    return b if a is None else c"
   ]
  },
  {
   "cell_type": "code",
   "execution_count": 17,
   "metadata": {
    "ExecuteTime": {
     "end_time": "2020-03-18T10:48:06.007920Z",
     "start_time": "2020-03-18T10:48:05.992912Z"
    }
   },
   "outputs": [],
   "source": [
    "#hide\n",
    "test_eq(ifnoneelse(None, 1, 2), 1)\n",
    "test_eq(ifnoneelse(1, 2, 3), 3)"
   ]
  },
  {
   "cell_type": "code",
   "execution_count": 18,
   "metadata": {
    "ExecuteTime": {
     "end_time": "2020-03-18T10:48:13.542602Z",
     "start_time": "2020-03-18T10:48:06.014922Z"
    }
   },
   "outputs": [
    {
     "data": {
      "application/javascript": [
       "IPython.notebook.save_checkpoint()"
      ],
      "text/plain": [
       "<IPython.core.display.Javascript object>"
      ]
     },
     "metadata": {},
     "output_type": "display_data"
    },
    {
     "name": "stdout",
     "output_type": "stream",
     "text": [
      "\n",
      "Current notebook saved.\n",
      "\n",
      "Converted 000_utils.ipynb.\n",
      "Converted 001_core.ipynb.\n",
      "Converted 002_data.ipynb.\n",
      "Converted 100_layers.ipynb.\n",
      "Converted 101_ResNet.ipynb.\n",
      "Converted 102_InceptionTime.ipynb.\n",
      "Converted index.ipynb.\n",
      "\n",
      "\n",
      "Correct conversion!\n",
      "18-03-2020 10:48:13\n"
     ]
    }
   ],
   "source": [
    "#hide\n",
    "from save_nb import *\n",
    "from nbdev.export import notebook2script\n",
    "save_nb()\n",
    "notebook2script()\n",
    "test_eq(last_saved() < 10, True)"
   ]
  }
 ],
 "metadata": {
  "kernelspec": {
   "display_name": "Python 3",
   "language": "python",
   "name": "python3"
  },
  "language_info": {
   "codemirror_mode": {
    "name": "ipython",
    "version": 3
   },
   "file_extension": ".py",
   "mimetype": "text/x-python",
   "name": "python",
   "nbconvert_exporter": "python",
   "pygments_lexer": "ipython3",
   "version": "3.7.3"
  },
  "toc": {
   "base_numbering": 1,
   "nav_menu": {},
   "number_sections": true,
   "sideBar": true,
   "skip_h1_title": false,
   "title_cell": "Table of Contents",
   "title_sidebar": "Contents",
   "toc_cell": false,
   "toc_position": {},
   "toc_section_display": true,
   "toc_window_display": false
  }
 },
 "nbformat": 4,
 "nbformat_minor": 2
}
