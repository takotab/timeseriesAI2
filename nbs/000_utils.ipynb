{
 "cells": [
  {
   "cell_type": "code",
   "execution_count": 33,
   "metadata": {
    "ExecuteTime": {
     "end_time": "2020-03-21T16:50:14.107236Z",
     "start_time": "2020-03-21T16:50:14.100823Z"
    }
   },
   "outputs": [],
   "source": [
    "# default_exp utils"
   ]
  },
  {
   "cell_type": "markdown",
   "metadata": {},
   "source": [
    "# Utilities\n",
    "\n",
    "> Helper functions used throughout the library not related to timeseries data."
   ]
  },
  {
   "cell_type": "code",
   "execution_count": 34,
   "metadata": {
    "ExecuteTime": {
     "end_time": "2020-03-21T16:50:14.139896Z",
     "start_time": "2020-03-21T16:50:14.124150Z"
    }
   },
   "outputs": [
    {
     "data": {
      "text/html": [
       "<style>.container { width:95% !important; }</style>"
      ],
      "text/plain": [
       "<IPython.core.display.HTML object>"
      ]
     },
     "metadata": {},
     "output_type": "display_data"
    }
   ],
   "source": [
    "#hide\n",
    "from nbdev.showdoc import *\n",
    "from IPython.display import display, HTML\n",
    "display(HTML(\"<style>.container { width:95% !important; }</style>\"))"
   ]
  },
  {
   "cell_type": "code",
   "execution_count": 35,
   "metadata": {
    "ExecuteTime": {
     "end_time": "2020-03-21T16:50:14.155950Z",
     "start_time": "2020-03-21T16:50:14.148101Z"
    }
   },
   "outputs": [],
   "source": [
    "#export\n",
    "from timeseries.imports import *"
   ]
  },
  {
   "cell_type": "code",
   "execution_count": 36,
   "metadata": {
    "ExecuteTime": {
     "end_time": "2020-03-21T16:50:14.277446Z",
     "start_time": "2020-03-21T16:50:14.168267Z"
    }
   },
   "outputs": [],
   "source": [
    "#export\n",
    "def ToTensor(o):\n",
    "    if isinstance(o, torch.Tensor): return o\n",
    "    elif isinstance(o, np.ndarray):  return torch.from_numpy(o)\n",
    "    assert False, f\"Can't convert {type(o)} to torch.Tensor\"\n",
    "\n",
    "\n",
    "def ToArray(o):\n",
    "    if isinstance(o, np.ndarray): return o\n",
    "    elif isinstance(o, torch.Tensor): return o.cpu().numpy()\n",
    "    assert False, f\"Can't convert {type(o)} to np.array\"\n",
    "\n",
    "\n",
    "def To3DTensor(o):\n",
    "    o = ToTensor(o)\n",
    "    if o.ndim == 3: return o\n",
    "    elif o.ndim == 1: return o[None, None]\n",
    "    elif o.ndim == 2: return o[:, None]\n",
    "    assert False, f'Please, review input dimensions {o.ndim}'\n",
    "\n",
    "\n",
    "def To2DTensor(o):\n",
    "    o = ToTensor(o)\n",
    "    if o.ndim == 2: return o\n",
    "    elif o.ndim == 1: return o[None]\n",
    "    elif o.ndim == 3: return torch.squeeze(o, 0)\n",
    "    assert False, f'Please, review input dimensions {o.ndim}'\n",
    "\n",
    "\n",
    "def To1DTensor(o):\n",
    "    o = ToTensor(o)\n",
    "    if o.ndim == 1: return o\n",
    "    elif o.ndim == 3: return torch.squeeze(o, 1)\n",
    "    if o.ndim == 2: return torch.squeeze(o, 0)\n",
    "    assert False, f'Please, review input dimensions {o.ndim}'\n",
    "\n",
    "\n",
    "def To3DArray(o):\n",
    "    o = ToArray(o)\n",
    "    if o.ndim == 3: return o\n",
    "    elif o.ndim == 1: return o[None, None]\n",
    "    elif o.ndim == 2: return o[:, None]\n",
    "    assert False, f'Please, review input dimensions {o.ndim}'\n",
    "\n",
    "\n",
    "def To2DArray(o):\n",
    "    o = ToArray(o)\n",
    "    if o.ndim == 2: return o\n",
    "    elif o.ndim == 1: return o[None]\n",
    "    elif o.ndim == 3: return np.squeeze(o, 0)\n",
    "    assert False, f'Please, review input dimensions {o.ndim}'\n",
    "\n",
    "\n",
    "def To1DArray(o):\n",
    "    o = ToArray(o)\n",
    "    if o.ndim == 1: return o\n",
    "    elif o.ndim == 3: o = np.squeeze(o, 1)\n",
    "    elif o.ndim == 2: o = np.squeeze(o, 0)\n",
    "    assert False, f'Please, review input dimensions {o.ndim}'\n",
    "    \n",
    "    \n",
    "def To3D(o):\n",
    "    if o.ndim == 3: return o\n",
    "    if isinstance(o, np.ndarray): return To3DArray(o)\n",
    "    if isinstance(o, torch.Tensor): return To3DTensor(o)\n",
    "    \n",
    "    \n",
    "def To2D(o):\n",
    "    if o.ndim == 2: return o\n",
    "    if isinstance(o, np.ndarray): return To2DArray(o)\n",
    "    if isinstance(o, torch.Tensor): return To2DTensor(o)\n",
    "    \n",
    "    \n",
    "def To1D(o):\n",
    "    if o.ndim == 1: return o\n",
    "    if isinstance(o, np.ndarray): return To1DArray(o)\n",
    "    if isinstance(o, torch.Tensor): return To1DTensor(o)\n",
    "    \n",
    "    \n",
    "def To2DPlus(o):\n",
    "    if o.ndim >= 2: return o\n",
    "    if isinstance(o, np.ndarray): return To2DArray(o)\n",
    "    elif isinstance(o, torch.Tensor): return To2DTensor(o)\n",
    "    \n",
    "    \n",
    "def To3DPlus(o):\n",
    "    if o.ndim >= 3: return o\n",
    "    if isinstance(o, np.ndarray): return To3DArray(o)\n",
    "    elif isinstance(o, torch.Tensor): return To3DTensor(o)\n",
    "    \n",
    "    \n",
    "def To2DPlusTensor(o):\n",
    "    return To2DPlus(ToTensor(o))\n",
    "\n",
    "\n",
    "def To2DPlusArray(o):\n",
    "    return To2DPlus(ToArray(o))\n",
    "\n",
    "\n",
    "def To3DPlusTensor(o):\n",
    "    return To3DPlus(ToTensor(o))\n",
    "\n",
    "\n",
    "def To3DPlusArray(o):\n",
    "    return To3DPlus(ToArray(o))\n",
    "\n",
    "\n",
    "def ToType(dtype):\n",
    "    def _to_type(o, dtype=dtype):\n",
    "        if o.dtype == dtype: return o\n",
    "        elif isinstance(o, torch.Tensor): o = o.to(dtype=dtype)\n",
    "        elif isinstance(o, np.ndarray): o = o.astype(dtype)\n",
    "        return o\n",
    "    return _to_type"
   ]
  },
  {
   "cell_type": "code",
   "execution_count": 37,
   "metadata": {
    "ExecuteTime": {
     "end_time": "2020-03-21T16:50:14.306428Z",
     "start_time": "2020-03-21T16:50:14.284957Z"
    }
   },
   "outputs": [],
   "source": [
    "a = np.random.rand(100).astype(np.float32)\n",
    "b = torch.from_numpy(a).float()\n",
    "test_eq(ToTensor(a), b)\n",
    "test_eq(a, ToArray(b))\n",
    "test_eq(To3DTensor(a).ndim, 3)\n",
    "test_eq(To2DTensor(a).ndim, 2)\n",
    "test_eq(To1DTensor(a).ndim, 1)\n",
    "test_eq(To3DArray(b).ndim, 3)\n",
    "test_eq(To2DArray(b).ndim, 2)\n",
    "test_eq(To1DArray(b).ndim, 1)"
   ]
  },
  {
   "cell_type": "code",
   "execution_count": 38,
   "metadata": {
    "ExecuteTime": {
     "end_time": "2020-03-21T16:50:14.333810Z",
     "start_time": "2020-03-21T16:50:14.312582Z"
    }
   },
   "outputs": [],
   "source": [
    "#export\n",
    "import math\n",
    "def bytes2size(size_bytes):\n",
    "    if size_bytes == 0: return \"0B\"\n",
    "    size_name = (\"B\", \"KB\", \"MB\", \"GB\", \"TB\", \"PB\", \"EB\", \"ZB\", \"YB\")\n",
    "    i = int(math.floor(math.log(size_bytes, 1024)))\n",
    "    p = math.pow(1024, i)\n",
    "    s = round(size_bytes / p, 2)\n",
    "    return \"%s %s\" % (s, size_name[i])\n",
    "\n",
    "def bytes2GB(bytes):\n",
    "    return round(bytes / math.pow(1024, 3), 2)"
   ]
  },
  {
   "cell_type": "code",
   "execution_count": 39,
   "metadata": {
    "ExecuteTime": {
     "end_time": "2020-03-21T16:50:14.362595Z",
     "start_time": "2020-03-21T16:50:14.341583Z"
    }
   },
   "outputs": [],
   "source": [
    "#export\n",
    "def delete_all_in_dir(tgt_dir:str, exception:Union[str, tuple]=None):\n",
    "    if exception is not None and len(L(exception)) > 1: exception = tuple(exception)\n",
    "    for file in os.listdir(tgt_dir):\n",
    "        if exception is not None and file.endswith(exception): continue\n",
    "        file_path = os.path.join(tgt_dir, file)\n",
    "        if os.path.isfile(file_path) or os.path.islink(file_path): os.unlink(file_path)\n",
    "        elif os.path.isdir(file_path): shutil.rmtree(file_path)"
   ]
  },
  {
   "cell_type": "code",
   "execution_count": 40,
   "metadata": {
    "ExecuteTime": {
     "end_time": "2020-03-21T16:50:14.379117Z",
     "start_time": "2020-03-21T16:50:14.368733Z"
    }
   },
   "outputs": [],
   "source": [
    "#export\n",
    "def reverse_dict(dictionary): \n",
    "    return {v: k for k, v in dictionary.items()}"
   ]
  },
  {
   "cell_type": "code",
   "execution_count": 41,
   "metadata": {
    "ExecuteTime": {
     "end_time": "2020-03-21T16:50:14.396882Z",
     "start_time": "2020-03-21T16:50:14.387241Z"
    }
   },
   "outputs": [],
   "source": [
    "#export\n",
    "def is_tuple(o): return isinstance(o, tuple)"
   ]
  },
  {
   "cell_type": "code",
   "execution_count": 42,
   "metadata": {
    "ExecuteTime": {
     "end_time": "2020-03-21T16:50:14.422080Z",
     "start_time": "2020-03-21T16:50:14.411871Z"
    }
   },
   "outputs": [],
   "source": [
    "#export\n",
    "def itemify(*o): return L(*o).zip()"
   ]
  },
  {
   "cell_type": "code",
   "execution_count": 43,
   "metadata": {
    "ExecuteTime": {
     "end_time": "2020-03-21T16:50:14.442699Z",
     "start_time": "2020-03-21T16:50:14.431483Z"
    }
   },
   "outputs": [],
   "source": [
    "#export\n",
    "def ifnotnone(a, b):\n",
    "    \"`a` if `a` is None else `b`\"\n",
    "    return a if a is None else b"
   ]
  },
  {
   "cell_type": "code",
   "execution_count": 44,
   "metadata": {
    "ExecuteTime": {
     "end_time": "2020-03-21T16:50:14.461804Z",
     "start_time": "2020-03-21T16:50:14.450810Z"
    }
   },
   "outputs": [],
   "source": [
    "#hide\n",
    "test_eq(ifnotnone(None, 2), None)\n",
    "test_eq(ifnotnone(1, 2), 2)"
   ]
  },
  {
   "cell_type": "code",
   "execution_count": 45,
   "metadata": {
    "ExecuteTime": {
     "end_time": "2020-03-21T16:50:14.481175Z",
     "start_time": "2020-03-21T16:50:14.469781Z"
    }
   },
   "outputs": [],
   "source": [
    "#export\n",
    "def ifnoneelse(a, b, c):\n",
    "    \"`b` if `a` is None else `c`\"\n",
    "    return b if a is None else c"
   ]
  },
  {
   "cell_type": "code",
   "execution_count": 46,
   "metadata": {
    "ExecuteTime": {
     "end_time": "2020-03-21T16:50:14.498125Z",
     "start_time": "2020-03-21T16:50:14.488474Z"
    }
   },
   "outputs": [],
   "source": [
    "#hide\n",
    "test_eq(ifnoneelse(None, 1, 2), 1)\n",
    "test_eq(ifnoneelse(1, 2, 3), 3)"
   ]
  },
  {
   "cell_type": "code",
   "execution_count": 47,
   "metadata": {
    "ExecuteTime": {
     "end_time": "2020-03-21T16:50:14.515604Z",
     "start_time": "2020-03-21T16:50:14.505564Z"
    }
   },
   "outputs": [],
   "source": [
    "#export\n",
    "# This is a convenience function will use later proposed by Thomas Capelle @tcapelle to be able to easily benchmark performance\n",
    "def cycle_dl(dl):\n",
    "    for x,y in iter(dl): pass"
   ]
  },
  {
   "cell_type": "code",
   "execution_count": null,
   "metadata": {
    "ExecuteTime": {
     "start_time": "2020-03-21T16:50:14.193Z"
    }
   },
   "outputs": [],
   "source": [
    "#hide\n",
    "from save_nb import *\n",
    "from nbdev.export import notebook2script\n",
    "save_nb()\n",
    "notebook2script()\n",
    "test_eq(last_saved() < 10, True)"
   ]
  }
 ],
 "metadata": {
  "kernelspec": {
   "display_name": "Python 3",
   "language": "python",
   "name": "python3"
  },
  "language_info": {
   "codemirror_mode": {
    "name": "ipython",
    "version": 3
   },
   "file_extension": ".py",
   "mimetype": "text/x-python",
   "name": "python",
   "nbconvert_exporter": "python",
   "pygments_lexer": "ipython3",
   "version": "3.7.3"
  },
  "toc": {
   "base_numbering": 1,
   "nav_menu": {},
   "number_sections": true,
   "sideBar": true,
   "skip_h1_title": false,
   "title_cell": "Table of Contents",
   "title_sidebar": "Contents",
   "toc_cell": false,
   "toc_position": {},
   "toc_section_display": true,
   "toc_window_display": false
  }
 },
 "nbformat": 4,
 "nbformat_minor": 2
}
