{
 "cells": [
  {
   "cell_type": "code",
   "execution_count": 9,
   "metadata": {
    "ExecuteTime": {
     "end_time": "2020-03-25T12:11:52.316502Z",
     "start_time": "2020-03-25T12:11:52.262788Z"
    }
   },
   "outputs": [
    {
     "name": "stdout",
     "output_type": "stream",
     "text": [
      "1.18.1\n"
     ]
    }
   ],
   "source": [
    "import fastcore\n",
    "import numpy as np\n",
    "print(np.__version__)"
   ]
  },
  {
   "cell_type": "code",
   "execution_count": 2,
   "metadata": {
    "ExecuteTime": {
     "end_time": "2020-03-25T11:51:44.790492Z",
     "start_time": "2020-03-25T11:51:44.757183Z"
    }
   },
   "outputs": [
    {
     "data": {
      "text/plain": [
       "array([[[0.81209188, 0.03683724, 0.33278077, 0.74123426],\n",
       "        [0.07412857, 0.95171635, 0.64683624, 0.28508878],\n",
       "        [0.37023558, 0.28981112, 0.28669563, 0.38584151]],\n",
       "\n",
       "       [[0.77340449, 0.96304273, 0.2942297 , 0.17765222],\n",
       "        [0.89758134, 0.44152852, 0.52195013, 0.96120829],\n",
       "        [0.06564215, 0.04786575, 0.0305098 , 0.08011283]]])"
      ]
     },
     "execution_count": 2,
     "metadata": {},
     "output_type": "execute_result"
    }
   ],
   "source": [
    "a = np.random.rand(2,3,4)\n",
    "a"
   ]
  },
  {
   "cell_type": "code",
   "execution_count": 3,
   "metadata": {
    "ExecuteTime": {
     "end_time": "2020-03-25T11:51:44.814355Z",
     "start_time": "2020-03-25T11:51:44.800131Z"
    }
   },
   "outputs": [],
   "source": [
    "np.save('../data/a', a)"
   ]
  },
  {
   "cell_type": "code",
   "execution_count": 4,
   "metadata": {
    "ExecuteTime": {
     "end_time": "2020-03-25T11:51:44.840008Z",
     "start_time": "2020-03-25T11:51:44.821658Z"
    }
   },
   "outputs": [
    {
     "data": {
      "text/plain": [
       "array([[[0.81209188, 0.03683724, 0.33278077, 0.74123426],\n",
       "        [0.07412857, 0.95171635, 0.64683624, 0.28508878],\n",
       "        [0.37023558, 0.28981112, 0.28669563, 0.38584151]],\n",
       "\n",
       "       [[0.77340449, 0.96304273, 0.2942297 , 0.17765222],\n",
       "        [0.89758134, 0.44152852, 0.52195013, 0.96120829],\n",
       "        [0.06564215, 0.04786575, 0.0305098 , 0.08011283]]])"
      ]
     },
     "execution_count": 4,
     "metadata": {},
     "output_type": "execute_result"
    }
   ],
   "source": [
    "a2 = np.load('../data/a.npy')\n",
    "a2"
   ]
  },
  {
   "cell_type": "code",
   "execution_count": 5,
   "metadata": {
    "ExecuteTime": {
     "end_time": "2020-03-25T11:51:44.857007Z",
     "start_time": "2020-03-25T11:51:44.846646Z"
    }
   },
   "outputs": [],
   "source": [
    "from fastcore import *"
   ]
  },
  {
   "cell_type": "code",
   "execution_count": 6,
   "metadata": {
    "ExecuteTime": {
     "end_time": "2020-03-25T11:51:44.883314Z",
     "start_time": "2020-03-25T11:51:44.866511Z"
    }
   },
   "outputs": [
    {
     "data": {
      "text/plain": [
       "array([[[0.27023134, 0.38638294, 0.6718809 , 0.12980171],\n",
       "        [0.25537018, 0.31646077, 0.21284493, 0.78799734],\n",
       "        [0.85711907, 0.2200497 , 0.40617028, 0.4760477 ]],\n",
       "\n",
       "       [[0.82986724, 0.24746853, 0.7427751 , 0.57103889],\n",
       "        [0.91716527, 0.49048108, 0.65222842, 0.99501327],\n",
       "        [0.75621566, 0.59359361, 0.74298057, 0.34125376]]])"
      ]
     },
     "execution_count": 6,
     "metadata": {},
     "output_type": "execute_result"
    }
   ],
   "source": [
    "b = np.random.rand(2,3,4)\n",
    "b"
   ]
  },
  {
   "cell_type": "code",
   "execution_count": 7,
   "metadata": {
    "ExecuteTime": {
     "end_time": "2020-03-25T11:51:44.906468Z",
     "start_time": "2020-03-25T11:51:44.895043Z"
    }
   },
   "outputs": [],
   "source": [
    "np.save('../data/b', b)"
   ]
  },
  {
   "cell_type": "code",
   "execution_count": 8,
   "metadata": {
    "ExecuteTime": {
     "end_time": "2020-03-25T11:51:44.962383Z",
     "start_time": "2020-03-25T11:51:44.913995Z"
    }
   },
   "outputs": [
    {
     "data": {
      "text/plain": [
       "memmap([[[0.27023134, 0.38638294, 0.6718809 , 0.12980171],\n",
       "         [0.25537018, 0.31646077, 0.21284493, 0.78799734],\n",
       "         [0.85711907, 0.2200497 , 0.40617028, 0.4760477 ]],\n",
       "\n",
       "        [[0.82986724, 0.24746853, 0.7427751 , 0.57103889],\n",
       "         [0.91716527, 0.49048108, 0.65222842, 0.99501327],\n",
       "         [0.75621566, 0.59359361, 0.74298057, 0.34125376]]])"
      ]
     },
     "execution_count": 8,
     "metadata": {},
     "output_type": "execute_result"
    }
   ],
   "source": [
    "b2 = np.load('../data/b.npy', mmap_mode='r')\n",
    "b2"
   ]
  },
  {
   "cell_type": "code",
   "execution_count": null,
   "metadata": {},
   "outputs": [],
   "source": [
    "pip install git+https://github.com/fastai/fastai2 \n",
    "pip install git+https://github.com/fastai/fastcore\n"
   ]
  }
 ],
 "metadata": {
  "kernelspec": {
   "display_name": "Python 3",
   "language": "python",
   "name": "python3"
  },
  "language_info": {
   "codemirror_mode": {
    "name": "ipython",
    "version": 3
   },
   "file_extension": ".py",
   "mimetype": "text/x-python",
   "name": "python",
   "nbconvert_exporter": "python",
   "pygments_lexer": "ipython3",
   "version": "3.7.3"
  },
  "toc": {
   "base_numbering": 1,
   "nav_menu": {},
   "number_sections": true,
   "sideBar": true,
   "skip_h1_title": false,
   "title_cell": "Table of Contents",
   "title_sidebar": "Contents",
   "toc_cell": false,
   "toc_position": {},
   "toc_section_display": true,
   "toc_window_display": false
  }
 },
 "nbformat": 4,
 "nbformat_minor": 2
}
