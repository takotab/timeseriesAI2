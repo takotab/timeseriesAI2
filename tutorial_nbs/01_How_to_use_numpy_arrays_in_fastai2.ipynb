{
 "cells": [
  {
   "cell_type": "markdown",
   "metadata": {
    "colab_type": "text",
    "id": "Z1em7GZAi-5d"
   },
   "source": [
    "created by Ignacio Oguiza - email: oguiza@gmail.com"
   ]
  },
  {
   "cell_type": "markdown",
   "metadata": {
    "colab_type": "text",
    "id": "2ab4lPk5i-5n"
   },
   "source": [
    "# How to work with numpy arrays in fastai2: time series classification"
   ]
  },
  {
   "cell_type": "markdown",
   "metadata": {
    "colab_type": "text",
    "heading_collapsed": true,
    "id": "t79u4t_V8L4C"
   },
   "source": [
    "## Requirements"
   ]
  },
  {
   "cell_type": "markdown",
   "metadata": {
    "colab_type": "text",
    "hidden": true,
    "id": "LKFoOVSfi-5r"
   },
   "source": [
    "I'd like to share with you how you can work with (very large) numpy arrays in **fastai2** through a time series classification example. In this case we'll use a multivariate time series dataset.\n",
    "\n",
    "**High level requirements:**\n",
    "\n",
    "- Be able to work with *numpy arrays with any number of dimensions* (for example, univariate or multivariate time series)\n",
    "- Data may be *larger than RAM*, so it may be in memory or on disk.\n",
    "- Use data on disk with similar *performance* to data in memory.\n",
    "- Data is often *split*: \n",
    "    - X, y\n",
    "    - X_train, X_valid, y_train, y_valid\n",
    "- Add *test dataset*.\n",
    "- Add an *unlabeled dataset* (for example for semi-supervised/ self-supervised learning).\n",
    "\n",
    "\n",
    "These are pretty challanging requirements. Let's see if fastai2 can meet them with little configuration."
   ]
  },
  {
   "cell_type": "markdown",
   "metadata": {
    "colab_type": "text",
    "heading_collapsed": true,
    "id": "a9f915tSi-5v"
   },
   "source": [
    "## Import libraries"
   ]
  },
  {
   "cell_type": "code",
   "execution_count": 48,
   "metadata": {
    "ExecuteTime": {
     "end_time": "2020-03-21T11:45:10.549320Z",
     "start_time": "2020-03-21T11:45:10.444909Z"
    },
    "colab": {
     "base_uri": "https://localhost:8080/",
     "height": 1000
    },
    "colab_type": "code",
    "hidden": true,
    "id": "IdZGe28FjJc8",
    "outputId": "18238554-da84-4e47-a9dc-d628bf6166b5"
   },
   "outputs": [
    {
     "name": "stdout",
     "output_type": "stream",
     "text": [
      "Collecting git+https://github.com/fastai/fastai2\n",
      "  Cloning https://github.com/fastai/fastai2 to /tmp/pip-req-build-8vg1qvdw\n",
      "  Running command git clone -q https://github.com/fastai/fastai2 /tmp/pip-req-build-8vg1qvdw\n",
      "Requirement already satisfied (use --upgrade to upgrade): fastai2==0.0.14 from git+https://github.com/fastai/fastai2 in /usr/local/lib/python3.6/dist-packages\n",
      "Requirement already satisfied: fastcore in /usr/local/lib/python3.6/dist-packages (from fastai2==0.0.14) (0.1.16)\n",
      "Requirement already satisfied: torch>=1.3.0 in /usr/local/lib/python3.6/dist-packages (from fastai2==0.0.14) (1.4.0)\n",
      "Requirement already satisfied: torchvision>=0.5 in /usr/local/lib/python3.6/dist-packages (from fastai2==0.0.14) (0.5.0)\n",
      "Requirement already satisfied: matplotlib in /usr/local/lib/python3.6/dist-packages (from fastai2==0.0.14) (3.2.0)\n",
      "Requirement already satisfied: pandas in /usr/local/lib/python3.6/dist-packages (from fastai2==0.0.14) (0.25.3)\n",
      "Requirement already satisfied: requests in /usr/local/lib/python3.6/dist-packages (from fastai2==0.0.14) (2.21.0)\n",
      "Requirement already satisfied: pyyaml in /usr/local/lib/python3.6/dist-packages (from fastai2==0.0.14) (3.13)\n",
      "Requirement already satisfied: fastprogress>=0.1.22 in /usr/local/lib/python3.6/dist-packages (from fastai2==0.0.14) (0.2.2)\n",
      "Requirement already satisfied: pillow in /usr/local/lib/python3.6/dist-packages (from fastai2==0.0.14) (7.0.0)\n",
      "Requirement already satisfied: scikit-learn in /usr/local/lib/python3.6/dist-packages (from fastai2==0.0.14) (0.22.2.post1)\n",
      "Requirement already satisfied: scipy in /usr/local/lib/python3.6/dist-packages (from fastai2==0.0.14) (1.4.1)\n",
      "Requirement already satisfied: spacy in /usr/local/lib/python3.6/dist-packages (from fastai2==0.0.14) (2.2.4)\n",
      "Requirement already satisfied: dataclasses>='0.7'; python_version < \"3.7\" in /usr/local/lib/python3.6/dist-packages (from fastcore->fastai2==0.0.14) (0.7)\n",
      "Requirement already satisfied: numpy in /usr/local/lib/python3.6/dist-packages (from fastcore->fastai2==0.0.14) (1.18.2)\n",
      "Requirement already satisfied: six in /usr/local/lib/python3.6/dist-packages (from torchvision>=0.5->fastai2==0.0.14) (1.12.0)\n",
      "Requirement already satisfied: python-dateutil>=2.1 in /usr/local/lib/python3.6/dist-packages (from matplotlib->fastai2==0.0.14) (2.8.1)\n",
      "Requirement already satisfied: pyparsing!=2.0.4,!=2.1.2,!=2.1.6,>=2.0.1 in /usr/local/lib/python3.6/dist-packages (from matplotlib->fastai2==0.0.14) (2.4.6)\n",
      "Requirement already satisfied: cycler>=0.10 in /usr/local/lib/python3.6/dist-packages (from matplotlib->fastai2==0.0.14) (0.10.0)\n",
      "Requirement already satisfied: kiwisolver>=1.0.1 in /usr/local/lib/python3.6/dist-packages (from matplotlib->fastai2==0.0.14) (1.1.0)\n",
      "Requirement already satisfied: pytz>=2017.2 in /usr/local/lib/python3.6/dist-packages (from pandas->fastai2==0.0.14) (2018.9)\n",
      "Requirement already satisfied: certifi>=2017.4.17 in /usr/local/lib/python3.6/dist-packages (from requests->fastai2==0.0.14) (2019.11.28)\n",
      "Requirement already satisfied: chardet<3.1.0,>=3.0.2 in /usr/local/lib/python3.6/dist-packages (from requests->fastai2==0.0.14) (3.0.4)\n",
      "Requirement already satisfied: idna<2.9,>=2.5 in /usr/local/lib/python3.6/dist-packages (from requests->fastai2==0.0.14) (2.8)\n",
      "Requirement already satisfied: urllib3<1.25,>=1.21.1 in /usr/local/lib/python3.6/dist-packages (from requests->fastai2==0.0.14) (1.24.3)\n",
      "Requirement already satisfied: joblib>=0.11 in /usr/local/lib/python3.6/dist-packages (from scikit-learn->fastai2==0.0.14) (0.14.1)\n",
      "Requirement already satisfied: tqdm<5.0.0,>=4.38.0 in /usr/local/lib/python3.6/dist-packages (from spacy->fastai2==0.0.14) (4.38.0)\n",
      "Requirement already satisfied: catalogue<1.1.0,>=0.0.7 in /usr/local/lib/python3.6/dist-packages (from spacy->fastai2==0.0.14) (1.0.0)\n",
      "Requirement already satisfied: wasabi<1.1.0,>=0.4.0 in /usr/local/lib/python3.6/dist-packages (from spacy->fastai2==0.0.14) (0.6.0)\n",
      "Requirement already satisfied: srsly<1.1.0,>=1.0.2 in /usr/local/lib/python3.6/dist-packages (from spacy->fastai2==0.0.14) (1.0.2)\n",
      "Requirement already satisfied: murmurhash<1.1.0,>=0.28.0 in /usr/local/lib/python3.6/dist-packages (from spacy->fastai2==0.0.14) (1.0.2)\n",
      "Requirement already satisfied: cymem<2.1.0,>=2.0.2 in /usr/local/lib/python3.6/dist-packages (from spacy->fastai2==0.0.14) (2.0.3)\n",
      "Requirement already satisfied: thinc==7.4.0 in /usr/local/lib/python3.6/dist-packages (from spacy->fastai2==0.0.14) (7.4.0)\n",
      "Requirement already satisfied: setuptools in /usr/local/lib/python3.6/dist-packages (from spacy->fastai2==0.0.14) (46.0.0)\n",
      "Requirement already satisfied: preshed<3.1.0,>=3.0.2 in /usr/local/lib/python3.6/dist-packages (from spacy->fastai2==0.0.14) (3.0.2)\n",
      "Requirement already satisfied: blis<0.5.0,>=0.4.0 in /usr/local/lib/python3.6/dist-packages (from spacy->fastai2==0.0.14) (0.4.1)\n",
      "Requirement already satisfied: plac<1.2.0,>=0.9.6 in /usr/local/lib/python3.6/dist-packages (from spacy->fastai2==0.0.14) (1.1.3)\n",
      "Requirement already satisfied: importlib-metadata>=0.20; python_version < \"3.8\" in /usr/local/lib/python3.6/dist-packages (from catalogue<1.1.0,>=0.0.7->spacy->fastai2==0.0.14) (1.5.0)\n",
      "Requirement already satisfied: zipp>=0.5 in /usr/local/lib/python3.6/dist-packages (from importlib-metadata>=0.20; python_version < \"3.8\"->catalogue<1.1.0,>=0.0.7->spacy->fastai2==0.0.14) (3.1.0)\n",
      "Building wheels for collected packages: fastai2\n",
      "  Building wheel for fastai2 (setup.py) ... \u001b[?25l\u001b[?25hdone\n",
      "  Created wheel for fastai2: filename=fastai2-0.0.14-cp36-none-any.whl size=181946 sha256=d9879561e61227a14581d52e71c9b32c001e9cc9d6227d87cbd416fb2b4eb611\n",
      "  Stored in directory: /tmp/pip-ephem-wheel-cache-u8rwmftj/wheels/a1/59/9a/50335b36924b827e29d5f40b41fc3a008cc1f30dd80e560dfd\n",
      "Successfully built fastai2\n",
      "Collecting git+https://github.com/fastai/fastcore\n",
      "  Cloning https://github.com/fastai/fastcore to /tmp/pip-req-build-nnd_y0c2\n",
      "  Running command git clone -q https://github.com/fastai/fastcore /tmp/pip-req-build-nnd_y0c2\n",
      "Requirement already satisfied (use --upgrade to upgrade): fastcore==0.1.16 from git+https://github.com/fastai/fastcore in /usr/local/lib/python3.6/dist-packages\n",
      "Requirement already satisfied: numpy in /usr/local/lib/python3.6/dist-packages (from fastcore==0.1.16) (1.18.2)\n",
      "Requirement already satisfied: dataclasses>='0.7' in /usr/local/lib/python3.6/dist-packages (from fastcore==0.1.16) (0.7)\n",
      "Building wheels for collected packages: fastcore\n",
      "  Building wheel for fastcore (setup.py) ... \u001b[?25l\u001b[?25hdone\n",
      "  Created wheel for fastcore: filename=fastcore-0.1.16-cp36-none-any.whl size=27816 sha256=7470c8177ebd280f011af8116974ab1ba804961719eaf1c8dec9445b50e39cda\n",
      "  Stored in directory: /tmp/pip-ephem-wheel-cache-o1vf3uuz/wheels/8a/2a/23/bc50c8f5e28776b44ac837a01fcfa675724565d4813d8e51c7\n",
      "Successfully built fastcore\n",
      "Requirement already satisfied: pyunpack in /usr/local/lib/python3.6/dist-packages (0.1.2)\n",
      "Requirement already satisfied: easyprocess in /usr/local/lib/python3.6/dist-packages (from pyunpack) (0.2.10)\n",
      "Requirement already satisfied: sktime in /usr/local/lib/python3.6/dist-packages (0.3.0)\n",
      "Requirement already satisfied: scikit-learn>=0.21.0 in /usr/local/lib/python3.6/dist-packages (from sktime) (0.22.2.post1)\n",
      "Requirement already satisfied: numpy>=1.16.0 in /usr/local/lib/python3.6/dist-packages (from sktime) (1.18.2)\n",
      "Requirement already satisfied: scikit-posthocs>=0.5.0 in /usr/local/lib/python3.6/dist-packages (from sktime) (0.6.3)\n",
      "Requirement already satisfied: pandas>=0.23.0 in /usr/local/lib/python3.6/dist-packages (from sktime) (0.25.3)\n",
      "Requirement already satisfied: scipy>=1.2.0 in /usr/local/lib/python3.6/dist-packages (from sktime) (1.4.1)\n",
      "Requirement already satisfied: joblib in /usr/local/lib/python3.6/dist-packages (from sktime) (0.14.1)\n",
      "Requirement already satisfied: statsmodels>=0.9.0 in /usr/local/lib/python3.6/dist-packages (from sktime) (0.10.2)\n",
      "Requirement already satisfied: matplotlib in /usr/local/lib/python3.6/dist-packages (from scikit-posthocs>=0.5.0->sktime) (3.2.0)\n",
      "Requirement already satisfied: seaborn in /usr/local/lib/python3.6/dist-packages (from scikit-posthocs>=0.5.0->sktime) (0.10.0)\n",
      "Requirement already satisfied: pytz>=2017.2 in /usr/local/lib/python3.6/dist-packages (from pandas>=0.23.0->sktime) (2018.9)\n",
      "Requirement already satisfied: python-dateutil>=2.6.1 in /usr/local/lib/python3.6/dist-packages (from pandas>=0.23.0->sktime) (2.8.1)\n",
      "Requirement already satisfied: patsy>=0.4.0 in /usr/local/lib/python3.6/dist-packages (from statsmodels>=0.9.0->sktime) (0.5.1)\n",
      "Requirement already satisfied: kiwisolver>=1.0.1 in /usr/local/lib/python3.6/dist-packages (from matplotlib->scikit-posthocs>=0.5.0->sktime) (1.1.0)\n",
      "Requirement already satisfied: pyparsing!=2.0.4,!=2.1.2,!=2.1.6,>=2.0.1 in /usr/local/lib/python3.6/dist-packages (from matplotlib->scikit-posthocs>=0.5.0->sktime) (2.4.6)\n",
      "Requirement already satisfied: cycler>=0.10 in /usr/local/lib/python3.6/dist-packages (from matplotlib->scikit-posthocs>=0.5.0->sktime) (0.10.0)\n",
      "Requirement already satisfied: six>=1.5 in /usr/local/lib/python3.6/dist-packages (from python-dateutil>=2.6.1->pandas>=0.23.0->sktime) (1.12.0)\n",
      "Requirement already satisfied: setuptools in /usr/local/lib/python3.6/dist-packages (from kiwisolver>=1.0.1->matplotlib->scikit-posthocs>=0.5.0->sktime) (46.0.0)\n",
      "Cloning into 'timeseriesAI2'...\n",
      "remote: Enumerating objects: 190, done.\u001b[K\n",
      "remote: Counting objects: 100% (190/190), done.\u001b[K\n",
      "remote: Compressing objects: 100% (156/156), done.\u001b[K\n",
      "remote: Total 190 (delta 55), reused 70 (delta 24), pack-reused 0\u001b[K\n",
      "Receiving objects: 100% (190/190), 1.49 MiB | 1.61 MiB/s, done.\n",
      "Resolving deltas: 100% (55/55), done.\n",
      "/content/timeseries/timeseriesAI2\n"
     ]
    }
   ],
   "source": [
    "import sys\n",
    "import os\n",
    "ISCOLAB = 'google.colab' in sys.modules\n",
    "if ISCOLAB:\n",
    "    if not os.path.isdir('/content/timeseriesAI2'):\n",
    "        !pip install git+https://github.com/fastai/fastai2 \n",
    "        !pip install git+https://github.com/fastai/fastcore \n",
    "        !pip install pyunpack\n",
    "        !pip install sktime\n",
    "        !git clone https://github.com/timeseriesAI/timeseriesAI2.git\n",
    "        %cd timeseriesAI2\n",
    "    else: \n",
    "        path = !pwd\n",
    "        if path != ['/content/timeseriesAI2']: \n",
    "            %cd timeseriesAI2\n",
    "        !pwd"
   ]
  },
  {
   "cell_type": "code",
   "execution_count": 49,
   "metadata": {
    "ExecuteTime": {
     "end_time": "2020-03-21T11:45:10.590960Z",
     "start_time": "2020-03-21T11:45:10.557568Z"
    },
    "colab": {
     "base_uri": "https://localhost:8080/",
     "height": 16
    },
    "colab_type": "code",
    "hidden": true,
    "id": "owuyrTRfi-5z",
    "outputId": "2f6a00af-1b82-4343-a1d2-c71049fbcdc9"
   },
   "outputs": [
    {
     "data": {
      "text/html": [
       "<style>.container {width:95% !important; }</style>"
      ],
      "text/plain": [
       "<IPython.core.display.HTML object>"
      ]
     },
     "metadata": {
      "tags": []
     },
     "output_type": "display_data"
    }
   ],
   "source": [
    "#from nbdev.showdoc import *\n",
    "from IPython.display import display, HTML\n",
    "display(HTML(\"<style>.container {width:95% !important; }</style>\"))"
   ]
  },
  {
   "cell_type": "code",
   "execution_count": 0,
   "metadata": {
    "ExecuteTime": {
     "end_time": "2020-03-21T11:45:21.827133Z",
     "start_time": "2020-03-21T11:45:10.601649Z"
    },
    "colab": {},
    "colab_type": "code",
    "hidden": true,
    "id": "b11VyFaii-6E"
   },
   "outputs": [],
   "source": [
    "from fastai2.torch_core import *\n",
    "from fastai2.data.all import *\n",
    "from fastai2.learner import *\n",
    "from fastai2.metrics import *\n",
    "from fastai2.callback.all import *"
   ]
  },
  {
   "cell_type": "code",
   "execution_count": 0,
   "metadata": {
    "ExecuteTime": {
     "end_time": "2020-03-21T11:45:22.005880Z",
     "start_time": "2020-03-21T11:45:21.837008Z"
    },
    "colab": {},
    "colab_type": "code",
    "hidden": true,
    "id": "i9hYZF5Hi-6P"
   },
   "outputs": [],
   "source": [
    "from timeseries.imports import *\n",
    "from timeseries.utils import *\n",
    "from timeseries.data import *\n",
    "from timeseries.core import *\n",
    "from timeseries.models import *"
   ]
  },
  {
   "cell_type": "markdown",
   "metadata": {
    "colab_type": "text",
    "heading_collapsed": true,
    "id": "AHm_p-1Di-6Z"
   },
   "source": [
    "## Load data"
   ]
  },
  {
   "cell_type": "markdown",
   "metadata": {
    "colab_type": "text",
    "hidden": true,
    "id": "1irYEtz9i-6d"
   },
   "source": [
    "In this notebook, we'll use one of the most widely used time series classification databases: UEA & UCR Time Series Classification Repository. As of Sep 2019 it contains 128 univariate datasets and 30 multivariate datasets.\n",
    "\n",
    "In the case of UCR data it's very easy to get data loaded. Let's select a dataset. You can modify this and select any one from the previous lists (univariate of multivariate).\n",
    "\n",
    "This framework I'm using can deal with numpy arrays on disk (np.memmap). If you are not familiar with them, you may want to take a look at the 00_How_to_efficiently_work_with_very_large_numpy_arrays.ipynb I've also shared."
   ]
  },
  {
   "cell_type": "code",
   "execution_count": 52,
   "metadata": {
    "ExecuteTime": {
     "end_time": "2020-03-21T11:45:22.058336Z",
     "start_time": "2020-03-21T11:45:22.013632Z"
    },
    "colab": {
     "base_uri": "https://localhost:8080/",
     "height": 1000
    },
    "colab_type": "code",
    "hidden": true,
    "id": "6-WObfYpi-6h",
    "outputId": "880d214a-5bf5-450f-9db9-0da35ab0733a"
   },
   "outputs": [
    {
     "name": "stdout",
     "output_type": "stream",
     "text": [
      "['ACSF1',\n",
      " 'Adiac',\n",
      " 'AllGestureWiimoteX',\n",
      " 'AllGestureWiimoteY',\n",
      " 'AllGestureWiimoteZ',\n",
      " 'ArrowHead',\n",
      " 'Beef',\n",
      " 'BeetleFly',\n",
      " 'BirdChicken',\n",
      " 'BME',\n",
      " 'Car',\n",
      " 'CBF',\n",
      " 'Chinatown',\n",
      " 'ChlorineConcentration',\n",
      " 'CinCECGTorso',\n",
      " 'Coffee',\n",
      " 'Computers',\n",
      " 'CricketX',\n",
      " 'CricketY',\n",
      " 'CricketZ',\n",
      " 'Crop',\n",
      " 'DiatomSizeReduction',\n",
      " 'DistalPhalanxOutlineAgeGroup',\n",
      " 'DistalPhalanxOutlineCorrect',\n",
      " 'DistalPhalanxTW',\n",
      " 'DodgerLoopDay',\n",
      " 'DodgerLoopGame',\n",
      " 'DodgerLoopWeekend',\n",
      " 'Earthquakes',\n",
      " 'ECG200',\n",
      " 'ECG5000',\n",
      " 'ECGFiveDays',\n",
      " 'ElectricDevices',\n",
      " 'EOGHorizontalSignal',\n",
      " 'EOGVerticalSignal',\n",
      " 'EthanolLevel',\n",
      " 'FaceAll',\n",
      " 'FaceFour',\n",
      " 'FacesUCR',\n",
      " 'FiftyWords',\n",
      " 'Fish',\n",
      " 'FordA',\n",
      " 'FordB',\n",
      " 'FreezerRegularTrain',\n",
      " 'FreezerSmallTrain',\n",
      " 'Fungi',\n",
      " 'GestureMidAirD1',\n",
      " 'GestureMidAirD2',\n",
      " 'GestureMidAirD3',\n",
      " 'GesturePebbleZ1',\n",
      " 'GesturePebbleZ2',\n",
      " 'GunPoint',\n",
      " 'GunPointAgeSpan',\n",
      " 'GunPointMaleVersusFemale',\n",
      " 'GunPointOldVersusYoung',\n",
      " 'Ham',\n",
      " 'HandOutlines',\n",
      " 'Haptics',\n",
      " 'Herring',\n",
      " 'HouseTwenty',\n",
      " 'InlineSkate',\n",
      " 'InsectEPGRegularTrain',\n",
      " 'InsectEPGSmallTrain',\n",
      " 'InsectWingbeatSound',\n",
      " 'ItalyPowerDemand',\n",
      " 'LargeKitchenAppliances',\n",
      " 'Lightning2',\n",
      " 'Lightning7',\n",
      " 'Mallat',\n",
      " 'Meat',\n",
      " 'MedicalImages',\n",
      " 'MelbournePedestrian',\n",
      " 'MiddlePhalanxOutlineAgeGroup',\n",
      " 'MiddlePhalanxOutlineCorrect',\n",
      " 'MiddlePhalanxTW',\n",
      " 'MixedShapesRegularTrain',\n",
      " 'MixedShapesSmallTrain',\n",
      " 'MoteStrain',\n",
      " 'NonInvasiveFetalECGThorax1',\n",
      " 'NonInvasiveFetalECGThorax2',\n",
      " 'OliveOil',\n",
      " 'OSULeaf',\n",
      " 'PhalangesOutlinesCorrect',\n",
      " 'Phoneme',\n",
      " 'PickupGestureWiimoteZ',\n",
      " 'PigAirwayPressure',\n",
      " 'PigArtPressure',\n",
      " 'PigCVP',\n",
      " 'PLAID',\n",
      " 'Plane',\n",
      " 'PowerCons',\n",
      " 'ProximalPhalanxOutlineAgeGroup',\n",
      " 'ProximalPhalanxOutlineCorrect',\n",
      " 'ProximalPhalanxTW',\n",
      " 'RefrigerationDevices',\n",
      " 'Rock',\n",
      " 'ScreenType',\n",
      " 'SemgHandGenderCh2',\n",
      " 'SemgHandMovementCh2',\n",
      " 'SemgHandSubjectCh2',\n",
      " 'ShakeGestureWiimoteZ',\n",
      " 'ShapeletSim',\n",
      " 'ShapesAll',\n",
      " 'SmallKitchenAppliances',\n",
      " 'SmoothSubspace',\n",
      " 'SonyAIBORobotSurface1',\n",
      " 'SonyAIBORobotSurface2',\n",
      " 'StarLightCurves',\n",
      " 'Strawberry',\n",
      " 'SwedishLeaf',\n",
      " 'Symbols',\n",
      " 'SyntheticControl',\n",
      " 'ToeSegmentation1',\n",
      " 'ToeSegmentation2',\n",
      " 'Trace',\n",
      " 'TwoLeadECG',\n",
      " 'TwoPatterns',\n",
      " 'UMD',\n",
      " 'UWaveGestureLibraryAll',\n",
      " 'UWaveGestureLibraryX',\n",
      " 'UWaveGestureLibraryY',\n",
      " 'UWaveGestureLibraryZ',\n",
      " 'Wafer',\n",
      " 'Wine',\n",
      " 'WordSynonyms',\n",
      " 'Worms',\n",
      " 'WormsTwoClass',\n",
      " 'Yoga']\n"
     ]
    }
   ],
   "source": [
    "pprint.pprint(get_UCR_univariate_list())"
   ]
  },
  {
   "cell_type": "code",
   "execution_count": 53,
   "metadata": {
    "ExecuteTime": {
     "end_time": "2020-03-21T11:45:22.080553Z",
     "start_time": "2020-03-21T11:45:22.066649Z"
    },
    "colab": {
     "base_uri": "https://localhost:8080/",
     "height": 550
    },
    "colab_type": "code",
    "hidden": true,
    "id": "6pFRsUQRi-6t",
    "outputId": "1cafb584-fd55-4875-e312-c387703561f5"
   },
   "outputs": [
    {
     "name": "stdout",
     "output_type": "stream",
     "text": [
      "['ArticularyWordRecognition',\n",
      " 'AtrialFibrillation',\n",
      " 'BasicMotions',\n",
      " 'CharacterTrajectories',\n",
      " 'Cricket',\n",
      " 'DuckDuckGeese',\n",
      " 'EigenWorms',\n",
      " 'Epilepsy',\n",
      " 'ERing',\n",
      " 'EthanolConcentration',\n",
      " 'FaceDetection',\n",
      " 'FingerMovements',\n",
      " 'HandMovementDirection',\n",
      " 'Handwriting',\n",
      " 'Heartbeat',\n",
      " 'InsectWingbeat',\n",
      " 'JapaneseVowels',\n",
      " 'Libras',\n",
      " 'LSST',\n",
      " 'MotorImagery',\n",
      " 'NATOPS',\n",
      " 'PEMS-SF',\n",
      " 'PenDigits',\n",
      " 'PhonemeSpectra',\n",
      " 'RacketSports',\n",
      " 'SelfRegulationSCP1',\n",
      " 'SelfRegulationSCP2',\n",
      " 'SpokenArabicDigits',\n",
      " 'StandWalkJump',\n",
      " 'UWaveGestureLibrary']\n"
     ]
    }
   ],
   "source": [
    "pprint.pprint(get_UCR_multivariate_list())"
   ]
  },
  {
   "cell_type": "markdown",
   "metadata": {
    "colab_type": "text",
    "hidden": true,
    "id": "MORJo7sMi-63"
   },
   "source": [
    "In the case of UCR data it's very easy to get data loaded. Let's select a dataset. You can modify this and select any one from the previous lists (univariate of multivariate).\n",
    "\n",
    "This framework I'm using can deal with numpy arrays on disk (np.memmap). If you are not familiar with them, you may want to take a look at the 00_How_to_efficiently_work_with_very_large_numpy_arrays.ipynb I've also shared. To demonstrate that I'll use the get_UCR_data on_disk=True."
   ]
  },
  {
   "cell_type": "code",
   "execution_count": 0,
   "metadata": {
    "ExecuteTime": {
     "end_time": "2020-03-21T11:45:22.099798Z",
     "start_time": "2020-03-21T11:45:22.089988Z"
    },
    "colab": {},
    "colab_type": "code",
    "hidden": true,
    "id": "KycWmPq1i-66"
   },
   "outputs": [],
   "source": [
    "# dataset id\n",
    "dsid = 'StarLightCurves'"
   ]
  },
  {
   "cell_type": "code",
   "execution_count": 55,
   "metadata": {
    "ExecuteTime": {
     "end_time": "2020-03-21T11:45:22.214461Z",
     "start_time": "2020-03-21T11:45:22.122295Z"
    },
    "colab": {
     "base_uri": "https://localhost:8080/",
     "height": 158
    },
    "colab_type": "code",
    "hidden": true,
    "id": "944hXVcgi-7D",
    "outputId": "f680011b-386a-4216-be00-882df29d2016"
   },
   "outputs": [
    {
     "name": "stdout",
     "output_type": "stream",
     "text": [
      "Dataset: StarLightCurves\n",
      "Downloading and decompressing data to data/UCR/StarLightCurves...\n",
      "...data downloaded and decompressed\n",
      "X_train: (1000, 1, 1024)\n",
      "y_train: (1000,)\n",
      "X_valid: (8236, 1, 1024)\n",
      "y_valid: (8236,) \n",
      "\n"
     ]
    }
   ],
   "source": [
    "X_train, y_train, X_valid, y_valid = get_UCR_data(dsid, parent_dir='./data/UCR/', verbose=True, on_disk=True)"
   ]
  },
  {
   "cell_type": "markdown",
   "metadata": {
    "colab_type": "text",
    "hidden": true,
    "id": "tZBJ77Vdi-8b"
   },
   "source": [
    "The proposed solutions only take X and y, not X_train, y_train, X_valid, y_valid.\n",
    "\n",
    "Since data is already split between train and test in the UCR dataset, we are going to merge them and create some indices to split them in the same sets.\n",
    "\n",
    "As I also want to demonstrate how you can use numpy arrays on disk, I'll merge data and save it to simulate you have an array on disk (load with mmap_mode='r')."
   ]
  },
  {
   "cell_type": "code",
   "execution_count": 56,
   "metadata": {
    "ExecuteTime": {
     "end_time": "2020-03-21T11:45:23.091203Z",
     "start_time": "2020-03-21T11:45:22.240120Z"
    },
    "colab": {
     "base_uri": "https://localhost:8080/",
     "height": 34
    },
    "colab_type": "code",
    "hidden": true,
    "id": "_zN9VdsIi-8e",
    "outputId": "422e6454-96c7-4252-864f-7a6d1c987704"
   },
   "outputs": [
    {
     "data": {
      "text/plain": [
       "((9236, 1, 1024), (9236,))"
      ]
     },
     "execution_count": 56,
     "metadata": {
      "tags": []
     },
     "output_type": "execute_result"
    }
   ],
   "source": [
    "X = np.concatenate((X_train, X_valid))\n",
    "y = np.concatenate((y_train, y_valid))\n",
    "folder = './data/UCR'\n",
    "np.save(f'{folder}/{dsid}/X.npy', X)\n",
    "np.save(f'{folder}/{dsid}/y.npy', y)\n",
    "del X, y\n",
    "X = np.load(f'{folder}/{dsid}/X.npy', mmap_mode='r')\n",
    "y = np.load(f'{folder}/{dsid}/y.npy', mmap_mode='r')\n",
    "splits = (L(list(np.arange(len(X_train)))), L(list(np.arange(len(X_train), len(X)))))\n",
    "X.shape, y.shape"
   ]
  },
  {
   "cell_type": "code",
   "execution_count": 57,
   "metadata": {
    "ExecuteTime": {
     "end_time": "2020-03-21T11:45:23.114694Z",
     "start_time": "2020-03-21T11:45:23.099099Z"
    },
    "colab": {
     "base_uri": "https://localhost:8080/",
     "height": 52
    },
    "colab_type": "code",
    "hidden": true,
    "id": "zf-j52Gxxw43",
    "outputId": "3635f685-578e-401b-b670-d36e92eb00f0"
   },
   "outputs": [
    {
     "data": {
      "text/plain": [
       "((#1000) [0,1,2,3,4,5,6,7,8,9...],\n",
       " (#8236) [1000,1001,1002,1003,1004,1005,1006,1007,1008,1009...])"
      ]
     },
     "execution_count": 57,
     "metadata": {
      "tags": []
     },
     "output_type": "execute_result"
    }
   ],
   "source": [
    "splits"
   ]
  },
  {
   "cell_type": "markdown",
   "metadata": {
    "colab_type": "text",
    "hidden": true,
    "id": "kjPp9W16i-8n"
   },
   "source": [
    "As we have used a mmap_mode when loading data, the numpy array class is np.memmap (it means data is being read directly from memory), which is a subclass of np.ndarray."
   ]
  },
  {
   "cell_type": "code",
   "execution_count": 58,
   "metadata": {
    "ExecuteTime": {
     "end_time": "2020-03-21T11:45:23.144160Z",
     "start_time": "2020-03-21T11:45:23.122438Z"
    },
    "colab": {
     "base_uri": "https://localhost:8080/",
     "height": 34
    },
    "colab_type": "code",
    "hidden": true,
    "id": "rn7GoBK_i-8p",
    "outputId": "5a18a725-a00b-4d22-848e-0c32f80c58b1"
   },
   "outputs": [
    {
     "data": {
      "text/plain": [
       "(numpy.memmap, True)"
      ]
     },
     "execution_count": 58,
     "metadata": {
      "tags": []
     },
     "output_type": "execute_result"
    }
   ],
   "source": [
    "X_train.__class__, isinstance(X_train, np.ndarray)"
   ]
  },
  {
   "cell_type": "markdown",
   "metadata": {
    "colab_type": "text",
    "hidden": true,
    "id": "CojfT2VSi-7Z"
   },
   "source": [
    "☣️ **Something very important when you prepare your own data is that data needs to be in a 3-d array with the following format:**\n",
    "\n",
    "1. Samples\n",
    "2. Variables (1 for univariate or several for multivariate)\n",
    "3. Length (aka timesteps)\n",
    "\n",
    "\n",
    "All UEA & UCR Time Series Classification data have already been split between train and valid. When you use your own data, you'll have to split it yourself. We'll see examples of this in future notebooks."
   ]
  },
  {
   "cell_type": "markdown",
   "metadata": {
    "colab_type": "text",
    "heading_collapsed": true,
    "id": "W2X_fti4i-7c"
   },
   "source": [
    "## Building block: TSTensor"
   ]
  },
  {
   "cell_type": "markdown",
   "metadata": {
    "colab_type": "text",
    "hidden": true,
    "id": "Ov_GWkso8L6o"
   },
   "source": [
    "Since fastai is based on Pytorch, you'll need to somehow transform the numpy arrays to tensors at some point (TSTensor in our case). There's a transform function called ToTSTensor that transforms an array into a tensor of type TSTensor (which has a show method)."
   ]
  },
  {
   "cell_type": "code",
   "execution_count": 0,
   "metadata": {
    "ExecuteTime": {
     "end_time": "2020-03-21T11:45:23.207584Z",
     "start_time": "2020-03-21T11:45:23.153772Z"
    },
    "colab": {},
    "colab_type": "code",
    "hidden": true,
    "id": "W4DKkbPei-7f"
   },
   "outputs": [],
   "source": [
    "class TSTensor(TensorBase):\n",
    "    '''Returns a tensor of at least 2 dims of type torch.float32 and class TSTensor'''\n",
    "    def __new__(cls, o, dtype=torch.float32, **kwargs): \n",
    "        res = ToType(dtype)(To2DPlusTensor(o))\n",
    "        res.__class__ = cls\n",
    "        res._meta = kwargs\n",
    "        return res\n",
    "\n",
    "    @property\n",
    "    def vars(self): return self.shape[-2]\n",
    "\n",
    "    @property\n",
    "    def len(self): return self.shape[-1]\n",
    "    \n",
    "    def __getitem__(self, idx):\n",
    "        res = super().__getitem__(idx)\n",
    "        return retain_type(res, self)\n",
    "\n",
    "    def __repr__(self):\n",
    "        if self.ndim >= 3:   return f'TSTensor(samples:{self.shape[-3]}, vars:{self.shape[-2]}, len:{self.shape[-1]})'\n",
    "        elif self.ndim == 2: return f'TSTensor(vars:{self.shape[-2]}, len:{self.shape[-1]})'\n",
    "        elif self.ndim == 1: return f'TSTensor(len:{self.shape[-1]})'\n",
    "        else: return f'TSTensor(float)'\n",
    "\n",
    "    def show(self, ax=None, ctx=None, title=None, **kwargs):\n",
    "        ax = ifnone(ax,ctx)\n",
    "        if ax is None: fig, ax = plt.subplots(**kwargs)\n",
    "        ax.plot(self.T)\n",
    "        ax.axis(xmin=0, xmax=self.shape[-1] - 1)\n",
    "        ax.set_title(title, weight='bold')\n",
    "        plt.tight_layout()\n",
    "        return ax\n",
    "\n",
    "@Transform\n",
    "def ToTSTensor(o:np.ndarray, dtype=torch.float32, **kwargs): \n",
    "    \"\"\" Transforms input to tensor of dtype torch.float32\"\"\"\n",
    "    return TSTensor(o, dtype=dtype, **kwargs)"
   ]
  },
  {
   "cell_type": "code",
   "execution_count": 60,
   "metadata": {
    "ExecuteTime": {
     "end_time": "2020-03-21T11:45:23.239771Z",
     "start_time": "2020-03-21T11:45:23.216656Z"
    },
    "colab": {
     "base_uri": "https://localhost:8080/",
     "height": 0
    },
    "colab_type": "code",
    "hidden": true,
    "id": "zWFMZmtFBkQH",
    "outputId": "01856f5e-ad91-49e5-c533-ed0c93cd22ea"
   },
   "outputs": [
    {
     "data": {
      "text/plain": [
       "(TSTensor(samples:9236, vars:1, len:1024),\n",
       " TSTensor(vars:1, len:1024),\n",
       " TSTensor(len:1024))"
      ]
     },
     "execution_count": 60,
     "metadata": {
      "tags": []
     },
     "output_type": "execute_result"
    }
   ],
   "source": [
    "t = TSTensor(X)\n",
    "t, t[0], t[0][0]"
   ]
  },
  {
   "cell_type": "code",
   "execution_count": 61,
   "metadata": {
    "ExecuteTime": {
     "end_time": "2020-03-21T11:45:23.270187Z",
     "start_time": "2020-03-21T11:45:23.249112Z"
    },
    "colab": {
     "base_uri": "https://localhost:8080/",
     "height": 0
    },
    "colab_type": "code",
    "hidden": true,
    "id": "neo5yAiHBkQR",
    "outputId": "4dc83e6d-96c4-43c0-b330-d563af57090d"
   },
   "outputs": [
    {
     "data": {
      "text/plain": [
       "(TSTensor(samples:9236, vars:1, len:1024),\n",
       " TSTensor(vars:1, len:1024),\n",
       " TSTensor(len:1024))"
      ]
     },
     "execution_count": 61,
     "metadata": {
      "tags": []
     },
     "output_type": "execute_result"
    }
   ],
   "source": [
    "t = ToTSTensor(X)\n",
    "t, t[0], t[0][0]"
   ]
  },
  {
   "cell_type": "code",
   "execution_count": 62,
   "metadata": {
    "ExecuteTime": {
     "end_time": "2020-03-21T11:45:25.447826Z",
     "start_time": "2020-03-21T11:45:23.278502Z"
    },
    "colab": {
     "base_uri": "https://localhost:8080/",
     "height": 0
    },
    "colab_type": "code",
    "hidden": true,
    "id": "ZtvMOiwnBkQe",
    "outputId": "47390b17-fc55-4fa8-9008-3f8a93d2b334"
   },
   "outputs": [
    {
     "name": "stdout",
     "output_type": "stream",
     "text": [
      "The slowest run took 6.84 times longer than the fastest. This could mean that an intermediate result is being cached.\n",
      "100000 loops, best of 3: 5.37 µs per loop\n"
     ]
    }
   ],
   "source": [
    "%timeit TSTensor(X)"
   ]
  },
  {
   "cell_type": "code",
   "execution_count": 63,
   "metadata": {
    "ExecuteTime": {
     "end_time": "2020-03-21T11:45:27.387095Z",
     "start_time": "2020-03-21T11:45:25.456007Z"
    },
    "colab": {
     "base_uri": "https://localhost:8080/",
     "height": 0
    },
    "colab_type": "code",
    "hidden": true,
    "id": "GfYzjnIwBkQn",
    "outputId": "4beaedb1-c00c-4402-ef77-b3080d16f11c"
   },
   "outputs": [
    {
     "name": "stdout",
     "output_type": "stream",
     "text": [
      "The slowest run took 4.04 times longer than the fastest. This could mean that an intermediate result is being cached.\n",
      "10000 loops, best of 3: 72.1 µs per loop\n"
     ]
    }
   ],
   "source": [
    "%timeit ToTSTensor(X)"
   ]
  },
  {
   "cell_type": "markdown",
   "metadata": {
    "colab_type": "text",
    "hidden": true,
    "id": "pCW1Qmda8L6y"
   },
   "source": [
    "If you don't use time series, you may want to modify TSTensor and ToTSTensor to meet your needs. I've created a simple example you may want to use."
   ]
  },
  {
   "cell_type": "code",
   "execution_count": 0,
   "metadata": {
    "ExecuteTime": {
     "end_time": "2020-03-21T11:45:27.419257Z",
     "start_time": "2020-03-21T11:45:27.393849Z"
    },
    "colab": {},
    "colab_type": "code",
    "hidden": true,
    "id": "sTdI-JVy8L60"
   },
   "outputs": [],
   "source": [
    "class NumpyTensor(TensorBase):\n",
    "\n",
    "    def __new__(cls, o, **kwargs): \n",
    "        res = ToTensor(o)\n",
    "        res.__class__ = cls\n",
    "        res._meta = kwargs\n",
    "        return res\n",
    "    \n",
    "    def __getitem__(self, idx):\n",
    "        res = super().__getitem__(idx)\n",
    "        return retain_type(res, self)\n",
    "\n",
    "    def show(self, ax=None, ctx=None, title=None, **kwargs):\n",
    "        ax = ifnone(ax,ctx)\n",
    "        if ax is None: fig, ax = plt.subplots(**kwargs)\n",
    "        ax.plot(self.T)\n",
    "        ax.axis(xmin=0, xmax=self.shape[-1] - 1)\n",
    "        ax.set_title(title, weight='bold')\n",
    "        plt.tight_layout()\n",
    "        return ax\n",
    "\n",
    "@Transform\n",
    "def ToNumpyTensor(o:np.ndarray): \n",
    "    return NumpyTensor(o)"
   ]
  },
  {
   "cell_type": "code",
   "execution_count": 65,
   "metadata": {
    "ExecuteTime": {
     "end_time": "2020-03-21T11:45:28.053359Z",
     "start_time": "2020-03-21T11:45:27.425485Z"
    },
    "colab": {
     "base_uri": "https://localhost:8080/",
     "height": 0
    },
    "colab_type": "code",
    "hidden": true,
    "id": "uizzdrYD8L67",
    "outputId": "2b7dbab8-7ca6-4788-c59a-3d97e3c8890a"
   },
   "outputs": [
    {
     "data": {
      "image/png": "[encoded data removed]",
      "text/plain": [
       "<Figure size 432x288 with 1 Axes>"
      ]
     },
     "metadata": {
      "tags": []
     },
     "output_type": "display_data"
    }
   ],
   "source": [
    "nt = ToNumpyTensor(np.random.rand(4, 6))\n",
    "nt.show();"
   ]
  },
  {
   "cell_type": "markdown",
   "metadata": {
    "colab_type": "text",
    "hidden": true,
    "id": "hwqNvxOs8L7F"
   },
   "source": [
    "Let's go back to time series:"
   ]
  },
  {
   "cell_type": "code",
   "execution_count": 66,
   "metadata": {
    "ExecuteTime": {
     "end_time": "2020-03-21T11:45:28.078487Z",
     "start_time": "2020-03-21T11:45:28.060642Z"
    },
    "colab": {
     "base_uri": "https://localhost:8080/",
     "height": 0
    },
    "colab_type": "code",
    "hidden": true,
    "id": "WMsqLSMVi-7o",
    "outputId": "32eaba40-e6e1-4cb1-cd18-73ca9359f9c8"
   },
   "outputs": [
    {
     "data": {
      "text/plain": [
       "TSTensor(vars:1, len:1024)"
      ]
     },
     "execution_count": 66,
     "metadata": {
      "tags": []
     },
     "output_type": "execute_result"
    }
   ],
   "source": [
    "t = ToTSTensor(X_train[0])\n",
    "t"
   ]
  },
  {
   "cell_type": "code",
   "execution_count": 67,
   "metadata": {
    "ExecuteTime": {
     "end_time": "2020-03-21T11:45:28.661957Z",
     "start_time": "2020-03-21T11:45:28.086182Z"
    },
    "colab": {
     "base_uri": "https://localhost:8080/",
     "height": 0
    },
    "colab_type": "code",
    "hidden": true,
    "id": "LXnsEE20i-7y",
    "outputId": "c98c8a31-d791-418e-d849-2a54ac093b27"
   },
   "outputs": [
    {
     "data": {
      "image/png": "[encoded data removed]",
      "text/plain": [
       "<Figure size 432x288 with 1 Axes>"
      ]
     },
     "metadata": {
      "tags": []
     },
     "output_type": "display_data"
    }
   ],
   "source": [
    "t.show();"
   ]
  },
  {
   "cell_type": "code",
   "execution_count": 68,
   "metadata": {
    "ExecuteTime": {
     "end_time": "2020-03-21T11:45:28.680155Z",
     "start_time": "2020-03-21T11:45:28.668235Z"
    },
    "colab": {
     "base_uri": "https://localhost:8080/",
     "height": 0
    },
    "colab_type": "code",
    "hidden": true,
    "id": "xCuKQDski-79",
    "outputId": "8442967e-25d4-4e06-ee5f-b4fbc4bc336e"
   },
   "outputs": [
    {
     "data": {
      "text/plain": [
       "(1, 1024, torch.float32)"
      ]
     },
     "execution_count": 68,
     "metadata": {
      "tags": []
     },
     "output_type": "execute_result"
    }
   ],
   "source": [
    "t.vars, t.len, t.dtype"
   ]
  },
  {
   "cell_type": "code",
   "execution_count": 0,
   "metadata": {
    "ExecuteTime": {
     "end_time": "2020-03-21T11:45:28.695103Z",
     "start_time": "2020-03-21T11:45:28.686147Z"
    },
    "colab": {},
    "colab_type": "code",
    "hidden": true,
    "id": "TYyeyPGVBkRf"
   },
   "outputs": [],
   "source": [
    "# This is a convenience function will use later proposed by Thomas Capelle @tcapelle to be able to easily benchmark performance\n",
    "def cycle_dl(dl):\n",
    "    for x,y in iter(dl): pass"
   ]
  },
  {
   "cell_type": "markdown",
   "metadata": {
    "colab_type": "text",
    "heading_collapsed": true,
    "id": "OcoqcJlfu-X5"
   },
   "source": [
    "## Option 1: DataBlock API"
   ]
  },
  {
   "cell_type": "code",
   "execution_count": 0,
   "metadata": {
    "ExecuteTime": {
     "end_time": "2020-03-21T11:45:29.215399Z",
     "start_time": "2020-03-21T11:45:28.718401Z"
    },
    "colab": {},
    "colab_type": "code",
    "hidden": true,
    "id": "6DMd54j_BkRr"
   },
   "outputs": [],
   "source": [
    "def TSTensorBlock(): \n",
    "    return TransformBlock(item_tfms=ToTSTensor)\n",
    "\n",
    "splitter=IndexSplitter(splits[1])\n",
    "getters = [ItemGetter(0), ItemGetter(1)]\n",
    "dblock = DataBlock(blocks=(TSTensorBlock, CategoryBlock),\n",
    "                   getters=getters,\n",
    "                   splitter=splitter,\n",
    "                   item_tfms=None,\n",
    "                   batch_tfms=None)\n",
    "source = itemify(X,y)\n",
    "dls = dblock.dataloaders(source, bs=64, val_bs=128)"
   ]
  },
  {
   "cell_type": "code",
   "execution_count": 71,
   "metadata": {
    "ExecuteTime": {
     "end_time": "2020-03-21T11:45:33.561267Z",
     "start_time": "2020-03-21T11:45:29.225119Z"
    },
    "colab": {
     "base_uri": "https://localhost:8080/",
     "height": 52
    },
    "colab_type": "code",
    "hidden": true,
    "id": "tA1aYwJnBkR1",
    "outputId": "e596634b-d2be-4627-c510-20c0654c7fdf"
   },
   "outputs": [
    {
     "name": "stdout",
     "output_type": "stream",
     "text": [
      "CPU times: user 114 ms, sys: 77 ms, total: 191 ms\n",
      "Wall time: 4.4 s\n"
     ]
    }
   ],
   "source": [
    "%time cycle_dl(dls.valid)"
   ]
  },
  {
   "cell_type": "markdown",
   "metadata": {
    "colab_type": "text",
    "heading_collapsed": true,
    "id": "_6XQRXeB8L7h"
   },
   "source": [
    "## Option 2: DataLoaders"
   ]
  },
  {
   "cell_type": "code",
   "execution_count": 0,
   "metadata": {
    "ExecuteTime": {
     "end_time": "2020-03-21T11:45:33.591147Z",
     "start_time": "2020-03-21T11:45:33.568680Z"
    },
    "colab": {},
    "colab_type": "code",
    "hidden": true,
    "id": "nFKJf4invCTQ"
   },
   "outputs": [],
   "source": [
    "class TSDataLoaders(DataLoaders):\n",
    "    @classmethod\n",
    "    @delegates(DataLoaders.from_dblock)\n",
    "    def from_numpy(cls, X, y=None, splitter=None, valid_pct=0.2, seed=0, item_tfms=None, batch_tfms=None, **kwargs):\n",
    "        \"Create timeseries dataloaders from arrays (X and y, unless unlabeled)\"\n",
    "        if splitter is None: splitter = RandomSplitter(valid_pct=valid_pct, seed=seed)\n",
    "        getters = [ItemGetter(0), ItemGetter(1)] if y is not None else [ItemGetter(0)]\n",
    "        dblock = DataBlock(blocks=(TSTensorBlock, CategoryBlock),\n",
    "                           getters=getters,\n",
    "                           splitter=splitter,\n",
    "                           item_tfms=item_tfms,\n",
    "                           batch_tfms=batch_tfms)\n",
    "\n",
    "        source = itemify(X) if y is None else itemify(X,y)\n",
    "        return cls.from_dblock(dblock, source, **kwargs)"
   ]
  },
  {
   "cell_type": "code",
   "execution_count": 73,
   "metadata": {
    "ExecuteTime": {
     "end_time": "2020-03-21T11:45:35.001467Z",
     "start_time": "2020-03-21T11:45:33.597787Z"
    },
    "colab": {
     "base_uri": "https://localhost:8080/",
     "height": 141
    },
    "colab_type": "code",
    "hidden": true,
    "id": "pH-eVuckvFXW",
    "outputId": "a7a5b595-7e2b-46fa-ebac-885239e7de6b"
   },
   "outputs": [
    {
     "data": {
      "text/plain": [
       "(TSTensor(samples:128, vars:1, len:1024),\n",
       " TensorCategory([1, 2, 2, 0, 1, 2, 2, 2, 1, 2, 2, 2, 2, 2, 2, 0, 2, 2, 2, 0, 0, 2, 2, 2,\n",
       "         1, 0, 2, 0, 2, 1, 2, 2, 1, 2, 1, 1, 1, 1, 1, 2, 2, 0, 2, 2, 1, 0, 0, 2,\n",
       "         2, 2, 2, 1, 0, 0, 2, 2, 2, 2, 2, 2, 0, 0, 1, 2, 2, 1, 2, 2, 2, 0, 0, 2,\n",
       "         1, 1, 1, 2, 2, 1, 1, 1, 1, 2, 2, 2, 2, 2, 1, 1, 2, 1, 2, 2, 0, 2, 0, 2,\n",
       "         2, 2, 2, 2, 2, 2, 1, 1, 1, 2, 2, 2, 1, 0, 2, 2, 0, 2, 2, 1, 2, 1, 2, 2,\n",
       "         2, 2, 2, 2, 1, 2, 2, 0], device='cuda:0'))"
      ]
     },
     "execution_count": 73,
     "metadata": {
      "tags": []
     },
     "output_type": "execute_result"
    }
   ],
   "source": [
    "dls = TSDataLoaders.from_numpy(X, y, splitter=IndexSplitter(splits[1]), bs=64, val_bs=128)\n",
    "t = next(iter(dls.valid))\n",
    "t"
   ]
  },
  {
   "cell_type": "code",
   "execution_count": 74,
   "metadata": {
    "ExecuteTime": {
     "end_time": "2020-03-21T11:45:37.787521Z",
     "start_time": "2020-03-21T11:45:35.008189Z"
    },
    "colab": {
     "base_uri": "https://localhost:8080/",
     "height": 52
    },
    "colab_type": "code",
    "hidden": true,
    "id": "s0oOHeT4vPat",
    "outputId": "8430720d-5086-4970-b8c4-0b8ec2fcedcd"
   },
   "outputs": [
    {
     "name": "stdout",
     "output_type": "stream",
     "text": [
      "CPU times: user 108 ms, sys: 89 ms, total: 197 ms\n",
      "Wall time: 4.42 s\n"
     ]
    }
   ],
   "source": [
    "%time cycle_dl(dls.valid)"
   ]
  },
  {
   "cell_type": "markdown",
   "metadata": {
    "colab_type": "text",
    "heading_collapsed": true,
    "id": "aL-pVd7Yi-8J"
   },
   "source": [
    "## Option 3: Datasets + Dataloaders"
   ]
  },
  {
   "cell_type": "markdown",
   "metadata": {
    "colab_type": "text",
    "hidden": true,
    "id": "T-BFsyExi-8M"
   },
   "source": [
    "The second option requires to slightly modify Datasets and TfmdDL to take numpy arrays."
   ]
  },
  {
   "cell_type": "code",
   "execution_count": 0,
   "metadata": {
    "ExecuteTime": {
     "end_time": "2020-03-21T11:45:37.873539Z",
     "start_time": "2020-03-21T11:45:37.794381Z"
    },
    "colab": {},
    "colab_type": "code",
    "hidden": true,
    "id": "G5q0WEYri-8Q"
   },
   "outputs": [],
   "source": [
    "class NumpyDatasets(FilteredBase):\n",
    "    \"A dataset that creates a tuple from each `tfms`, passed thru `item_tfms`\"\n",
    "    def __init__(self, X=None, y=None, items=None, tfms=None, tls=None, n_inp=None, dl_type=None, **kwargs):\n",
    "        super().__init__(dl_type=dl_type)\n",
    "\n",
    "        #New 4 lines of code\n",
    "        if tls is None:\n",
    "            if items is None: items = itemify(X,) if y is None else itemify(X,y)\n",
    "            assert (tfms is None or len(items[0]) == len(tfms)), f\"n_tfms ({len(tfms)}) doesn't match n_items ({len(items[0])})\"\n",
    "            tfms = None if tfms is None else [[ItemGetter(i)] + L(tfms[i]) for i in range(len(items[0]))]\n",
    "        \n",
    "        self.tls = L(tls if tls else [TfmdLists(items, t, **kwargs) for t in L(ifnone(tfms,[None]))])\n",
    "        self.n_inp = (1 if len(self.tls)==1 else len(self.tls)-1) if n_inp is None else n_inp\n",
    "\n",
    "    def __getitem__(self, it):\n",
    "        res = tuple([tl[it] for tl in self.tls])\n",
    "        return res if is_indexer(it) else list(zip(*res))\n",
    "\n",
    "    def __getattr__(self,k): return gather_attrs(self, k, 'tls')\n",
    "    def __dir__(self): return super().__dir__() + gather_attr_names(self, 'tls')\n",
    "    def __len__(self): return len(self.tls[0])\n",
    "    def __iter__(self): return (self[i] for i in range(len(self)))\n",
    "    def __repr__(self): return coll_repr(self)\n",
    "    def decode(self, o, full=True): return tuple(tl.decode(o_, full=full) for o_,tl in zip(o,tuplify(self.tls, match=o)))\n",
    "    def subset(self, i): return type(self)(tls=L(tl.subset(i) for tl in self.tls), n_inp=self.n_inp)\n",
    "    def _new(self, items, *args, **kwargs): return super()._new(items, tfms=self.tfms, do_setup=False, **kwargs)\n",
    "    def overlapping_splits(self): return self.tls[0].overlapping_splits()\n",
    "    @property\n",
    "    def splits(self): return self.tls[0].splits\n",
    "    @property\n",
    "    def split_idx(self): return self.tls[0].tfms.split_idx\n",
    "    @property\n",
    "    def items(self): return self.tls[0].items\n",
    "    @items.setter\n",
    "    def items(self, v):\n",
    "        for tl in self.tls: tl.items = v\n",
    "\n",
    "    def show(self, o, ctx=None, **kwargs):\n",
    "        for o_,tl in zip(o,self.tls): ctx = tl.show(o_, ctx=ctx, **kwargs)\n",
    "        return ctx\n",
    "\n",
    "    def new_empty(self):\n",
    "        tls = [tl._new([], split_idx=tl.split_idx) for tl in self.tls]\n",
    "        return type(self)(tls=tls, n_inp=self.n_inp)\n",
    "\n",
    "    @contextmanager\n",
    "    def set_split_idx(self, i):\n",
    "        old_split_idx = self.split_idx\n",
    "        for tl in self.tls: tl.tfms.split_idx = i\n",
    "        yield self\n",
    "        for tl in self.tls: tl.tfms.split_idx = old_split_idx"
   ]
  },
  {
   "cell_type": "markdown",
   "metadata": {
    "colab_type": "text",
    "hidden": true,
    "id": "OMVrCxwzi-8z"
   },
   "source": [
    "Let's now build the datasets. We are going to use 2 transforms: \n",
    "\n",
    "- ToTSTensor: to transform X array into a TSTensor\n",
    "- Categorize(): to create a tensor label based on a dictionary of unique classes\n",
    "\n",
    "These are item transforms in fastai2 since we need to perform them at the item level, before a batch is created as the inputs to a batch must be tensors not numpy arrays."
   ]
  },
  {
   "cell_type": "code",
   "execution_count": 0,
   "metadata": {
    "ExecuteTime": {
     "end_time": "2020-03-21T11:45:38.270594Z",
     "start_time": "2020-03-21T11:45:37.880070Z"
    },
    "colab": {},
    "colab_type": "code",
    "hidden": true,
    "id": "4qj8e40gi-82"
   },
   "outputs": [],
   "source": [
    "tfms = [[ToTSTensor], [Categorize()]]\n",
    "dsets = NumpyDatasets(X, y, tfms=tfms, splits=splits)"
   ]
  },
  {
   "cell_type": "markdown",
   "metadata": {
    "colab_type": "text",
    "hidden": true,
    "id": "lW2Ne_0t8L8j"
   },
   "source": [
    "X data (that, remember, may be larger than RAM) is still on disk. Data conversion occurs only on demand (when you get an item from all items using __getitem__. When a batch needs to be created, the random selected samples are brought into memory and transformed into a tensor. This process occurs very quickly as I also showed in the 00 tutorial notebook. In this way you can efficiently use large numpy arrays with fastai2."
   ]
  },
  {
   "cell_type": "code",
   "execution_count": 77,
   "metadata": {
    "ExecuteTime": {
     "end_time": "2020-03-21T11:45:38.290125Z",
     "start_time": "2020-03-21T11:45:38.276581Z"
    },
    "colab": {
     "base_uri": "https://localhost:8080/",
     "height": 52
    },
    "colab_type": "code",
    "hidden": true,
    "id": "_k-CPEBM8L8k",
    "outputId": "86041cd8-b54a-484b-8ef6-818b1b1e6eab"
   },
   "outputs": [
    {
     "data": {
      "text/plain": [
       "(memmap([[0.5373029 , 0.53110296, 0.52850294, ..., 0.52640295, 0.51950294,\n",
       "          0.51140296]], dtype=float32), '3')"
      ]
     },
     "execution_count": 77,
     "metadata": {
      "tags": []
     },
     "output_type": "execute_result"
    }
   ],
   "source": [
    "# A single item as stored in items (class np.memmap --> on disk)\n",
    "dsets.items[0]"
   ]
  },
  {
   "cell_type": "markdown",
   "metadata": {
    "colab_type": "text",
    "hidden": true,
    "id": "zObMMWhG8L8q"
   },
   "source": [
    "Here we select an item from the dataset, so the item is transformed into a TSTensor and a TensorCategory (a tuple is created)"
   ]
  },
  {
   "cell_type": "code",
   "execution_count": 78,
   "metadata": {
    "ExecuteTime": {
     "end_time": "2020-03-21T11:45:38.313552Z",
     "start_time": "2020-03-21T11:45:38.296260Z"
    },
    "colab": {
     "base_uri": "https://localhost:8080/",
     "height": 34
    },
    "colab_type": "code",
    "hidden": true,
    "id": "qkjS9bdPi-9B",
    "outputId": "871afd2b-16d1-4bf5-ed53-5c797f02fd8e"
   },
   "outputs": [
    {
     "data": {
      "text/plain": [
       "(TSTensor(vars:1, len:1024), TensorCategory(2))"
      ]
     },
     "execution_count": 78,
     "metadata": {
      "tags": []
     },
     "output_type": "execute_result"
    }
   ],
   "source": [
    "# In memory\n",
    "dsets[0]"
   ]
  },
  {
   "cell_type": "code",
   "execution_count": 79,
   "metadata": {
    "ExecuteTime": {
     "end_time": "2020-03-21T11:45:38.344997Z",
     "start_time": "2020-03-21T11:45:38.319813Z"
    },
    "colab": {
     "base_uri": "https://localhost:8080/",
     "height": 52
    },
    "colab_type": "code",
    "hidden": true,
    "id": "zp1BvKlki-9O",
    "outputId": "dc1b9734-41b6-463e-9f25-72c1c0bf438e"
   },
   "outputs": [
    {
     "data": {
      "text/plain": [
       "(TSTensor(vars:1, len:1024),\n",
       " tensor([[0.5373, 0.5311, 0.5285,  ..., 0.5264, 0.5195, 0.5114]]))"
      ]
     },
     "execution_count": 79,
     "metadata": {
      "tags": []
     },
     "output_type": "execute_result"
    }
   ],
   "source": [
    "dsets[0][0], dsets[0][0].data"
   ]
  },
  {
   "cell_type": "code",
   "execution_count": 80,
   "metadata": {
    "ExecuteTime": {
     "end_time": "2020-03-21T11:45:38.397546Z",
     "start_time": "2020-03-21T11:45:38.351244Z"
    },
    "colab": {
     "base_uri": "https://localhost:8080/",
     "height": 34
    },
    "colab_type": "code",
    "hidden": true,
    "id": "3nzFH4Gqi-9Y",
    "outputId": "84814ace-a76d-4d2f-bb7e-ac06be4baefa"
   },
   "outputs": [
    {
     "data": {
      "text/plain": [
       "(1000, 8236)"
      ]
     },
     "execution_count": 80,
     "metadata": {
      "tags": []
     },
     "output_type": "execute_result"
    }
   ],
   "source": [
    "len(dsets.train), len(dsets.valid)"
   ]
  },
  {
   "cell_type": "code",
   "execution_count": 81,
   "metadata": {
    "ExecuteTime": {
     "end_time": "2020-03-21T11:45:38.978093Z",
     "start_time": "2020-03-21T11:45:38.404096Z"
    },
    "colab": {
     "base_uri": "https://localhost:8080/",
     "height": 313
    },
    "colab_type": "code",
    "hidden": true,
    "id": "5cb35zUyi-9r",
    "outputId": "39c37ee9-5ade-469c-b845-7b1aefc48bf2"
   },
   "outputs": [
    {
     "data": {
      "image/png": "[encoded data removed]",
      "text/plain": [
       "<Figure size 432x288 with 1 Axes>"
      ]
     },
     "metadata": {
      "tags": []
     },
     "output_type": "display_data"
    }
   ],
   "source": [
    "dsets.show(dsets.train[0]);"
   ]
  },
  {
   "cell_type": "markdown",
   "metadata": {
    "colab_type": "text",
    "hidden": true,
    "id": "3nJa8tcki-92"
   },
   "source": [
    "For convenience, I've also adapted the TfmdDL to work more easily with time series. But most of the functionality is still the original fastai2."
   ]
  },
  {
   "cell_type": "code",
   "execution_count": 0,
   "metadata": {
    "ExecuteTime": {
     "end_time": "2020-03-21T11:45:39.029632Z",
     "start_time": "2020-03-21T11:45:38.983514Z"
    },
    "colab": {},
    "colab_type": "code",
    "hidden": true,
    "id": "SX0FwInLi-95"
   },
   "outputs": [],
   "source": [
    "class TSTfmdDL(TfmdDL): \n",
    "\n",
    "    @property\n",
    "    def vars(self): return self.dataset[0][0].shape[-2]\n",
    "    \n",
    "    @property\n",
    "    def len(self): return self.dataset[0][0].shape[-1]\n",
    "\n",
    "    @delegates(plt.subplots)\n",
    "    def show_batch(self, b=None, max_n=9, nrows=3, ncols=3, figsize=(12, 10), **kwargs):\n",
    "        if b is None: b = self.one_batch()\n",
    "        db = self.decode_batch(b, max_n=max_n)\n",
    "        if nrows is None: \n",
    "            sqrt = math.sqrt(len(db))\n",
    "            rows = min(math.ceil(sqrt), len(db)) \n",
    "        if ncols is None: ncols = len(db) // rnows\n",
    "        fig, axs = plt.subplots(nrows=nrows, ncols=ncols, figsize=figsize,  **kwargs)\n",
    "        for tup, ax in zip(db[:nrows ** 2], [axs] if nrows == 1 else axs.flatten()): \n",
    "            show_tuple(tup, ax=ax)\n",
    "        plt.tight_layout()\n",
    "\n",
    "    def test_dl(self:DataLoaders, test_items, rm_type_tfms=None, with_labels=False, **kwargs):\n",
    "        \"Create a test dataloader from `test_items` using validation transforms of `dls`\"\n",
    "        test = test_set(self.valid, test_items, rm_tfms=rm_type_tfms, with_labels=with_labels\n",
    "                        ) if isinstance(self.valid, (Datasets, NumpyDatasets, TfmdLists)) else test_items\n",
    "        return self.valid.new(test, **kwargs)\n",
    "\n",
    "@delegates(plt.subplots)\n",
    "def show_tuple(tup, ax=None, **kwargs):\n",
    "    \"Display a timeseries plot from a tuple\"\n",
    "    tup[0].show(title='unlabeled' if len(tup) == 1 else tup[1], ax=ax, **kwargs)"
   ]
  },
  {
   "cell_type": "code",
   "execution_count": 0,
   "metadata": {
    "ExecuteTime": {
     "end_time": "2020-03-21T11:45:39.049615Z",
     "start_time": "2020-03-21T11:45:39.036300Z"
    },
    "colab": {},
    "colab_type": "code",
    "hidden": true,
    "id": "SUQqA7WNi--C"
   },
   "outputs": [],
   "source": [
    "dls = TSTfmdDL(dsets, bs=64, val_bs=128)"
   ]
  },
  {
   "cell_type": "code",
   "execution_count": 84,
   "metadata": {
    "ExecuteTime": {
     "end_time": "2020-03-21T11:45:39.159895Z",
     "start_time": "2020-03-21T11:45:39.056564Z"
    },
    "colab": {
     "base_uri": "https://localhost:8080/",
     "height": 87
    },
    "colab_type": "code",
    "hidden": true,
    "id": "oLHDJ71Pi--L",
    "outputId": "d7872ffe-a4c5-4d58-91ad-fe5ea89057da"
   },
   "outputs": [
    {
     "data": {
      "text/plain": [
       "(TSTensor(samples:64, vars:1, len:1024),\n",
       " TensorCategory([2, 2, 0, 2, 2, 1, 2, 1, 2, 2, 1, 2, 2, 2, 2, 2, 0, 1, 2, 1, 2, 0, 1, 0,\n",
       "         2, 2, 0, 2, 2, 2, 1, 2, 1, 1, 2, 0, 0, 1, 2, 0, 1, 2, 1, 2, 2, 1, 1, 2,\n",
       "         0, 0, 0, 2, 2, 2, 0, 2, 2, 2, 2, 1, 2, 2, 2, 0]))"
      ]
     },
     "execution_count": 84,
     "metadata": {
      "tags": []
     },
     "output_type": "execute_result"
    }
   ],
   "source": [
    "xb, yb = dls.one_batch()\n",
    "xb, yb"
   ]
  },
  {
   "cell_type": "code",
   "execution_count": 85,
   "metadata": {
    "ExecuteTime": {
     "end_time": "2020-03-21T11:45:47.154177Z",
     "start_time": "2020-03-21T11:45:39.165415Z"
    },
    "colab": {
     "base_uri": "https://localhost:8080/",
     "height": 728
    },
    "colab_type": "code",
    "hidden": true,
    "id": "4Ubwyp9yi--W",
    "outputId": "95f771cd-16fb-4447-cf5f-30a9644e00a2",
    "scrolled": false
   },
   "outputs": [
    {
     "data": {
      "image/png": "[encoded data removed]",
      "text/plain": [
       "<Figure size 864x720 with 9 Axes>"
      ]
     },
     "metadata": {
      "tags": []
     },
     "output_type": "display_data"
    }
   ],
   "source": [
    "dls.show_batch(nrows=3, ncols=3, figsize=(12, 10), sharey=True)"
   ]
  },
  {
   "cell_type": "markdown",
   "metadata": {
    "colab_type": "text",
    "hidden": true,
    "id": "2nnGUVx3yhxC"
   },
   "source": [
    "So this is all the code you need to create dataloaders. We see that we can pass X and y either as np.arrays in memory or arrays on disk (np.memmap). NumpyDatasets accepts both types of arrays."
   ]
  },
  {
   "cell_type": "code",
   "execution_count": 0,
   "metadata": {
    "ExecuteTime": {
     "end_time": "2020-03-21T11:45:47.605931Z",
     "start_time": "2020-03-21T11:45:47.166633Z"
    },
    "colab": {},
    "colab_type": "code",
    "hidden": true,
    "id": "t-uCUmuL2IkI"
   },
   "outputs": [],
   "source": [
    "tfms  = [[ToTSTensor], [Categorize()]]\n",
    "dsets = NumpyDatasets(np.array(X), np.array(y), tfms=tfms, splits=splits)\n",
    "dls_in_memory   = TSTfmdDL(dsets, bs=64, val_bs=128)"
   ]
  },
  {
   "cell_type": "code",
   "execution_count": 0,
   "metadata": {
    "ExecuteTime": {
     "end_time": "2020-03-21T11:45:48.067760Z",
     "start_time": "2020-03-21T11:45:47.613661Z"
    },
    "colab": {},
    "colab_type": "code",
    "hidden": true,
    "id": "8OELNPsJi--q"
   },
   "outputs": [],
   "source": [
    "tfms  = [[ToTSTensor], [Categorize()]]\n",
    "dsets = NumpyDatasets(X, y, tfms=tfms, splits=splits)\n",
    "dls_on_disk   = TSTfmdDL(dsets, bs=64, val_bs=128)"
   ]
  },
  {
   "cell_type": "markdown",
   "metadata": {
    "colab_type": "text",
    "hidden": true,
    "id": "cdGYPv8K45b0"
   },
   "source": [
    "Let's compare performance between using data in memory vs data on disk: "
   ]
  },
  {
   "cell_type": "code",
   "execution_count": 88,
   "metadata": {
    "ExecuteTime": {
     "end_time": "2020-03-21T11:46:48.912121Z",
     "start_time": "2020-03-21T11:45:48.074685Z"
    },
    "colab": {
     "base_uri": "https://localhost:8080/",
     "height": 34
    },
    "colab_type": "code",
    "hidden": true,
    "id": "EwfqlMZ04iYb",
    "outputId": "c214500e-76c7-415c-cc67-10af58387064"
   },
   "outputs": [
    {
     "name": "stdout",
     "output_type": "stream",
     "text": [
      "1 loop, best of 3: 2.92 s per loop\n"
     ]
    }
   ],
   "source": [
    "# Data in memory\n",
    "%timeit cycle_dl(dls_in_memory.valid)"
   ]
  },
  {
   "cell_type": "code",
   "execution_count": 89,
   "metadata": {
    "ExecuteTime": {
     "end_time": "2020-03-21T11:47:52.637899Z",
     "start_time": "2020-03-21T11:46:48.918058Z"
    },
    "colab": {
     "base_uri": "https://localhost:8080/",
     "height": 34
    },
    "colab_type": "code",
    "hidden": true,
    "id": "hzA2GRu-i--1",
    "outputId": "e8d85765-c451-46df-dc20-ca8cf179a076"
   },
   "outputs": [
    {
     "name": "stdout",
     "output_type": "stream",
     "text": [
      "1 loop, best of 3: 2.92 s per loop\n"
     ]
    }
   ],
   "source": [
    "# Data on disk\n",
    "%timeit cycle_dl(dls_on_disk.valid)"
   ]
  },
  {
   "cell_type": "markdown",
   "metadata": {
    "colab_type": "text",
    "heading_collapsed": true,
    "id": "X2RE65FaBkVG"
   },
   "source": [
    "## Options summary"
   ]
  },
  {
   "cell_type": "markdown",
   "metadata": {
    "colab_type": "text",
    "hidden": true,
    "id": "YE_ewfSD5Wad"
   },
   "source": [
    "So 2 learnings: \n",
    "\n",
    "- The 3 options work very similarly, although the last one tends to be a bit faster. Option 3 provides some additional benefits (like the show_batch functionality, for example).\n",
    "\n",
    "- It makes no difference whether we use data in memory or on disk. That's great, as it allows to use this solution even with larger than memory datasets!"
   ]
  },
  {
   "cell_type": "markdown",
   "metadata": {
    "colab_type": "text",
    "heading_collapsed": true,
    "id": "RGnwm_lWPuA1"
   },
   "source": [
    "## Train model"
   ]
  },
  {
   "cell_type": "markdown",
   "metadata": {
    "colab_type": "text",
    "hidden": true,
    "id": "pcLXfiPk8L-C"
   },
   "source": [
    "So here is all the code you need to train a model."
   ]
  },
  {
   "cell_type": "code",
   "execution_count": 96,
   "metadata": {
    "ExecuteTime": {
     "end_time": "2020-03-21T11:47:52.659228Z",
     "start_time": "2020-03-21T11:47:52.647735Z"
    },
    "colab": {
     "base_uri": "https://localhost:8080/",
     "height": 797
    },
    "colab_type": "code",
    "hidden": true,
    "id": "47I_kzzS0Df4",
    "outputId": "95131d0c-2832-4b58-edd9-f9e3e2feca81"
   },
   "outputs": [
    {
     "data": {
      "text/html": [
       "<table border=\"1\" class=\"dataframe\">\n",
       "  <thead>\n",
       "    <tr style=\"text-align: left;\">\n",
       "      <th>epoch</th>\n",
       "      <th>train_loss</th>\n",
       "      <th>valid_loss</th>\n",
       "      <th>accuracy</th>\n",
       "      <th>time</th>\n",
       "    </tr>\n",
       "  </thead>\n",
       "  <tbody>\n",
       "    <tr>\n",
       "      <td>0</td>\n",
       "      <td>0.672128</td>\n",
       "      <td>1.020081</td>\n",
       "      <td>0.577222</td>\n",
       "      <td>00:07</td>\n",
       "    </tr>\n",
       "    <tr>\n",
       "      <td>1</td>\n",
       "      <td>0.550203</td>\n",
       "      <td>0.691641</td>\n",
       "      <td>0.846527</td>\n",
       "      <td>00:07</td>\n",
       "    </tr>\n",
       "    <tr>\n",
       "      <td>2</td>\n",
       "      <td>0.474273</td>\n",
       "      <td>0.389601</td>\n",
       "      <td>0.850656</td>\n",
       "      <td>00:07</td>\n",
       "    </tr>\n",
       "    <tr>\n",
       "      <td>3</td>\n",
       "      <td>0.404929</td>\n",
       "      <td>0.511200</td>\n",
       "      <td>0.844099</td>\n",
       "      <td>00:07</td>\n",
       "    </tr>\n",
       "    <tr>\n",
       "      <td>4</td>\n",
       "      <td>0.351931</td>\n",
       "      <td>0.736974</td>\n",
       "      <td>0.855998</td>\n",
       "      <td>00:07</td>\n",
       "    </tr>\n",
       "    <tr>\n",
       "      <td>5</td>\n",
       "      <td>0.295894</td>\n",
       "      <td>0.232067</td>\n",
       "      <td>0.917557</td>\n",
       "      <td>00:07</td>\n",
       "    </tr>\n",
       "    <tr>\n",
       "      <td>6</td>\n",
       "      <td>0.248009</td>\n",
       "      <td>0.317687</td>\n",
       "      <td>0.853570</td>\n",
       "      <td>00:07</td>\n",
       "    </tr>\n",
       "    <tr>\n",
       "      <td>7</td>\n",
       "      <td>0.213790</td>\n",
       "      <td>0.484034</td>\n",
       "      <td>0.781204</td>\n",
       "      <td>00:07</td>\n",
       "    </tr>\n",
       "    <tr>\n",
       "      <td>8</td>\n",
       "      <td>0.190101</td>\n",
       "      <td>0.302354</td>\n",
       "      <td>0.871782</td>\n",
       "      <td>00:07</td>\n",
       "    </tr>\n",
       "    <tr>\n",
       "      <td>9</td>\n",
       "      <td>0.168933</td>\n",
       "      <td>0.246571</td>\n",
       "      <td>0.876639</td>\n",
       "      <td>00:07</td>\n",
       "    </tr>\n",
       "    <tr>\n",
       "      <td>10</td>\n",
       "      <td>0.148435</td>\n",
       "      <td>0.107072</td>\n",
       "      <td>0.970010</td>\n",
       "      <td>00:07</td>\n",
       "    </tr>\n",
       "    <tr>\n",
       "      <td>11</td>\n",
       "      <td>0.132890</td>\n",
       "      <td>0.157400</td>\n",
       "      <td>0.932856</td>\n",
       "      <td>00:07</td>\n",
       "    </tr>\n",
       "    <tr>\n",
       "      <td>12</td>\n",
       "      <td>0.120652</td>\n",
       "      <td>0.136593</td>\n",
       "      <td>0.961146</td>\n",
       "      <td>00:07</td>\n",
       "    </tr>\n",
       "    <tr>\n",
       "      <td>13</td>\n",
       "      <td>0.114837</td>\n",
       "      <td>0.181566</td>\n",
       "      <td>0.931642</td>\n",
       "      <td>00:07</td>\n",
       "    </tr>\n",
       "    <tr>\n",
       "      <td>14</td>\n",
       "      <td>0.105439</td>\n",
       "      <td>0.115583</td>\n",
       "      <td>0.968431</td>\n",
       "      <td>00:07</td>\n",
       "    </tr>\n",
       "    <tr>\n",
       "      <td>15</td>\n",
       "      <td>0.095148</td>\n",
       "      <td>0.083847</td>\n",
       "      <td>0.976081</td>\n",
       "      <td>00:07</td>\n",
       "    </tr>\n",
       "    <tr>\n",
       "      <td>16</td>\n",
       "      <td>0.086339</td>\n",
       "      <td>0.120909</td>\n",
       "      <td>0.956775</td>\n",
       "      <td>00:07</td>\n",
       "    </tr>\n",
       "    <tr>\n",
       "      <td>17</td>\n",
       "      <td>0.081063</td>\n",
       "      <td>0.088446</td>\n",
       "      <td>0.975959</td>\n",
       "      <td>00:07</td>\n",
       "    </tr>\n",
       "    <tr>\n",
       "      <td>18</td>\n",
       "      <td>0.077360</td>\n",
       "      <td>0.085181</td>\n",
       "      <td>0.975716</td>\n",
       "      <td>00:07</td>\n",
       "    </tr>\n",
       "    <tr>\n",
       "      <td>19</td>\n",
       "      <td>0.071645</td>\n",
       "      <td>0.088919</td>\n",
       "      <td>0.976445</td>\n",
       "      <td>00:07</td>\n",
       "    </tr>\n",
       "    <tr>\n",
       "      <td>20</td>\n",
       "      <td>0.065505</td>\n",
       "      <td>0.081742</td>\n",
       "      <td>0.975959</td>\n",
       "      <td>00:07</td>\n",
       "    </tr>\n",
       "    <tr>\n",
       "      <td>21</td>\n",
       "      <td>0.060714</td>\n",
       "      <td>0.082700</td>\n",
       "      <td>0.975595</td>\n",
       "      <td>00:07</td>\n",
       "    </tr>\n",
       "    <tr>\n",
       "      <td>22</td>\n",
       "      <td>0.056571</td>\n",
       "      <td>0.076437</td>\n",
       "      <td>0.978995</td>\n",
       "      <td>00:07</td>\n",
       "    </tr>\n",
       "    <tr>\n",
       "      <td>23</td>\n",
       "      <td>0.054392</td>\n",
       "      <td>0.075990</td>\n",
       "      <td>0.978266</td>\n",
       "      <td>00:07</td>\n",
       "    </tr>\n",
       "    <tr>\n",
       "      <td>24</td>\n",
       "      <td>0.050650</td>\n",
       "      <td>0.075749</td>\n",
       "      <td>0.978145</td>\n",
       "      <td>00:07</td>\n",
       "    </tr>\n",
       "  </tbody>\n",
       "</table>"
      ],
      "text/plain": [
       "<IPython.core.display.HTML object>"
      ]
     },
     "metadata": {
      "tags": []
     },
     "output_type": "display_data"
    }
   ],
   "source": [
    "tfms  = [[ToTSTensor], [Categorize()]]\n",
    "dsets = NumpyDatasets(X, y, tfms=tfms, splits=splits)\n",
    "dls   = TSTfmdDL(dsets, bs=64, val_bs=128)\n",
    "model = InceptionTime(dls.vars, dls.c)\n",
    "learn = Learner(dls.dataloaders(), model, loss_func=nn.CrossEntropyLoss(), metrics=accuracy)\n",
    "learn.fit_one_cycle(25, lr_max=1e-3)"
   ]
  },
  {
   "cell_type": "markdown",
   "metadata": {
    "colab_type": "text",
    "heading_collapsed": true,
    "id": "8XWZPF_xKNst"
   },
   "source": [
    "## Add test set"
   ]
  },
  {
   "cell_type": "markdown",
   "metadata": {
    "colab_type": "text",
    "hidden": true,
    "id": "yf8Zr_1SKRUm"
   },
   "source": [
    "One additional requirement is to be able to add a test set for inference. This can be done with a small modification of the test_set function to allow for NumpyDatasets:"
   ]
  },
  {
   "cell_type": "code",
   "execution_count": 0,
   "metadata": {
    "ExecuteTime": {
     "end_time": "2020-03-21T11:47:52.746898Z",
     "start_time": "2020-03-21T11:47:52.665856Z"
    },
    "colab": {},
    "colab_type": "code",
    "hidden": true,
    "id": "c2GK5tRk8L-a"
   },
   "outputs": [],
   "source": [
    "def add_data(dsets, X=None, y=None, test_items=None, rm_tfms=None, with_labels=False):\n",
    "    \"Create a test or unlabeled sets from `items` using validation transforms of `dsets`\"\n",
    "    items = itemify(X,) if y is None else itemify(X, y)\n",
    "    if y is None: with_labels = False\n",
    "    else: with_labels = True\n",
    "    if isinstance(dsets, (Datasets, NumpyDatasets)):\n",
    "        tls = dsets.tls if with_labels else dsets.tls[:dsets.n_inp]\n",
    "        new_tls = [tl._new(items, split_idx=1) for tl in tls]\n",
    "        if rm_tfms is None: rm_tfms = [tl.infer_idx(get_first(items)) for tl in new_tls]\n",
    "        else:               rm_tfms = tuplify(rm_tfms, match=new_tls)\n",
    "        for i,j in enumerate(rm_tfms): new_tls[i].tfms.fs = new_tls[i].tfms.fs[j:]\n",
    "        if isinstance(dsets, Datasets):return Datasets(tls=new_tls)\n",
    "        else: return NumpyDatasets(tls=new_tls)\n",
    "    elif isinstance(dsets, TfmdLists):\n",
    "        new_tl = dsets._new(items, split_idx=1)\n",
    "        if rm_tfms is None: rm_tfms = dsets.infer_idx(get_first(items))\n",
    "        new_tl.tfms.fs = new_tl.tfms.fs[rm_tfms:]\n",
    "        return new_tl\n",
    "    else: raise Exception(f\"This method requires using the fastai library to assemble your data.Expected a `Datasets` or a `TfmdLists` but got {dsets.__class__.__name__}\")\n",
    "\n",
    "NumpyDatasets.add_data = add_data"
   ]
  },
  {
   "cell_type": "markdown",
   "metadata": {
    "colab_type": "text",
    "hidden": true,
    "id": "l_pIGrdENp_k"
   },
   "source": [
    "To create the test dataloader, we'll pretend that X and y are test data since the UCR dataset only provides 2 sets of data we've used as train and valid."
   ]
  },
  {
   "cell_type": "code",
   "execution_count": 92,
   "metadata": {
    "ExecuteTime": {
     "end_time": "2020-03-21T11:47:53.789380Z",
     "start_time": "2020-03-21T11:47:52.756294Z"
    },
    "colab": {
     "base_uri": "https://localhost:8080/",
     "height": 0
    },
    "colab_type": "code",
    "hidden": true,
    "id": "g8aWe03HHRSw",
    "outputId": "bf9c4481-19ea-4462-c198-06ea8d253b67"
   },
   "outputs": [
    {
     "data": {
      "text/plain": [
       "(TSTensor(samples:128, vars:1, len:1024),)"
      ]
     },
     "execution_count": 92,
     "metadata": {
      "tags": []
     },
     "output_type": "execute_result"
    }
   ],
   "source": [
    "tfms    = [[ToTSTensor], [Categorize()]]\n",
    "dsets   = NumpyDatasets(X, y, tfms=tfms, splits=splits)\n",
    "tst_set = dsets.add_data(X)\n",
    "tst_dl  = TSTfmdDL(tst_set, bs=128)\n",
    "b       = tst_dl.one_batch()\n",
    "b"
   ]
  },
  {
   "cell_type": "markdown",
   "metadata": {
    "colab_type": "text",
    "hidden": true,
    "id": "_LMdXXFD8MAA"
   },
   "source": [
    "The transforms applied to the test set are the same applied to the valid set."
   ]
  },
  {
   "cell_type": "code",
   "execution_count": 93,
   "metadata": {
    "ExecuteTime": {
     "end_time": "2020-03-21T11:47:53.808049Z",
     "start_time": "2020-03-21T11:47:53.795545Z"
    },
    "colab": {
     "base_uri": "https://localhost:8080/",
     "height": 0
    },
    "colab_type": "code",
    "hidden": true,
    "id": "IL5vnbkn8MAB",
    "outputId": "965cd834-aa33-4956-c4cb-428b14dc5b13"
   },
   "outputs": [
    {
     "data": {
      "text/plain": [
       "Pipeline: itemgetter -> ToTSTensor"
      ]
     },
     "execution_count": 93,
     "metadata": {
      "tags": []
     },
     "output_type": "execute_result"
    }
   ],
   "source": [
    "tst_set.tls[0].tfms"
   ]
  },
  {
   "cell_type": "markdown",
   "metadata": {
    "colab_type": "text",
    "hidden": true,
    "id": "G8B4C3g08MAG"
   },
   "source": [
    "We can even create a test set with labeled examples in case we want to measure performance during inference:"
   ]
  },
  {
   "cell_type": "code",
   "execution_count": 94,
   "metadata": {
    "ExecuteTime": {
     "end_time": "2020-03-21T11:47:54.743199Z",
     "start_time": "2020-03-21T11:47:53.814018Z"
    },
    "colab": {
     "base_uri": "https://localhost:8080/",
     "height": 0
    },
    "colab_type": "code",
    "hidden": true,
    "id": "tXa976KE_cbO",
    "outputId": "55037add-3c94-48a2-c0d9-35a42689fa4d"
   },
   "outputs": [
    {
     "data": {
      "text/plain": [
       "(TSTensor(samples:128, vars:1, len:1024),\n",
       " TensorCategory([2, 2, 0, 2, 2, 1, 2, 1, 2, 2, 1, 2, 2, 2, 2, 2, 0, 1, 2, 1, 2, 0, 1, 0,\n",
       "         2, 2, 0, 2, 2, 2, 1, 2, 1, 1, 2, 0, 0, 1, 2, 0, 1, 2, 1, 2, 2, 1, 1, 2,\n",
       "         0, 0, 0, 2, 2, 2, 0, 2, 2, 2, 2, 1, 2, 2, 2, 0, 1, 2, 2, 2, 2, 1, 1, 2,\n",
       "         1, 0, 1, 2, 2, 1, 1, 2, 2, 1, 1, 1, 2, 0, 2, 2, 1, 1, 2, 0, 2, 2, 2, 1,\n",
       "         2, 2, 1, 2, 1, 1, 2, 1, 2, 1, 2, 0, 2, 2, 1, 2, 2, 2, 2, 2, 1, 2, 1, 1,\n",
       "         2, 2, 2, 2, 1, 2, 0, 2]))"
      ]
     },
     "execution_count": 94,
     "metadata": {
      "tags": []
     },
     "output_type": "execute_result"
    }
   ],
   "source": [
    "tfms    = [[ToTSTensor], [Categorize()]]\n",
    "dsets   = NumpyDatasets(X, y, tfms=tfms, splits=splits)\n",
    "tst_set = dsets.add_data(X, y)\n",
    "tst_dl  = TSTfmdDL(tst_set, bs=128)\n",
    "b       = tst_dl.one_batch()\n",
    "b"
   ]
  },
  {
   "cell_type": "markdown",
   "metadata": {
    "colab_type": "text",
    "heading_collapsed": true,
    "id": "A5nzzLJ-7pNc"
   },
   "source": [
    "## Unlabeled datasets"
   ]
  },
  {
   "cell_type": "markdown",
   "metadata": {
    "colab_type": "text",
    "hidden": true,
    "id": "J1pvVxj28MAO"
   },
   "source": [
    "Sometimes we need to create a dataloader that load just unlabeled data, processed in the same way as valid. This can be done in exactly the same way as the add test data. \n",
    "\n",
    "This is very common when using semi-supervised or self.supervised learning. \n",
    "I also wanted to check that this approach can handle those scenarios as well:"
   ]
  },
  {
   "cell_type": "code",
   "execution_count": 95,
   "metadata": {
    "ExecuteTime": {
     "end_time": "2020-03-21T11:47:55.458093Z",
     "start_time": "2020-03-21T11:47:54.753315Z"
    },
    "colab": {
     "base_uri": "https://localhost:8080/",
     "height": 0
    },
    "colab_type": "code",
    "hidden": true,
    "id": "jQmaA3Jt7sN-",
    "outputId": "80e80c13-2628-4e81-8e0c-dba4335a57a9"
   },
   "outputs": [
    {
     "data": {
      "text/plain": [
       "(TSTensor(samples:128, vars:1, len:1024),)"
      ]
     },
     "execution_count": 95,
     "metadata": {
      "tags": []
     },
     "output_type": "execute_result"
    }
   ],
   "source": [
    "tfms  = [[ToTSTensor]]\n",
    "dsets = NumpyDatasets(X, tfms=tfms, splits=splits)\n",
    "uset  = dsets.add_data(X)\n",
    "udl   = TSTfmdDL(uset, bs=128)\n",
    "xb    = udl.one_batch()\n",
    "xb"
   ]
  },
  {
   "cell_type": "markdown",
   "metadata": {
    "colab_type": "text",
    "hidden": true,
    "id": "gWWZIMS-_CQm"
   },
   "source": [
    "It returns tuples with just 1 element. Good. That's exactly what we need!"
   ]
  },
  {
   "cell_type": "markdown",
   "metadata": {
    "colab_type": "text",
    "heading_collapsed": true,
    "id": "pGUJW3ec7foC"
   },
   "source": [
    "## Summary"
   ]
  },
  {
   "cell_type": "markdown",
   "metadata": {
    "colab_type": "text",
    "hidden": true,
    "id": "_jKBxj_d7iec"
   },
   "source": [
    "Well, we've seen how we can meet all the requirements we listed before:\n",
    "\n",
    "- Be able to work with *numpy arrays with any number of dimensions* (for example, univariate or multivariate time series). ✅\n",
    "- Data may be *larger than RAM*, so it may be in memory or on disk. ✅\n",
    "- Use data on disk with similar *performance* to data in memory. ✅\n",
    "- Data is often *split*: \n",
    "    - X, y ✅\n",
    "    - X_train, X_valid, y_train, y_valid (less often) ✅\n",
    "- Add *test dataset*. ✅\n",
    "- Add an *unlabeled dataset* (for example for semi-supervised/ self-supervised learning). ✅\n",
    "\n",
    "All of them, together, is a pretty challanging set of requirements.\n",
    "\n",
    "I must say I'm impressed how little coding is necessary in fastai2 to meet all these numpy arrays/ time series requirements.\n",
    "\n",
    "I hope this provides some help on ways to leverage this excellent library!"
   ]
  }
 ],
 "metadata": {
  "accelerator": "GPU",
  "colab": {
   "name": "01_How_to_use_numpy_arrays_in_fastai2.ipynb",
   "provenance": []
  },
  "kernelspec": {
   "display_name": "Python 3",
   "language": "python",
   "name": "python3"
  },
  "language_info": {
   "codemirror_mode": {
    "name": "ipython",
    "version": 3
   },
   "file_extension": ".py",
   "mimetype": "text/x-python",
   "name": "python",
   "nbconvert_exporter": "python",
   "pygments_lexer": "ipython3",
   "version": "3.7.3"
  },
  "toc": {
   "base_numbering": 1,
   "nav_menu": {},
   "number_sections": true,
   "sideBar": true,
   "skip_h1_title": false,
   "title_cell": "Table of Contents",
   "title_sidebar": "Contents",
   "toc_cell": false,
   "toc_position": {},
   "toc_section_display": true,
   "toc_window_display": false
  }
 },
 "nbformat": 4,
 "nbformat_minor": 1
}
