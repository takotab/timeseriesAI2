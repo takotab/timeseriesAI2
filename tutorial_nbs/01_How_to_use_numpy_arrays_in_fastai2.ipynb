{
 "cells": [
  {
   "cell_type": "markdown",
   "metadata": {
    "colab_type": "text",
    "id": "Z1em7GZAi-5d"
   },
   "source": [
    "created by Ignacio Oguiza - email: oguiza@gmail.com"
   ]
  },
  {
   "cell_type": "markdown",
   "metadata": {
    "colab_type": "text",
    "id": "2ab4lPk5i-5n"
   },
   "source": [
    "# How to work with numpy arrays in fastai2: time series classification"
   ]
  },
  {
   "cell_type": "markdown",
   "metadata": {
    "colab_type": "text",
    "heading_collapsed": true,
    "id": "t79u4t_V8L4C"
   },
   "source": [
    "## Requirements"
   ]
  },
  {
   "cell_type": "markdown",
   "metadata": {
    "colab_type": "text",
    "hidden": true,
    "id": "LKFoOVSfi-5r"
   },
   "source": [
    "I'd like to share with you how you can work with (very large) numpy arrays in **fastai2** through a time series classification example. In this case we'll use a multivariate time series dataset.\n",
    "\n",
    "**High level requirements:**\n",
    "\n",
    "- Be able to work with *numpy arrays with any number of dimensions* (for example, univariate or multivariate time series)\n",
    "- Data may be *larger than RAM*, so it may be in memory or on disk.\n",
    "- Use data on disk with similar *performance* to data in memory.\n",
    "- Data is often *split*: \n",
    "    - X, y\n",
    "    - X_train, X_valid, y_train, y_valid\n",
    "- Add *test dataset*.\n",
    "- Add an *unlabeled dataset* (for example for semi-supervised/ self-supervised learning).\n",
    "\n",
    "\n",
    "These are pretty challanging requirements. Let's see if fastai2 can meet them with little configuration."
   ]
  },
  {
   "cell_type": "markdown",
   "metadata": {
    "colab_type": "text",
    "heading_collapsed": true,
    "id": "a9f915tSi-5v"
   },
   "source": [
    "## Import libraries"
   ]
  },
  {
   "cell_type": "code",
   "execution_count": 1,
   "metadata": {
    "ExecuteTime": {
     "end_time": "2020-03-21T11:45:10.549320Z",
     "start_time": "2020-03-21T11:45:10.444909Z"
    },
    "colab": {
     "base_uri": "https://localhost:8080/",
     "height": 34
    },
    "colab_type": "code",
    "hidden": true,
    "id": "IdZGe28FjJc8",
    "outputId": "76387773-9821-477b-f806-90d16750185a"
   },
   "outputs": [],
   "source": [
    "import sys\n",
    "import os\n",
    "ISCOLAB = 'google.colab' in sys.modules\n",
    "if ISCOLAB:\n",
    "    if not os.path.isdir('/content/timeseriesAI2'):\n",
    "        !pip install git+https://github.com/fastai/fastai2 \n",
    "        !pip install git+https://github.com/fastai/fastcore \n",
    "        !pip install pyunpack\n",
    "        !pip install sktime\n",
    "        !git clone https://github.com/timeseriesAI/timeseriesAI2.git\n",
    "        %cd timeseriesAI2\n",
    "    else: \n",
    "        path = !pwd\n",
    "        if path != ['/content/timeseriesAI2']: \n",
    "            %cd timeseriesAI2\n",
    "        !pwd"
   ]
  },
  {
   "cell_type": "code",
   "execution_count": 2,
   "metadata": {
    "ExecuteTime": {
     "end_time": "2020-03-21T11:45:10.590960Z",
     "start_time": "2020-03-21T11:45:10.557568Z"
    },
    "colab": {
     "base_uri": "https://localhost:8080/",
     "height": 17
    },
    "colab_type": "code",
    "hidden": true,
    "id": "owuyrTRfi-5z",
    "outputId": "9f918161-c006-48cb-c8cc-0845b22d1c54"
   },
   "outputs": [
    {
     "data": {
      "text/html": [
       "<style>.container {width:95% !important; }</style>"
      ],
      "text/plain": [
       "<IPython.core.display.HTML object>"
      ]
     },
     "metadata": {},
     "output_type": "display_data"
    }
   ],
   "source": [
    "#from nbdev.showdoc import *\n",
    "from IPython.display import display, HTML\n",
    "display(HTML(\"<style>.container {width:95% !important; }</style>\"))"
   ]
  },
  {
   "cell_type": "code",
   "execution_count": 3,
   "metadata": {
    "ExecuteTime": {
     "end_time": "2020-03-21T11:45:21.827133Z",
     "start_time": "2020-03-21T11:45:10.601649Z"
    },
    "colab": {},
    "colab_type": "code",
    "hidden": true,
    "id": "b11VyFaii-6E"
   },
   "outputs": [],
   "source": [
    "from fastai2.torch_core import *\n",
    "from fastai2.data.all import *\n",
    "from fastai2.learner import *\n",
    "from fastai2.metrics import *\n",
    "from fastai2.callback.all import *"
   ]
  },
  {
   "cell_type": "code",
   "execution_count": 4,
   "metadata": {
    "ExecuteTime": {
     "end_time": "2020-03-21T11:45:22.005880Z",
     "start_time": "2020-03-21T11:45:21.837008Z"
    },
    "colab": {},
    "colab_type": "code",
    "hidden": true,
    "id": "i9hYZF5Hi-6P"
   },
   "outputs": [],
   "source": [
    "from timeseries.imports import *\n",
    "from timeseries.utils import *\n",
    "from timeseries.data import *\n",
    "from timeseries.core import *\n",
    "from timeseries.models import *"
   ]
  },
  {
   "cell_type": "markdown",
   "metadata": {
    "colab_type": "text",
    "heading_collapsed": true,
    "id": "AHm_p-1Di-6Z"
   },
   "source": [
    "## Load data"
   ]
  },
  {
   "cell_type": "markdown",
   "metadata": {
    "colab_type": "text",
    "hidden": true,
    "id": "1irYEtz9i-6d"
   },
   "source": [
    "In this notebook, we'll use one of the most widely used time series classification databases: UEA & UCR Time Series Classification Repository. As of Sep 2019 it contains 128 univariate datasets and 30 multivariate datasets.\n",
    "\n",
    "In the case of UCR data it's very easy to get data loaded. Let's select a dataset. You can modify this and select any one from the previous lists (univariate of multivariate).\n",
    "\n",
    "This framework I'm using can deal with numpy arrays on disk (np.memmap). If you are not familiar with them, you may want to take a look at the 00_How_to_efficiently_work_with_very_large_numpy_arrays.ipynb I've also shared."
   ]
  },
  {
   "cell_type": "code",
   "execution_count": 5,
   "metadata": {
    "ExecuteTime": {
     "end_time": "2020-03-21T11:45:22.058336Z",
     "start_time": "2020-03-21T11:45:22.013632Z"
    },
    "colab": {
     "base_uri": "https://localhost:8080/",
     "height": 1000
    },
    "colab_type": "code",
    "hidden": true,
    "id": "6-WObfYpi-6h",
    "outputId": "e184b26a-d960-4378-fbd7-72e6a46f0b9f"
   },
   "outputs": [
    {
     "name": "stdout",
     "output_type": "stream",
     "text": [
      "['ACSF1',\n",
      " 'Adiac',\n",
      " 'AllGestureWiimoteX',\n",
      " 'AllGestureWiimoteY',\n",
      " 'AllGestureWiimoteZ',\n",
      " 'ArrowHead',\n",
      " 'Beef',\n",
      " 'BeetleFly',\n",
      " 'BirdChicken',\n",
      " 'BME',\n",
      " 'Car',\n",
      " 'CBF',\n",
      " 'Chinatown',\n",
      " 'ChlorineConcentration',\n",
      " 'CinCECGTorso',\n",
      " 'Coffee',\n",
      " 'Computers',\n",
      " 'CricketX',\n",
      " 'CricketY',\n",
      " 'CricketZ',\n",
      " 'Crop',\n",
      " 'DiatomSizeReduction',\n",
      " 'DistalPhalanxOutlineAgeGroup',\n",
      " 'DistalPhalanxOutlineCorrect',\n",
      " 'DistalPhalanxTW',\n",
      " 'DodgerLoopDay',\n",
      " 'DodgerLoopGame',\n",
      " 'DodgerLoopWeekend',\n",
      " 'Earthquakes',\n",
      " 'ECG200',\n",
      " 'ECG5000',\n",
      " 'ECGFiveDays',\n",
      " 'ElectricDevices',\n",
      " 'EOGHorizontalSignal',\n",
      " 'EOGVerticalSignal',\n",
      " 'EthanolLevel',\n",
      " 'FaceAll',\n",
      " 'FaceFour',\n",
      " 'FacesUCR',\n",
      " 'FiftyWords',\n",
      " 'Fish',\n",
      " 'FordA',\n",
      " 'FordB',\n",
      " 'FreezerRegularTrain',\n",
      " 'FreezerSmallTrain',\n",
      " 'Fungi',\n",
      " 'GestureMidAirD1',\n",
      " 'GestureMidAirD2',\n",
      " 'GestureMidAirD3',\n",
      " 'GesturePebbleZ1',\n",
      " 'GesturePebbleZ2',\n",
      " 'GunPoint',\n",
      " 'GunPointAgeSpan',\n",
      " 'GunPointMaleVersusFemale',\n",
      " 'GunPointOldVersusYoung',\n",
      " 'Ham',\n",
      " 'HandOutlines',\n",
      " 'Haptics',\n",
      " 'Herring',\n",
      " 'HouseTwenty',\n",
      " 'InlineSkate',\n",
      " 'InsectEPGRegularTrain',\n",
      " 'InsectEPGSmallTrain',\n",
      " 'InsectWingbeatSound',\n",
      " 'ItalyPowerDemand',\n",
      " 'LargeKitchenAppliances',\n",
      " 'Lightning2',\n",
      " 'Lightning7',\n",
      " 'Mallat',\n",
      " 'Meat',\n",
      " 'MedicalImages',\n",
      " 'MelbournePedestrian',\n",
      " 'MiddlePhalanxOutlineAgeGroup',\n",
      " 'MiddlePhalanxOutlineCorrect',\n",
      " 'MiddlePhalanxTW',\n",
      " 'MixedShapesRegularTrain',\n",
      " 'MixedShapesSmallTrain',\n",
      " 'MoteStrain',\n",
      " 'NonInvasiveFetalECGThorax1',\n",
      " 'NonInvasiveFetalECGThorax2',\n",
      " 'OliveOil',\n",
      " 'OSULeaf',\n",
      " 'PhalangesOutlinesCorrect',\n",
      " 'Phoneme',\n",
      " 'PickupGestureWiimoteZ',\n",
      " 'PigAirwayPressure',\n",
      " 'PigArtPressure',\n",
      " 'PigCVP',\n",
      " 'PLAID',\n",
      " 'Plane',\n",
      " 'PowerCons',\n",
      " 'ProximalPhalanxOutlineAgeGroup',\n",
      " 'ProximalPhalanxOutlineCorrect',\n",
      " 'ProximalPhalanxTW',\n",
      " 'RefrigerationDevices',\n",
      " 'Rock',\n",
      " 'ScreenType',\n",
      " 'SemgHandGenderCh2',\n",
      " 'SemgHandMovementCh2',\n",
      " 'SemgHandSubjectCh2',\n",
      " 'ShakeGestureWiimoteZ',\n",
      " 'ShapeletSim',\n",
      " 'ShapesAll',\n",
      " 'SmallKitchenAppliances',\n",
      " 'SmoothSubspace',\n",
      " 'SonyAIBORobotSurface1',\n",
      " 'SonyAIBORobotSurface2',\n",
      " 'StarLightCurves',\n",
      " 'Strawberry',\n",
      " 'SwedishLeaf',\n",
      " 'Symbols',\n",
      " 'SyntheticControl',\n",
      " 'ToeSegmentation1',\n",
      " 'ToeSegmentation2',\n",
      " 'Trace',\n",
      " 'TwoLeadECG',\n",
      " 'TwoPatterns',\n",
      " 'UMD',\n",
      " 'UWaveGestureLibraryAll',\n",
      " 'UWaveGestureLibraryX',\n",
      " 'UWaveGestureLibraryY',\n",
      " 'UWaveGestureLibraryZ',\n",
      " 'Wafer',\n",
      " 'Wine',\n",
      " 'WordSynonyms',\n",
      " 'Worms',\n",
      " 'WormsTwoClass',\n",
      " 'Yoga']\n"
     ]
    }
   ],
   "source": [
    "pprint.pprint(get_UCR_univariate_list())"
   ]
  },
  {
   "cell_type": "code",
   "execution_count": 6,
   "metadata": {
    "ExecuteTime": {
     "end_time": "2020-03-21T11:45:22.080553Z",
     "start_time": "2020-03-21T11:45:22.066649Z"
    },
    "colab": {
     "base_uri": "https://localhost:8080/",
     "height": 527
    },
    "colab_type": "code",
    "hidden": true,
    "id": "6pFRsUQRi-6t",
    "outputId": "85c6ceb9-5f55-44cd-ae56-25e18f3f473a"
   },
   "outputs": [
    {
     "name": "stdout",
     "output_type": "stream",
     "text": [
      "['ArticularyWordRecognition',\n",
      " 'AtrialFibrillation',\n",
      " 'BasicMotions',\n",
      " 'CharacterTrajectories',\n",
      " 'Cricket',\n",
      " 'DuckDuckGeese',\n",
      " 'EigenWorms',\n",
      " 'Epilepsy',\n",
      " 'ERing',\n",
      " 'EthanolConcentration',\n",
      " 'FaceDetection',\n",
      " 'FingerMovements',\n",
      " 'HandMovementDirection',\n",
      " 'Handwriting',\n",
      " 'Heartbeat',\n",
      " 'InsectWingbeat',\n",
      " 'JapaneseVowels',\n",
      " 'Libras',\n",
      " 'LSST',\n",
      " 'MotorImagery',\n",
      " 'NATOPS',\n",
      " 'PEMS-SF',\n",
      " 'PenDigits',\n",
      " 'PhonemeSpectra',\n",
      " 'RacketSports',\n",
      " 'SelfRegulationSCP1',\n",
      " 'SelfRegulationSCP2',\n",
      " 'SpokenArabicDigits',\n",
      " 'StandWalkJump',\n",
      " 'UWaveGestureLibrary']\n"
     ]
    }
   ],
   "source": [
    "pprint.pprint(get_UCR_multivariate_list())"
   ]
  },
  {
   "cell_type": "markdown",
   "metadata": {
    "colab_type": "text",
    "hidden": true,
    "id": "MORJo7sMi-63"
   },
   "source": [
    "In the case of UCR data it's very easy to get data loaded. Let's select a dataset. You can modify this and select any one from the previous lists (univariate of multivariate).\n",
    "\n",
    "This framework I'm using can deal with numpy arrays on disk (np.memmap). If you are not familiar with them, you may want to take a look at the 00_How_to_efficiently_work_with_very_large_numpy_arrays.ipynb I've also shared. To demonstrate that I'll use the get_UCR_data on_disk=True."
   ]
  },
  {
   "cell_type": "code",
   "execution_count": 7,
   "metadata": {
    "ExecuteTime": {
     "end_time": "2020-03-21T11:45:22.099798Z",
     "start_time": "2020-03-21T11:45:22.089988Z"
    },
    "colab": {},
    "colab_type": "code",
    "hidden": true,
    "id": "KycWmPq1i-66"
   },
   "outputs": [],
   "source": [
    "# dataset id\n",
    "dsid = 'StarLightCurves'"
   ]
  },
  {
   "cell_type": "code",
   "execution_count": 8,
   "metadata": {
    "ExecuteTime": {
     "end_time": "2020-03-21T11:45:22.214461Z",
     "start_time": "2020-03-21T11:45:22.122295Z"
    },
    "colab": {
     "base_uri": "https://localhost:8080/",
     "height": 119
    },
    "colab_type": "code",
    "hidden": true,
    "id": "944hXVcgi-7D",
    "outputId": "5d2f4055-061f-4479-defc-e8fd3b82041c"
   },
   "outputs": [
    {
     "name": "stdout",
     "output_type": "stream",
     "text": [
      "Dataset: StarLightCurves\n",
      "X_train: (1000, 1, 1024)\n",
      "y_train: (1000,)\n",
      "X_valid: (8236, 1, 1024)\n",
      "y_valid: (8236,) \n",
      "\n"
     ]
    }
   ],
   "source": [
    "X_train, y_train, X_valid, y_valid = get_UCR_data(dsid, parent_dir='./data/UCR/', verbose=True, on_disk=True)"
   ]
  },
  {
   "cell_type": "markdown",
   "metadata": {
    "colab_type": "text",
    "hidden": true,
    "id": "tZBJ77Vdi-8b"
   },
   "source": [
    "The proposed solutions only take X and y, not X_train, y_train, X_valid, y_valid.\n",
    "\n",
    "Since data is already split between train and test in the UCR dataset, we are going to merge them and create some indices to split them in the same sets.\n",
    "\n",
    "As I also want to demonstrate how you can use numpy arrays on disk, I'll merge data and save it to simulate you have an array on disk (load with mmap_mode='r')."
   ]
  },
  {
   "cell_type": "code",
   "execution_count": 9,
   "metadata": {
    "ExecuteTime": {
     "end_time": "2020-03-21T11:45:23.091203Z",
     "start_time": "2020-03-21T11:45:22.240120Z"
    },
    "colab": {
     "base_uri": "https://localhost:8080/",
     "height": 34
    },
    "colab_type": "code",
    "hidden": true,
    "id": "_zN9VdsIi-8e",
    "outputId": "bd956b76-8c61-4750-f696-f0e9dfc52f52"
   },
   "outputs": [
    {
     "data": {
      "text/plain": [
       "((9236, 1, 1024), (9236,))"
      ]
     },
     "execution_count": 9,
     "metadata": {},
     "output_type": "execute_result"
    }
   ],
   "source": [
    "X = np.concatenate((X_train, X_valid))\n",
    "y = np.concatenate((y_train, y_valid))\n",
    "folder = './data/UCR'\n",
    "np.save(f'{folder}/{dsid}/X.npy', X)\n",
    "np.save(f'{folder}/{dsid}/y.npy', y)\n",
    "del X, y\n",
    "X = np.load(f'{folder}/{dsid}/X.npy', mmap_mode='r')\n",
    "y = np.load(f'{folder}/{dsid}/y.npy', mmap_mode='r')\n",
    "splits = (L(list(np.arange(len(X_train)))), L(list(np.arange(len(X_train), len(X)))))\n",
    "X.shape, y.shape"
   ]
  },
  {
   "cell_type": "code",
   "execution_count": 10,
   "metadata": {
    "ExecuteTime": {
     "end_time": "2020-03-21T11:45:23.114694Z",
     "start_time": "2020-03-21T11:45:23.099099Z"
    },
    "colab": {
     "base_uri": "https://localhost:8080/",
     "height": 51
    },
    "colab_type": "code",
    "hidden": true,
    "id": "zf-j52Gxxw43",
    "outputId": "5002db87-761f-4e46-d850-cae4dd8abf31"
   },
   "outputs": [
    {
     "data": {
      "text/plain": [
       "((#1000) [0,1,2,3,4,5,6,7,8,9...],\n",
       " (#8236) [1000,1001,1002,1003,1004,1005,1006,1007,1008,1009...])"
      ]
     },
     "execution_count": 10,
     "metadata": {},
     "output_type": "execute_result"
    }
   ],
   "source": [
    "splits"
   ]
  },
  {
   "cell_type": "markdown",
   "metadata": {
    "colab_type": "text",
    "hidden": true,
    "id": "kjPp9W16i-8n"
   },
   "source": [
    "As we have used a mmap_mode when loading data, the numpy array class is np.memmap (it means data is being read directly from memory), which is a subclass of np.ndarray."
   ]
  },
  {
   "cell_type": "code",
   "execution_count": 11,
   "metadata": {
    "ExecuteTime": {
     "end_time": "2020-03-21T11:45:23.144160Z",
     "start_time": "2020-03-21T11:45:23.122438Z"
    },
    "colab": {
     "base_uri": "https://localhost:8080/",
     "height": 34
    },
    "colab_type": "code",
    "hidden": true,
    "id": "rn7GoBK_i-8p",
    "outputId": "eb78d688-a7a4-46f6-da92-ec63aacee3e1"
   },
   "outputs": [
    {
     "data": {
      "text/plain": [
       "(numpy.memmap, True)"
      ]
     },
     "execution_count": 11,
     "metadata": {},
     "output_type": "execute_result"
    }
   ],
   "source": [
    "X_train.__class__, isinstance(X_train, np.ndarray)"
   ]
  },
  {
   "cell_type": "markdown",
   "metadata": {
    "colab_type": "text",
    "hidden": true,
    "id": "CojfT2VSi-7Z"
   },
   "source": [
    "☣️ **Something very important when you prepare your own data is that data needs to be in a 3-d array with the following format:**\n",
    "\n",
    "1. Samples\n",
    "2. Variables (1 for univariate or several for multivariate)\n",
    "3. Length (aka timesteps)\n",
    "\n",
    "\n",
    "All UEA & UCR Time Series Classification data have already been split between train and valid. When you use your own data, you'll have to split it yourself. We'll see examples of this in future notebooks."
   ]
  },
  {
   "cell_type": "markdown",
   "metadata": {
    "colab_type": "text",
    "heading_collapsed": true,
    "id": "W2X_fti4i-7c"
   },
   "source": [
    "## Building block: TSTensor"
   ]
  },
  {
   "cell_type": "markdown",
   "metadata": {
    "colab_type": "text",
    "hidden": true,
    "id": "Ov_GWkso8L6o"
   },
   "source": [
    "Since fastai is based on Pytorch, you'll need to somehow transform the numpy arrays to tensors at some point (TSTensor in our case). There's a transform function called ToTSTensor that transforms an array into a tensor of type TSTensor (which has a show method)."
   ]
  },
  {
   "cell_type": "code",
   "execution_count": 12,
   "metadata": {
    "ExecuteTime": {
     "end_time": "2020-03-21T11:45:23.207584Z",
     "start_time": "2020-03-21T11:45:23.153772Z"
    },
    "colab": {},
    "colab_type": "code",
    "hidden": true,
    "id": "W4DKkbPei-7f"
   },
   "outputs": [],
   "source": [
    "class TSTensor(TensorBase):\n",
    "    '''Returns a tensor of at least 2 dims of type torch.float32 and class TSTensor'''\n",
    "    def __new__(cls, o, dtype=torch.float32, **kwargs): \n",
    "        res = ToType(dtype)(To2DPlusTensor(o))\n",
    "        res.__class__ = cls\n",
    "        res._meta = kwargs\n",
    "        return res\n",
    "\n",
    "    @property\n",
    "    def vars(self): return self.shape[-2]\n",
    "\n",
    "    @property\n",
    "    def len(self): return self.shape[-1]\n",
    "    \n",
    "    def __getitem__(self, idx):\n",
    "        res = super().__getitem__(idx)\n",
    "        return retain_type(res, self)\n",
    "\n",
    "    def __repr__(self):\n",
    "        if self.ndim >= 3:   return f'TSTensor(samples:{self.shape[-3]}, vars:{self.shape[-2]}, len:{self.shape[-1]})'\n",
    "        elif self.ndim == 2: return f'TSTensor(vars:{self.shape[-2]}, len:{self.shape[-1]})'\n",
    "        elif self.ndim == 1: return f'TSTensor(len:{self.shape[-1]})'\n",
    "        else: return f'TSTensor(float)'\n",
    "\n",
    "    def show(self, ax=None, ctx=None, title=None, **kwargs):\n",
    "        ax = ifnone(ax,ctx)\n",
    "        if ax is None: fig, ax = plt.subplots(**kwargs)\n",
    "        ax.plot(self.T)\n",
    "        ax.axis(xmin=0, xmax=self.shape[-1] - 1)\n",
    "        ax.set_title(title, weight='bold')\n",
    "        plt.tight_layout()\n",
    "        return ax\n",
    "\n",
    "@Transform\n",
    "def ToTSTensor(o:np.ndarray, dtype=torch.float32, **kwargs): \n",
    "    \"\"\" Transforms input to tensor of dtype torch.float32\"\"\"\n",
    "    return TSTensor(o, dtype=dtype, **kwargs)"
   ]
  },
  {
   "cell_type": "code",
   "execution_count": 13,
   "metadata": {
    "ExecuteTime": {
     "end_time": "2020-03-21T11:45:23.239771Z",
     "start_time": "2020-03-21T11:45:23.216656Z"
    },
    "hidden": true
   },
   "outputs": [
    {
     "data": {
      "text/plain": [
       "(TSTensor(samples:9236, vars:1, len:1024),\n",
       " TSTensor(vars:1, len:1024),\n",
       " TSTensor(len:1024))"
      ]
     },
     "execution_count": 13,
     "metadata": {},
     "output_type": "execute_result"
    }
   ],
   "source": [
    "t = TSTensor(X)\n",
    "t, t[0], t[0][0]"
   ]
  },
  {
   "cell_type": "code",
   "execution_count": 14,
   "metadata": {
    "ExecuteTime": {
     "end_time": "2020-03-21T11:45:23.270187Z",
     "start_time": "2020-03-21T11:45:23.249112Z"
    },
    "hidden": true
   },
   "outputs": [
    {
     "data": {
      "text/plain": [
       "(TSTensor(samples:9236, vars:1, len:1024),\n",
       " TSTensor(vars:1, len:1024),\n",
       " TSTensor(len:1024))"
      ]
     },
     "execution_count": 14,
     "metadata": {},
     "output_type": "execute_result"
    }
   ],
   "source": [
    "t = ToTSTensor(X)\n",
    "t, t[0], t[0][0]"
   ]
  },
  {
   "cell_type": "code",
   "execution_count": 15,
   "metadata": {
    "ExecuteTime": {
     "end_time": "2020-03-21T11:45:25.447826Z",
     "start_time": "2020-03-21T11:45:23.278502Z"
    },
    "hidden": true
   },
   "outputs": [
    {
     "name": "stdout",
     "output_type": "stream",
     "text": [
      "26.3 µs ± 1.32 µs per loop (mean ± std. dev. of 7 runs, 10000 loops each)\n"
     ]
    }
   ],
   "source": [
    "%timeit TSTensor(X)"
   ]
  },
  {
   "cell_type": "code",
   "execution_count": 16,
   "metadata": {
    "ExecuteTime": {
     "end_time": "2020-03-21T11:45:27.387095Z",
     "start_time": "2020-03-21T11:45:25.456007Z"
    },
    "hidden": true
   },
   "outputs": [
    {
     "name": "stdout",
     "output_type": "stream",
     "text": [
      "233 µs ± 22 µs per loop (mean ± std. dev. of 7 runs, 1000 loops each)\n"
     ]
    }
   ],
   "source": [
    "%timeit ToTSTensor(X)"
   ]
  },
  {
   "cell_type": "markdown",
   "metadata": {
    "colab_type": "text",
    "hidden": true,
    "id": "pCW1Qmda8L6y"
   },
   "source": [
    "If you don't use time series, you may want to modify TSTensor and ToTSTensor to meet your needs. I've created a simple example you may want to use."
   ]
  },
  {
   "cell_type": "code",
   "execution_count": 17,
   "metadata": {
    "ExecuteTime": {
     "end_time": "2020-03-21T11:45:27.419257Z",
     "start_time": "2020-03-21T11:45:27.393849Z"
    },
    "colab": {},
    "colab_type": "code",
    "hidden": true,
    "id": "sTdI-JVy8L60"
   },
   "outputs": [],
   "source": [
    "class NumpyTensor(TensorBase):\n",
    "\n",
    "    def __new__(cls, o, **kwargs): \n",
    "        res = ToTensor(o)\n",
    "        res.__class__ = cls\n",
    "        res._meta = kwargs\n",
    "        return res\n",
    "    \n",
    "    def __getitem__(self, idx):\n",
    "        res = super().__getitem__(idx)\n",
    "        return retain_type(res, self)\n",
    "\n",
    "    def show(self, ax=None, ctx=None, title=None, **kwargs):\n",
    "        ax = ifnone(ax,ctx)\n",
    "        if ax is None: fig, ax = plt.subplots(**kwargs)\n",
    "        ax.plot(self.T)\n",
    "        ax.axis(xmin=0, xmax=self.shape[-1] - 1)\n",
    "        ax.set_title(title, weight='bold')\n",
    "        plt.tight_layout()\n",
    "        return ax\n",
    "\n",
    "@Transform\n",
    "def ToNumpyTensor(o:np.ndarray): \n",
    "    return NumpyTensor(o)"
   ]
  },
  {
   "cell_type": "code",
   "execution_count": 18,
   "metadata": {
    "ExecuteTime": {
     "end_time": "2020-03-21T11:45:28.053359Z",
     "start_time": "2020-03-21T11:45:27.425485Z"
    },
    "colab": {
     "base_uri": "https://localhost:8080/",
     "height": 317
    },
    "colab_type": "code",
    "hidden": true,
    "id": "uizzdrYD8L67",
    "outputId": "328b44b1-629c-4d98-e8e7-e804b8b69d5f"
   },
   "outputs": [
    {
     "data": {
      "image/png": "[encoded data removed]",
      "text/plain": [
       "<Figure size 432x288 with 1 Axes>"
      ]
     },
     "metadata": {
      "needs_background": "light"
     },
     "output_type": "display_data"
    }
   ],
   "source": [
    "nt = ToNumpyTensor(np.random.rand(4, 6))\n",
    "nt.show();"
   ]
  },
  {
   "cell_type": "markdown",
   "metadata": {
    "colab_type": "text",
    "hidden": true,
    "id": "hwqNvxOs8L7F"
   },
   "source": [
    "Let's go back to time series:"
   ]
  },
  {
   "cell_type": "code",
   "execution_count": 19,
   "metadata": {
    "ExecuteTime": {
     "end_time": "2020-03-21T11:45:28.078487Z",
     "start_time": "2020-03-21T11:45:28.060642Z"
    },
    "colab": {
     "base_uri": "https://localhost:8080/",
     "height": 54
    },
    "colab_type": "code",
    "hidden": true,
    "id": "WMsqLSMVi-7o",
    "outputId": "999b73b0-f78f-4683-fe4d-7891af8d9f1e"
   },
   "outputs": [
    {
     "data": {
      "text/plain": [
       "TSTensor(vars:1, len:1024)"
      ]
     },
     "execution_count": 19,
     "metadata": {},
     "output_type": "execute_result"
    }
   ],
   "source": [
    "t = ToTSTensor(X_train[0])\n",
    "t"
   ]
  },
  {
   "cell_type": "code",
   "execution_count": 20,
   "metadata": {
    "ExecuteTime": {
     "end_time": "2020-03-21T11:45:28.661957Z",
     "start_time": "2020-03-21T11:45:28.086182Z"
    },
    "colab": {
     "base_uri": "https://localhost:8080/",
     "height": 317
    },
    "colab_type": "code",
    "hidden": true,
    "id": "LXnsEE20i-7y",
    "outputId": "1683021e-8023-4d27-939e-f6a6b5d8b3d6"
   },
   "outputs": [
    {
     "data": {
      "image/png": "[encoded data removed]",
      "text/plain": [
       "<Figure size 432x288 with 1 Axes>"
      ]
     },
     "metadata": {
      "needs_background": "light"
     },
     "output_type": "display_data"
    }
   ],
   "source": [
    "t.show();"
   ]
  },
  {
   "cell_type": "code",
   "execution_count": 21,
   "metadata": {
    "ExecuteTime": {
     "end_time": "2020-03-21T11:45:28.680155Z",
     "start_time": "2020-03-21T11:45:28.668235Z"
    },
    "colab": {
     "base_uri": "https://localhost:8080/",
     "height": 54
    },
    "colab_type": "code",
    "hidden": true,
    "id": "xCuKQDski-79",
    "outputId": "8a084a1d-8ccb-4abb-ce89-4e04cfa3b6e9"
   },
   "outputs": [
    {
     "data": {
      "text/plain": [
       "(1, 1024, torch.float32)"
      ]
     },
     "execution_count": 21,
     "metadata": {},
     "output_type": "execute_result"
    }
   ],
   "source": [
    "t.vars, t.len, t.dtype"
   ]
  },
  {
   "cell_type": "code",
   "execution_count": 22,
   "metadata": {
    "ExecuteTime": {
     "end_time": "2020-03-21T11:45:28.695103Z",
     "start_time": "2020-03-21T11:45:28.686147Z"
    },
    "hidden": true
   },
   "outputs": [],
   "source": [
    "# This is a convenience function will use later proposed by Thomas Capelle @tcapelle to be able to easily benchmark performance\n",
    "def cycle_dl(dl):\n",
    "    for x,y in iter(dl): pass"
   ]
  },
  {
   "cell_type": "markdown",
   "metadata": {
    "colab_type": "text",
    "heading_collapsed": true,
    "id": "OcoqcJlfu-X5"
   },
   "source": [
    "## Option 1: DataBlock API"
   ]
  },
  {
   "cell_type": "code",
   "execution_count": 23,
   "metadata": {
    "ExecuteTime": {
     "end_time": "2020-03-21T11:45:29.215399Z",
     "start_time": "2020-03-21T11:45:28.718401Z"
    },
    "hidden": true
   },
   "outputs": [],
   "source": [
    "def TSTensorBlock(): \n",
    "    return TransformBlock(item_tfms=ToTSTensor)\n",
    "\n",
    "splitter=IndexSplitter(splits[1])\n",
    "getters = [ItemGetter(0), ItemGetter(1)]\n",
    "dblock = DataBlock(blocks=(TSTensorBlock, CategoryBlock),\n",
    "                   getters=getters,\n",
    "                   splitter=splitter,\n",
    "                   item_tfms=None,\n",
    "                   batch_tfms=None)\n",
    "source = itemify(X,y)\n",
    "dls = dblock.dataloaders(source, bs=64, val_bs=128)"
   ]
  },
  {
   "cell_type": "code",
   "execution_count": 24,
   "metadata": {
    "ExecuteTime": {
     "end_time": "2020-03-21T11:45:33.561267Z",
     "start_time": "2020-03-21T11:45:29.225119Z"
    },
    "hidden": true
   },
   "outputs": [
    {
     "name": "stdout",
     "output_type": "stream",
     "text": [
      "CPU times: user 171 ms, sys: 157 ms, total: 328 ms\n",
      "Wall time: 4.31 s\n"
     ]
    }
   ],
   "source": [
    "%time cycle_dl(dls.valid)"
   ]
  },
  {
   "cell_type": "markdown",
   "metadata": {
    "colab_type": "text",
    "heading_collapsed": true,
    "id": "_6XQRXeB8L7h"
   },
   "source": [
    "## Option 2: DataLoaders"
   ]
  },
  {
   "cell_type": "code",
   "execution_count": 25,
   "metadata": {
    "ExecuteTime": {
     "end_time": "2020-03-21T11:45:33.591147Z",
     "start_time": "2020-03-21T11:45:33.568680Z"
    },
    "colab": {},
    "colab_type": "code",
    "hidden": true,
    "id": "nFKJf4invCTQ"
   },
   "outputs": [],
   "source": [
    "class TSDataLoaders(DataLoaders):\n",
    "    @classmethod\n",
    "    @delegates(DataLoaders.from_dblock)\n",
    "    def from_numpy(cls, X, y=None, splitter=None, valid_pct=0.2, seed=0, item_tfms=None, batch_tfms=None, **kwargs):\n",
    "        \"Create timeseries dataloaders from arrays (X and y, unless unlabeled)\"\n",
    "        if splitter is None: splitter = RandomSplitter(valid_pct=valid_pct, seed=seed)\n",
    "        getters = [ItemGetter(0), ItemGetter(1)] if y is not None else [ItemGetter(0)]\n",
    "        dblock = DataBlock(blocks=(TSTensorBlock, CategoryBlock),\n",
    "                           getters=getters,\n",
    "                           splitter=splitter,\n",
    "                           item_tfms=item_tfms,\n",
    "                           batch_tfms=batch_tfms)\n",
    "\n",
    "        source = itemify(X) if y is None else itemify(X,y)\n",
    "        return cls.from_dblock(dblock, source, **kwargs)"
   ]
  },
  {
   "cell_type": "code",
   "execution_count": 26,
   "metadata": {
    "ExecuteTime": {
     "end_time": "2020-03-21T11:45:35.001467Z",
     "start_time": "2020-03-21T11:45:33.597787Z"
    },
    "colab": {},
    "colab_type": "code",
    "hidden": true,
    "id": "pH-eVuckvFXW"
   },
   "outputs": [
    {
     "data": {
      "text/plain": [
       "(TSTensor(samples:128, vars:1, len:1024),\n",
       " TensorCategory([1, 2, 2, 0, 1, 2, 2, 2, 1, 2, 2, 2, 2, 2, 2, 0, 2, 2, 2, 0, 0, 2, 2, 2,\n",
       "         1, 0, 2, 0, 2, 1, 2, 2, 1, 2, 1, 1, 1, 1, 1, 2, 2, 0, 2, 2, 1, 0, 0, 2,\n",
       "         2, 2, 2, 1, 0, 0, 2, 2, 2, 2, 2, 2, 0, 0, 1, 2, 2, 1, 2, 2, 2, 0, 0, 2,\n",
       "         1, 1, 1, 2, 2, 1, 1, 1, 1, 2, 2, 2, 2, 2, 1, 1, 2, 1, 2, 2, 0, 2, 0, 2,\n",
       "         2, 2, 2, 2, 2, 2, 1, 1, 1, 2, 2, 2, 1, 0, 2, 2, 0, 2, 2, 1, 2, 1, 2, 2,\n",
       "         2, 2, 2, 2, 1, 2, 2, 0]))"
      ]
     },
     "execution_count": 26,
     "metadata": {},
     "output_type": "execute_result"
    }
   ],
   "source": [
    "dls = TSDataLoaders.from_numpy(X, y, splitter=IndexSplitter(splits[1]), bs=64, val_bs=128)\n",
    "t = next(iter(dls.valid))\n",
    "t"
   ]
  },
  {
   "cell_type": "code",
   "execution_count": 27,
   "metadata": {
    "ExecuteTime": {
     "end_time": "2020-03-21T11:45:37.787521Z",
     "start_time": "2020-03-21T11:45:35.008189Z"
    },
    "colab": {
     "base_uri": "https://localhost:8080/",
     "height": 51
    },
    "colab_type": "code",
    "hidden": true,
    "id": "s0oOHeT4vPat",
    "outputId": "4b15c41f-b4f6-42bc-8864-9e695e6e643b"
   },
   "outputs": [
    {
     "name": "stdout",
     "output_type": "stream",
     "text": [
      "CPU times: user 159 ms, sys: 148 ms, total: 307 ms\n",
      "Wall time: 2.76 s\n"
     ]
    }
   ],
   "source": [
    "%time cycle_dl(dls.valid)"
   ]
  },
  {
   "cell_type": "markdown",
   "metadata": {
    "colab_type": "text",
    "heading_collapsed": true,
    "id": "aL-pVd7Yi-8J"
   },
   "source": [
    "## Option 3: Datasets + Dataloaders"
   ]
  },
  {
   "cell_type": "markdown",
   "metadata": {
    "colab_type": "text",
    "hidden": true,
    "id": "T-BFsyExi-8M"
   },
   "source": [
    "The second option requires to slightly modify Datasets and TfmdDL to take numpy arrays."
   ]
  },
  {
   "cell_type": "code",
   "execution_count": 28,
   "metadata": {
    "ExecuteTime": {
     "end_time": "2020-03-21T11:45:37.873539Z",
     "start_time": "2020-03-21T11:45:37.794381Z"
    },
    "colab": {},
    "colab_type": "code",
    "hidden": true,
    "id": "G5q0WEYri-8Q"
   },
   "outputs": [],
   "source": [
    "class NumpyDatasets(FilteredBase):\n",
    "    \"A dataset that creates a tuple from each `tfms`, passed thru `item_tfms`\"\n",
    "    def __init__(self, X=None, y=None, items=None, tfms=None, tls=None, n_inp=None, dl_type=None, **kwargs):\n",
    "        super().__init__(dl_type=dl_type)\n",
    "\n",
    "        #New 4 lines of code\n",
    "        if tls is None:\n",
    "            if items is None: items = itemify(X,) if y is None else itemify(X,y)\n",
    "            assert (tfms is None or len(items[0]) == len(tfms)), f\"n_tfms ({len(tfms)}) doesn't match n_items ({len(items[0])})\"\n",
    "            tfms = None if tfms is None else [[ItemGetter(i)] + L(tfms[i]) for i in range(len(items[0]))]\n",
    "        \n",
    "        self.tls = L(tls if tls else [TfmdLists(items, t, **kwargs) for t in L(ifnone(tfms,[None]))])\n",
    "        self.n_inp = (1 if len(self.tls)==1 else len(self.tls)-1) if n_inp is None else n_inp\n",
    "\n",
    "    def __getitem__(self, it):\n",
    "        res = tuple([tl[it] for tl in self.tls])\n",
    "        return res if is_indexer(it) else list(zip(*res))\n",
    "\n",
    "    def __getattr__(self,k): return gather_attrs(self, k, 'tls')\n",
    "    def __dir__(self): return super().__dir__() + gather_attr_names(self, 'tls')\n",
    "    def __len__(self): return len(self.tls[0])\n",
    "    def __iter__(self): return (self[i] for i in range(len(self)))\n",
    "    def __repr__(self): return coll_repr(self)\n",
    "    def decode(self, o, full=True): return tuple(tl.decode(o_, full=full) for o_,tl in zip(o,tuplify(self.tls, match=o)))\n",
    "    def subset(self, i): return type(self)(tls=L(tl.subset(i) for tl in self.tls), n_inp=self.n_inp)\n",
    "    def _new(self, items, *args, **kwargs): return super()._new(items, tfms=self.tfms, do_setup=False, **kwargs)\n",
    "    def overlapping_splits(self): return self.tls[0].overlapping_splits()\n",
    "    @property\n",
    "    def splits(self): return self.tls[0].splits\n",
    "    @property\n",
    "    def split_idx(self): return self.tls[0].tfms.split_idx\n",
    "    @property\n",
    "    def items(self): return self.tls[0].items\n",
    "    @items.setter\n",
    "    def items(self, v):\n",
    "        for tl in self.tls: tl.items = v\n",
    "\n",
    "    def show(self, o, ctx=None, **kwargs):\n",
    "        for o_,tl in zip(o,self.tls): ctx = tl.show(o_, ctx=ctx, **kwargs)\n",
    "        return ctx\n",
    "\n",
    "    def new_empty(self):\n",
    "        tls = [tl._new([], split_idx=tl.split_idx) for tl in self.tls]\n",
    "        return type(self)(tls=tls, n_inp=self.n_inp)\n",
    "\n",
    "    @contextmanager\n",
    "    def set_split_idx(self, i):\n",
    "        old_split_idx = self.split_idx\n",
    "        for tl in self.tls: tl.tfms.split_idx = i\n",
    "        yield self\n",
    "        for tl in self.tls: tl.tfms.split_idx = old_split_idx"
   ]
  },
  {
   "cell_type": "markdown",
   "metadata": {
    "colab_type": "text",
    "hidden": true,
    "id": "OMVrCxwzi-8z"
   },
   "source": [
    "Let's now build the datasets. We are going to use 2 transforms: \n",
    "\n",
    "- ToTSTensor: to transform X array into a TSTensor\n",
    "- Categorize(): to create a tensor label based on a dictionary of unique classes\n",
    "\n",
    "These are item transforms in fastai2 since we need to perform them at the item level, before a batch is created as the inputs to a batch must be tensors not numpy arrays."
   ]
  },
  {
   "cell_type": "code",
   "execution_count": 29,
   "metadata": {
    "ExecuteTime": {
     "end_time": "2020-03-21T11:45:38.270594Z",
     "start_time": "2020-03-21T11:45:37.880070Z"
    },
    "colab": {},
    "colab_type": "code",
    "hidden": true,
    "id": "4qj8e40gi-82"
   },
   "outputs": [],
   "source": [
    "tfms = [[ToTSTensor], [Categorize()]]\n",
    "dsets = NumpyDatasets(X, y, tfms=tfms, splits=splits)"
   ]
  },
  {
   "cell_type": "markdown",
   "metadata": {
    "colab_type": "text",
    "hidden": true,
    "id": "lW2Ne_0t8L8j"
   },
   "source": [
    "X data (that, remember, may be larger than RAM) is still on disk. Data conversion occurs only on demand (when you get an item from all items using __getitem__. When a batch needs to be created, the random selected samples are brought into memory and transformed into a tensor. This process occurs very quickly as I also showed in the 00 tutorial notebook. In this way you can efficiently use large numpy arrays with fastai2."
   ]
  },
  {
   "cell_type": "code",
   "execution_count": 30,
   "metadata": {
    "ExecuteTime": {
     "end_time": "2020-03-21T11:45:38.290125Z",
     "start_time": "2020-03-21T11:45:38.276581Z"
    },
    "colab": {
     "base_uri": "https://localhost:8080/",
     "height": 51
    },
    "colab_type": "code",
    "hidden": true,
    "id": "_k-CPEBM8L8k",
    "outputId": "736a1e08-3eda-43c8-c570-317d51eb3c21"
   },
   "outputs": [
    {
     "data": {
      "text/plain": [
       "(memmap([[0.5373029 , 0.53110296, 0.52850294, ..., 0.52640295, 0.51950294,\n",
       "          0.51140296]], dtype=float32), '3')"
      ]
     },
     "execution_count": 30,
     "metadata": {},
     "output_type": "execute_result"
    }
   ],
   "source": [
    "# A single item as stored in items (class np.memmap --> on disk)\n",
    "dsets.items[0]"
   ]
  },
  {
   "cell_type": "markdown",
   "metadata": {
    "colab_type": "text",
    "hidden": true,
    "id": "zObMMWhG8L8q"
   },
   "source": [
    "Here we select an item from the dataset, so the item is transformed into a TSTensor and a TensorCategory (a tuple is created)"
   ]
  },
  {
   "cell_type": "code",
   "execution_count": 31,
   "metadata": {
    "ExecuteTime": {
     "end_time": "2020-03-21T11:45:38.313552Z",
     "start_time": "2020-03-21T11:45:38.296260Z"
    },
    "colab": {
     "base_uri": "https://localhost:8080/",
     "height": 34
    },
    "colab_type": "code",
    "hidden": true,
    "id": "qkjS9bdPi-9B",
    "outputId": "0e6a75b2-d557-4dcb-c364-1c1021bfc80d"
   },
   "outputs": [
    {
     "data": {
      "text/plain": [
       "(TSTensor(vars:1, len:1024), TensorCategory(2))"
      ]
     },
     "execution_count": 31,
     "metadata": {},
     "output_type": "execute_result"
    }
   ],
   "source": [
    "# In memory\n",
    "dsets[0]"
   ]
  },
  {
   "cell_type": "code",
   "execution_count": 32,
   "metadata": {
    "ExecuteTime": {
     "end_time": "2020-03-21T11:45:38.344997Z",
     "start_time": "2020-03-21T11:45:38.319813Z"
    },
    "colab": {
     "base_uri": "https://localhost:8080/",
     "height": 51
    },
    "colab_type": "code",
    "hidden": true,
    "id": "zp1BvKlki-9O",
    "outputId": "199ed668-1a82-4449-e245-b952bdd3a7bf"
   },
   "outputs": [
    {
     "data": {
      "text/plain": [
       "(TSTensor(vars:1, len:1024),\n",
       " tensor([[0.5373, 0.5311, 0.5285,  ..., 0.5264, 0.5195, 0.5114]]))"
      ]
     },
     "execution_count": 32,
     "metadata": {},
     "output_type": "execute_result"
    }
   ],
   "source": [
    "dsets[0][0], dsets[0][0].data"
   ]
  },
  {
   "cell_type": "code",
   "execution_count": 33,
   "metadata": {
    "ExecuteTime": {
     "end_time": "2020-03-21T11:45:38.397546Z",
     "start_time": "2020-03-21T11:45:38.351244Z"
    },
    "colab": {
     "base_uri": "https://localhost:8080/",
     "height": 34
    },
    "colab_type": "code",
    "hidden": true,
    "id": "3nzFH4Gqi-9Y",
    "outputId": "88f96d10-b9ca-473d-b3ec-f8d934c969f3"
   },
   "outputs": [
    {
     "data": {
      "text/plain": [
       "(1000, 8236)"
      ]
     },
     "execution_count": 33,
     "metadata": {},
     "output_type": "execute_result"
    }
   ],
   "source": [
    "len(dsets.train), len(dsets.valid)"
   ]
  },
  {
   "cell_type": "code",
   "execution_count": 34,
   "metadata": {
    "ExecuteTime": {
     "end_time": "2020-03-21T11:45:38.978093Z",
     "start_time": "2020-03-21T11:45:38.404096Z"
    },
    "colab": {
     "base_uri": "https://localhost:8080/",
     "height": 313
    },
    "colab_type": "code",
    "hidden": true,
    "id": "5cb35zUyi-9r",
    "outputId": "d010f127-2ce2-4ce8-cf11-37416e0a1442"
   },
   "outputs": [
    {
     "data": {
      "image/png": "[encoded data removed]",
      "text/plain": [
       "<Figure size 432x288 with 1 Axes>"
      ]
     },
     "metadata": {
      "needs_background": "light"
     },
     "output_type": "display_data"
    }
   ],
   "source": [
    "dsets.show(dsets.train[0]);"
   ]
  },
  {
   "cell_type": "markdown",
   "metadata": {
    "colab_type": "text",
    "hidden": true,
    "id": "3nJa8tcki-92"
   },
   "source": [
    "For convenience, I've also adapted the TfmdDL to work more easily with time series. But most of the functionality is still the original fastai2."
   ]
  },
  {
   "cell_type": "code",
   "execution_count": 35,
   "metadata": {
    "ExecuteTime": {
     "end_time": "2020-03-21T11:45:39.029632Z",
     "start_time": "2020-03-21T11:45:38.983514Z"
    },
    "colab": {},
    "colab_type": "code",
    "hidden": true,
    "id": "SX0FwInLi-95"
   },
   "outputs": [],
   "source": [
    "#export\n",
    "class TSTfmdDL(TfmdDL): \n",
    "\n",
    "    @property\n",
    "    def vars(self): return self.dataset[0][0].shape[-2]\n",
    "    \n",
    "    @property\n",
    "    def len(self): return self.dataset[0][0].shape[-1]\n",
    "\n",
    "    @delegates(plt.subplots)\n",
    "    def show_batch(self, b=None, max_n=9, nrows=3, ncols=3, figsize=(12, 10), **kwargs):\n",
    "        if b is None: b = self.one_batch()\n",
    "        db = self.decode_batch(b, max_n=max_n)\n",
    "        if nrows is None: \n",
    "            sqrt = math.sqrt(len(db))\n",
    "            rows = min(math.ceil(sqrt), len(db)) \n",
    "        if ncols is None: ncols = len(db) // rnows\n",
    "        fig, axs = plt.subplots(nrows=nrows, ncols=ncols, figsize=figsize,  **kwargs)\n",
    "        for tup, ax in zip(db[:nrows ** 2], [axs] if nrows == 1 else axs.flatten()): \n",
    "            show_tuple(tup, ax=ax)\n",
    "        plt.tight_layout()\n",
    "\n",
    "    def test_dl(self:DataLoaders, test_items, rm_type_tfms=None, with_labels=False, **kwargs):\n",
    "        \"Create a test dataloader from `test_items` using validation transforms of `dls`\"\n",
    "        test = test_set(self.valid, test_items, rm_tfms=rm_type_tfms, with_labels=with_labels\n",
    "                        ) if isinstance(self.valid, (Datasets, NumpyDatasets, TfmdLists)) else test_items\n",
    "        return self.valid.new(test, **kwargs)\n",
    "\n",
    "@delegates(plt.subplots)\n",
    "def show_tuple(tup, ax=None, **kwargs):\n",
    "    \"Display a timeseries plot from a tuple\"\n",
    "    tup[0].show(title='unlabeled' if len(tup) == 1 else tup[1], ax=ax, **kwargs)"
   ]
  },
  {
   "cell_type": "code",
   "execution_count": 36,
   "metadata": {
    "ExecuteTime": {
     "end_time": "2020-03-21T11:45:39.049615Z",
     "start_time": "2020-03-21T11:45:39.036300Z"
    },
    "colab": {},
    "colab_type": "code",
    "hidden": true,
    "id": "SUQqA7WNi--C"
   },
   "outputs": [],
   "source": [
    "dls = TSTfmdDL(dsets, bs=64, val_bs=128)"
   ]
  },
  {
   "cell_type": "code",
   "execution_count": 37,
   "metadata": {
    "ExecuteTime": {
     "end_time": "2020-03-21T11:45:39.159895Z",
     "start_time": "2020-03-21T11:45:39.056564Z"
    },
    "colab": {
     "base_uri": "https://localhost:8080/",
     "height": 85
    },
    "colab_type": "code",
    "hidden": true,
    "id": "oLHDJ71Pi--L",
    "outputId": "f74a4d62-17d0-4d46-ddd8-e37555981ed9"
   },
   "outputs": [
    {
     "data": {
      "text/plain": [
       "(TSTensor(samples:64, vars:1, len:1024),\n",
       " TensorCategory([2, 2, 0, 2, 2, 1, 2, 1, 2, 2, 1, 2, 2, 2, 2, 2, 0, 1, 2, 1, 2, 0, 1, 0,\n",
       "         2, 2, 0, 2, 2, 2, 1, 2, 1, 1, 2, 0, 0, 1, 2, 0, 1, 2, 1, 2, 2, 1, 1, 2,\n",
       "         0, 0, 0, 2, 2, 2, 0, 2, 2, 2, 2, 1, 2, 2, 2, 0]))"
      ]
     },
     "execution_count": 37,
     "metadata": {},
     "output_type": "execute_result"
    }
   ],
   "source": [
    "xb, yb = dls.one_batch()\n",
    "xb, yb"
   ]
  },
  {
   "cell_type": "code",
   "execution_count": 38,
   "metadata": {
    "ExecuteTime": {
     "end_time": "2020-03-21T11:45:47.154177Z",
     "start_time": "2020-03-21T11:45:39.165415Z"
    },
    "colab": {
     "base_uri": "https://localhost:8080/",
     "height": 729
    },
    "colab_type": "code",
    "hidden": true,
    "id": "4Ubwyp9yi--W",
    "outputId": "47efa632-e432-48a0-f86e-e1c235f045d6",
    "scrolled": false
   },
   "outputs": [
    {
     "data": {
      "image/png": "[encoded data removed]",
      "text/plain": [
       "<Figure size 864x720 with 9 Axes>"
      ]
     },
     "metadata": {
      "needs_background": "light"
     },
     "output_type": "display_data"
    }
   ],
   "source": [
    "dls.show_batch(nrows=3, ncols=3, figsize=(12, 10), sharey=True)"
   ]
  },
  {
   "cell_type": "markdown",
   "metadata": {
    "colab_type": "text",
    "hidden": true,
    "id": "2nnGUVx3yhxC"
   },
   "source": [
    "So this is all the code you need to create dataloaders. We see that we can pass X and y either as np.arrays in memory or arrays on disk (np.memmap). NumpyDatasets accepts both types of arrays."
   ]
  },
  {
   "cell_type": "code",
   "execution_count": 39,
   "metadata": {
    "ExecuteTime": {
     "end_time": "2020-03-21T11:45:47.605931Z",
     "start_time": "2020-03-21T11:45:47.166633Z"
    },
    "colab": {},
    "colab_type": "code",
    "hidden": true,
    "id": "t-uCUmuL2IkI"
   },
   "outputs": [],
   "source": [
    "tfms  = [[ToTSTensor], [Categorize()]]\n",
    "dsets = NumpyDatasets(np.array(X), np.array(y), tfms=tfms, splits=splits)\n",
    "dls_in_memory   = TSTfmdDL(dsets, bs=64, val_bs=128)"
   ]
  },
  {
   "cell_type": "code",
   "execution_count": 40,
   "metadata": {
    "ExecuteTime": {
     "end_time": "2020-03-21T11:45:48.067760Z",
     "start_time": "2020-03-21T11:45:47.613661Z"
    },
    "colab": {},
    "colab_type": "code",
    "hidden": true,
    "id": "8OELNPsJi--q"
   },
   "outputs": [],
   "source": [
    "tfms  = [[ToTSTensor], [Categorize()]]\n",
    "dsets = NumpyDatasets(X, y, tfms=tfms, splits=splits)\n",
    "dls_on_disk   = TSTfmdDL(dsets, bs=64, val_bs=128)"
   ]
  },
  {
   "cell_type": "markdown",
   "metadata": {
    "colab_type": "text",
    "hidden": true,
    "id": "cdGYPv8K45b0"
   },
   "source": [
    "Let's compare performance between using data in memory vs data on disk: "
   ]
  },
  {
   "cell_type": "code",
   "execution_count": 41,
   "metadata": {
    "ExecuteTime": {
     "end_time": "2020-03-21T11:46:48.912121Z",
     "start_time": "2020-03-21T11:45:48.074685Z"
    },
    "colab": {
     "base_uri": "https://localhost:8080/",
     "height": 34
    },
    "colab_type": "code",
    "hidden": true,
    "id": "EwfqlMZ04iYb",
    "outputId": "b72c40e1-1c3d-47fa-a702-c085c368cf7c"
   },
   "outputs": [
    {
     "name": "stdout",
     "output_type": "stream",
     "text": [
      "7.55 s ± 261 ms per loop (mean ± std. dev. of 7 runs, 1 loop each)\n"
     ]
    }
   ],
   "source": [
    "# Data in memory\n",
    "%timeit cycle_dl(dls_in_memory.valid)"
   ]
  },
  {
   "cell_type": "code",
   "execution_count": 42,
   "metadata": {
    "ExecuteTime": {
     "end_time": "2020-03-21T11:47:52.637899Z",
     "start_time": "2020-03-21T11:46:48.918058Z"
    },
    "colab": {
     "base_uri": "https://localhost:8080/",
     "height": 34
    },
    "colab_type": "code",
    "hidden": true,
    "id": "hzA2GRu-i--1",
    "outputId": "e3b229bd-12be-4a42-e95f-78d736b35f6d"
   },
   "outputs": [
    {
     "name": "stdout",
     "output_type": "stream",
     "text": [
      "7.94 s ± 495 ms per loop (mean ± std. dev. of 7 runs, 1 loop each)\n"
     ]
    }
   ],
   "source": [
    "# Data on disk\n",
    "%timeit cycle_dl(dls_on_disk.valid)"
   ]
  },
  {
   "cell_type": "markdown",
   "metadata": {
    "colab_type": "text",
    "hidden": true,
    "id": "YE_ewfSD5Wad"
   },
   "source": [
    "So 2 learnings: \n",
    "\n",
    "- The 2nd option (build dataset + dataloader) seems to work a bit faster. I've run tests on different datasets, and the 2nd option has always come up a bit faster than the first one. It also provide some additional benefits (like the show_batch functionality, for example).\n",
    "\n",
    "- It makes no difference whether we use data in memory or on disk. That's great, as it allows to use this solution even with larger than memory datasets!"
   ]
  },
  {
   "cell_type": "markdown",
   "metadata": {
    "colab_type": "text",
    "heading_collapsed": true,
    "id": "RGnwm_lWPuA1"
   },
   "source": [
    "## Train model"
   ]
  },
  {
   "cell_type": "markdown",
   "metadata": {
    "colab_type": "text",
    "hidden": true,
    "id": "pcLXfiPk8L-C"
   },
   "source": [
    "So here is all the code you need to train a model."
   ]
  },
  {
   "cell_type": "code",
   "execution_count": 43,
   "metadata": {
    "ExecuteTime": {
     "end_time": "2020-03-21T11:47:52.659228Z",
     "start_time": "2020-03-21T11:47:52.647735Z"
    },
    "colab": {
     "base_uri": "https://localhost:8080/",
     "height": 824
    },
    "colab_type": "code",
    "hidden": true,
    "id": "47I_kzzS0Df4",
    "outputId": "17127408-791d-4391-c0fc-995719b0d35a"
   },
   "outputs": [],
   "source": [
    "# tfms  = [[ToTSTensor], [Categorize()]]\n",
    "# dsets = NumpyDatasets(X, y, tfms=tfms, splits=splits)\n",
    "# dls   = TSTfmdDL(dsets, bs=64, val_bs=128)\n",
    "# model = InceptionTime(dls.vars, dls.c)\n",
    "# learn = Learner(dls.dataloaders(), model, loss_func=nn.CrossEntropyLoss(), metrics=accuracy)\n",
    "# learn.fit_one_cycle(25, lr_max=1e-3)"
   ]
  },
  {
   "cell_type": "markdown",
   "metadata": {
    "colab_type": "text",
    "heading_collapsed": true,
    "id": "8XWZPF_xKNst"
   },
   "source": [
    "## Add test set"
   ]
  },
  {
   "cell_type": "markdown",
   "metadata": {
    "colab_type": "text",
    "hidden": true,
    "id": "yf8Zr_1SKRUm"
   },
   "source": [
    "One additional requirement is to be able to add a test set for inference. This can be done with a small modification of the test_set function to allow for NumpyDatasets:"
   ]
  },
  {
   "cell_type": "code",
   "execution_count": 44,
   "metadata": {
    "ExecuteTime": {
     "end_time": "2020-03-21T11:47:52.746898Z",
     "start_time": "2020-03-21T11:47:52.665856Z"
    },
    "colab": {},
    "colab_type": "code",
    "hidden": true,
    "id": "c2GK5tRk8L-a"
   },
   "outputs": [],
   "source": [
    "def add_data(dsets, X=None, y=None, test_items=None, rm_tfms=None, with_labels=False):\n",
    "    \"Create a test or unlabeled sets from `items` using validation transforms of `dsets`\"\n",
    "    items = itemify(X,) if y is None else itemify(X, y)\n",
    "    if y is None: with_labels = False\n",
    "    else: with_labels = True\n",
    "    if isinstance(dsets, (Datasets, NumpyDatasets)):\n",
    "        tls = dsets.tls if with_labels else dsets.tls[:dsets.n_inp]\n",
    "        new_tls = [tl._new(items, split_idx=1) for tl in tls]\n",
    "        if rm_tfms is None: rm_tfms = [tl.infer_idx(get_first(items)) for tl in new_tls]\n",
    "        else:               rm_tfms = tuplify(rm_tfms, match=new_tls)\n",
    "        for i,j in enumerate(rm_tfms): new_tls[i].tfms.fs = new_tls[i].tfms.fs[j:]\n",
    "        if isinstance(dsets, Datasets):return Datasets(tls=new_tls)\n",
    "        else: return NumpyDatasets(tls=new_tls)\n",
    "    elif isinstance(dsets, TfmdLists):\n",
    "        new_tl = dsets._new(items, split_idx=1)\n",
    "        if rm_tfms is None: rm_tfms = dsets.infer_idx(get_first(items))\n",
    "        new_tl.tfms.fs = new_tl.tfms.fs[rm_tfms:]\n",
    "        return new_tl\n",
    "    else: raise Exception(f\"This method requires using the fastai library to assemble your data.Expected a `Datasets` or a `TfmdLists` but got {dsets.__class__.__name__}\")\n",
    "\n",
    "NumpyDatasets.add_data = add_data"
   ]
  },
  {
   "cell_type": "markdown",
   "metadata": {
    "colab_type": "text",
    "hidden": true,
    "id": "l_pIGrdENp_k"
   },
   "source": [
    "To create the test dataloader, we'll pretend that X and y are test data since the UCR dataset only provides 2 sets of data we've used as train and valid."
   ]
  },
  {
   "cell_type": "code",
   "execution_count": 45,
   "metadata": {
    "ExecuteTime": {
     "end_time": "2020-03-21T11:47:53.789380Z",
     "start_time": "2020-03-21T11:47:52.756294Z"
    },
    "colab": {
     "base_uri": "https://localhost:8080/",
     "height": 34
    },
    "colab_type": "code",
    "hidden": true,
    "id": "g8aWe03HHRSw",
    "outputId": "2e77d827-0f5f-40e7-f170-86fb46c814a1"
   },
   "outputs": [
    {
     "data": {
      "text/plain": [
       "(TSTensor(samples:128, vars:1, len:1024),)"
      ]
     },
     "execution_count": 45,
     "metadata": {},
     "output_type": "execute_result"
    }
   ],
   "source": [
    "tfms    = [[ToTSTensor], [Categorize()]]\n",
    "dsets   = NumpyDatasets(X, y, tfms=tfms, splits=splits)\n",
    "tst_set = dsets.add_data(X)\n",
    "tst_dl  = TSTfmdDL(tst_set, bs=128)\n",
    "b       = tst_dl.one_batch()\n",
    "b"
   ]
  },
  {
   "cell_type": "markdown",
   "metadata": {
    "colab_type": "text",
    "hidden": true,
    "id": "_LMdXXFD8MAA"
   },
   "source": [
    "The transforms applied to the test set are the same applied to the valid set."
   ]
  },
  {
   "cell_type": "code",
   "execution_count": 46,
   "metadata": {
    "ExecuteTime": {
     "end_time": "2020-03-21T11:47:53.808049Z",
     "start_time": "2020-03-21T11:47:53.795545Z"
    },
    "colab": {
     "base_uri": "https://localhost:8080/",
     "height": 34
    },
    "colab_type": "code",
    "hidden": true,
    "id": "IL5vnbkn8MAB",
    "outputId": "9496ec21-079f-425b-f41a-34be91d6afc5"
   },
   "outputs": [
    {
     "data": {
      "text/plain": [
       "Pipeline: itemgetter -> ToTSTensor"
      ]
     },
     "execution_count": 46,
     "metadata": {},
     "output_type": "execute_result"
    }
   ],
   "source": [
    "tst_set.tls[0].tfms"
   ]
  },
  {
   "cell_type": "markdown",
   "metadata": {
    "colab_type": "text",
    "hidden": true,
    "id": "G8B4C3g08MAG"
   },
   "source": [
    "We can even create a test set with labeled examples in case we want to measure performance during inference:"
   ]
  },
  {
   "cell_type": "code",
   "execution_count": 47,
   "metadata": {
    "ExecuteTime": {
     "end_time": "2020-03-21T11:47:54.743199Z",
     "start_time": "2020-03-21T11:47:53.814018Z"
    },
    "colab": {
     "base_uri": "https://localhost:8080/",
     "height": 136
    },
    "colab_type": "code",
    "hidden": true,
    "id": "tXa976KE_cbO",
    "outputId": "e0b8c8bf-d6c5-4c8a-de04-2cc182da098c"
   },
   "outputs": [
    {
     "data": {
      "text/plain": [
       "(TSTensor(samples:128, vars:1, len:1024),\n",
       " TensorCategory([2, 2, 0, 2, 2, 1, 2, 1, 2, 2, 1, 2, 2, 2, 2, 2, 0, 1, 2, 1, 2, 0, 1, 0,\n",
       "         2, 2, 0, 2, 2, 2, 1, 2, 1, 1, 2, 0, 0, 1, 2, 0, 1, 2, 1, 2, 2, 1, 1, 2,\n",
       "         0, 0, 0, 2, 2, 2, 0, 2, 2, 2, 2, 1, 2, 2, 2, 0, 1, 2, 2, 2, 2, 1, 1, 2,\n",
       "         1, 0, 1, 2, 2, 1, 1, 2, 2, 1, 1, 1, 2, 0, 2, 2, 1, 1, 2, 0, 2, 2, 2, 1,\n",
       "         2, 2, 1, 2, 1, 1, 2, 1, 2, 1, 2, 0, 2, 2, 1, 2, 2, 2, 2, 2, 1, 2, 1, 1,\n",
       "         2, 2, 2, 2, 1, 2, 0, 2]))"
      ]
     },
     "execution_count": 47,
     "metadata": {},
     "output_type": "execute_result"
    }
   ],
   "source": [
    "tfms    = [[ToTSTensor], [Categorize()]]\n",
    "dsets   = NumpyDatasets(X, y, tfms=tfms, splits=splits)\n",
    "tst_set = dsets.add_data(X, y)\n",
    "tst_dl  = TSTfmdDL(tst_set, bs=128)\n",
    "b       = tst_dl.one_batch()\n",
    "b"
   ]
  },
  {
   "cell_type": "markdown",
   "metadata": {
    "colab_type": "text",
    "heading_collapsed": true,
    "id": "A5nzzLJ-7pNc"
   },
   "source": [
    "## Unlabeled datasets"
   ]
  },
  {
   "cell_type": "markdown",
   "metadata": {
    "colab_type": "text",
    "hidden": true,
    "id": "J1pvVxj28MAO"
   },
   "source": [
    "Sometimes we need to create a dataloader that load just unlabeled data, processed in the same way as valid. This can be done in exactly the same way as the add test data. \n",
    "\n",
    "This is very common when using semi-supervised or self.supervised learning. \n",
    "I also wanted to check that this approach can handle those scenarios as well:"
   ]
  },
  {
   "cell_type": "code",
   "execution_count": 48,
   "metadata": {
    "ExecuteTime": {
     "end_time": "2020-03-21T11:47:55.458093Z",
     "start_time": "2020-03-21T11:47:54.753315Z"
    },
    "colab": {
     "base_uri": "https://localhost:8080/",
     "height": 34
    },
    "colab_type": "code",
    "hidden": true,
    "id": "jQmaA3Jt7sN-",
    "outputId": "3ce56217-5b3b-41c8-ee9d-f66b3a0bf114"
   },
   "outputs": [
    {
     "data": {
      "text/plain": [
       "(TSTensor(samples:128, vars:1, len:1024),)"
      ]
     },
     "execution_count": 48,
     "metadata": {},
     "output_type": "execute_result"
    }
   ],
   "source": [
    "tfms  = [[ToTSTensor]]\n",
    "dsets = NumpyDatasets(X, tfms=tfms, splits=splits)\n",
    "uset  = dsets.add_data(X)\n",
    "udl   = TSTfmdDL(uset, bs=128)\n",
    "xb    = udl.one_batch()\n",
    "xb"
   ]
  },
  {
   "cell_type": "markdown",
   "metadata": {
    "colab_type": "text",
    "hidden": true,
    "id": "gWWZIMS-_CQm"
   },
   "source": [
    "It returns tuples with just 1 element. Good. That's exactly what we need!"
   ]
  },
  {
   "cell_type": "markdown",
   "metadata": {
    "colab_type": "text",
    "heading_collapsed": true,
    "id": "pGUJW3ec7foC"
   },
   "source": [
    "## Summary"
   ]
  },
  {
   "cell_type": "markdown",
   "metadata": {
    "colab_type": "text",
    "hidden": true,
    "id": "_jKBxj_d7iec"
   },
   "source": [
    "Well, we've seen how we can meet all the requirements we listed before:\n",
    "\n",
    "- Be able to work with *numpy arrays with any number of dimensions* (for example, univariate or multivariate time series). ✅\n",
    "- Data may be *larger than RAM*, so it may be in memory or on disk. ✅\n",
    "- Use data on disk with similar *performance* to data in memory. ✅\n",
    "- Data is often *split*: \n",
    "    - X, y ✅\n",
    "    - X_train, X_valid, y_train, y_valid (less often) ✅\n",
    "- Add *test dataset*. ✅\n",
    "- Add an *unlabeled dataset* (for example for semi-supervised/ self-supervised learning). ✅\n",
    "\n",
    "All of them, together, is a pretty challanging set of requirements.\n",
    "\n",
    "I must say I'm impressed how little coding is necessary in fastai2 to meet all these numpy arrays/ time series requirements.\n",
    "\n",
    "I hope this provides some help on ways to leverage this excellent library!"
   ]
  }
 ],
 "metadata": {
  "accelerator": "GPU",
  "colab": {
   "include_colab_link": true,
   "name": "01_How_to_use_numpy_arrays_in_fastai2.ipynb",
   "provenance": []
  },
  "kernelspec": {
   "display_name": "Python 3",
   "language": "python",
   "name": "python3"
  },
  "language_info": {
   "codemirror_mode": {
    "name": "ipython",
    "version": 3
   },
   "file_extension": ".py",
   "mimetype": "text/x-python",
   "name": "python",
   "nbconvert_exporter": "python",
   "pygments_lexer": "ipython3",
   "version": "3.7.3"
  },
  "toc": {
   "base_numbering": 1,
   "nav_menu": {},
   "number_sections": true,
   "sideBar": true,
   "skip_h1_title": false,
   "title_cell": "Table of Contents",
   "title_sidebar": "Contents",
   "toc_cell": false,
   "toc_position": {},
   "toc_section_display": true,
   "toc_window_display": false
  }
 },
 "nbformat": 4,
 "nbformat_minor": 1
}
